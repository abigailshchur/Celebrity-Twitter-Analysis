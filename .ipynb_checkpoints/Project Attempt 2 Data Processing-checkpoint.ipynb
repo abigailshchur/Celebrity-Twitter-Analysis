{
 "cells": [
  {
   "cell_type": "code",
   "execution_count": 1,
   "metadata": {
    "collapsed": true
   },
   "outputs": [],
   "source": [
    "import tweepy, datetime, time\n",
    "from collections import defaultdict\n",
    "import numpy as np\n",
    "import pickle\n",
    "from nltk.classify import NaiveBayesClassifier\n",
    "from nltk.corpus import subjectivity\n",
    "from nltk.sentiment import SentimentAnalyzer\n",
    "from nltk.sentiment.util import *\n",
    "import re\n",
    "from textblob import TextBlob\n",
    "import pandas as pd\n",
    "import networkx as nx\n",
    "import matplotlib.pyplot as plt\n",
    "import csv"
   ]
  },
  {
   "cell_type": "code",
   "execution_count": 2,
   "metadata": {
    "collapsed": true
   },
   "outputs": [],
   "source": [
    "top_twitter_users = [\"@KingJames\", \"@KDTrey5\", \"@StephenCurry30\", \"@Cristiano\", \"@JohnCena\",\n",
    "                    \"@BarackObama\", \"@realDonaldTrump\", \"@HillaryClinton\", \"@BernieSanders\", \"@tedcruz\",\n",
    "                    \"@Oprah\", \"@RyanSeacrest\", \"@TheEllenShow\", \"@jimmykimmel\", \"@jimmyfalon\",\n",
    "                    \"@KimKardashian\",\"@justinbieber\", \"@KevinHart4real\", \"@ArianaGrande\", \"@ddlovato\",\n",
    "                    \"@NPR\", \"@FoxNews\", \"@CNN\", \"@nytimes\", \"@WSJ\",\n",
    "                    \"@Google\", \"@facebook\", \"@Uber\", \"@Starbucks\", \"@Apple\"];"
   ]
  },
  {
   "cell_type": "code",
   "execution_count": 3,
   "metadata": {
    "collapsed": true
   },
   "outputs": [],
   "source": [
    "top_twitter_users_lowered = [x.lower() for x in top_twitter_users]"
   ]
  },
  {
   "cell_type": "code",
   "execution_count": 4,
   "metadata": {
    "collapsed": true
   },
   "outputs": [],
   "source": [
    "twitter_users_idx = defaultdict(int)\n",
    "for i in range(len(top_twitter_users)):\n",
    "    twitter_users_idx[top_twitter_users[i]]=i"
   ]
  },
  {
   "cell_type": "code",
   "execution_count": 5,
   "metadata": {
    "collapsed": true
   },
   "outputs": [],
   "source": [
    "all_tweets = pickle.load(open(\"all_tweets_half.p\", \"rb\"))\n",
    "all_tweets_old = pickle.load(open(\"all_tweets.p\", \"rb\"))"
   ]
  },
  {
   "cell_type": "code",
   "execution_count": 6,
   "metadata": {
    "collapsed": true
   },
   "outputs": [],
   "source": [
    "for i in all_tweets_old:\n",
    "    if i in top_twitter_users and i not in all_tweets:\n",
    "        all_tweets[i] = all_tweets_old[i]"
   ]
  },
  {
   "cell_type": "code",
   "execution_count": 7,
   "metadata": {
    "collapsed": false
   },
   "outputs": [
    {
     "data": {
      "text/plain": [
       "19"
      ]
     },
     "execution_count": 7,
     "metadata": {},
     "output_type": "execute_result"
    }
   ],
   "source": [
    "len(all_tweets)"
   ]
  },
  {
   "cell_type": "code",
   "execution_count": 8,
   "metadata": {
    "collapsed": false
   },
   "outputs": [
    {
     "data": {
      "text/plain": [
       "15"
      ]
     },
     "execution_count": 8,
     "metadata": {},
     "output_type": "execute_result"
    }
   ],
   "source": [
    "entertainment_hash = [\"#Harambe\", \"#TheDress\", \"#BlueandBlack\", \"#WhiteandGold\", \"#OscarsSoWhite\",\n",
    "                     \"#PokemonGo\", \"#Oscars\", \"#LaLaLand\", \"#therevenant\", \"#moonlight\", \"#lemonade\",\n",
    "                     \"#blonde\", \"#GameofThrones\", \"buzz\", \"#OneDirection\"]\n",
    "entertainment_hash_lowered = [x.lower() for x in entertainment_hash]\n",
    "entertainment_hash_nohash = [x[1:] for x in entertainment_hash_lowered]\n",
    "len(entertainment_hash)"
   ]
  },
  {
   "cell_type": "code",
   "execution_count": 9,
   "metadata": {
    "collapsed": false
   },
   "outputs": [
    {
     "data": {
      "text/plain": [
       "15"
      ]
     },
     "execution_count": 9,
     "metadata": {},
     "output_type": "execute_result"
    }
   ],
   "source": [
    "sports_hash = [\"#FifaWWC\", \"#Warriors\", \"#SBXLIX\", \"#SB49\", \"#NBA\", \"#NFL\", \"#Rio2016\",\n",
    "              \"#Rio\", \"#Olympics\", \"#FifaWC\", \"#WorldCup\", \"#SuperBowl50\", \"#SuperBowl51\",\n",
    "              \"#superbowl\", \"#football \"]\n",
    "sports_hash_lowered = [x.lower() for x in sports_hash]\n",
    "sports_hash_nohash = [x[1:] for x in sports_hash_lowered]\n",
    "len(sports_hash)"
   ]
  },
  {
   "cell_type": "code",
   "execution_count": 10,
   "metadata": {
    "collapsed": false
   },
   "outputs": [
    {
     "data": {
      "text/plain": [
       "15"
      ]
     },
     "execution_count": 10,
     "metadata": {},
     "output_type": "execute_result"
    }
   ],
   "source": [
    "political_hash = [\"#Obama\", \"#Election2016\", \"#Trump\", \"#DonaldTrump\", \"#Brexit\", \"#ImWithHer\",\n",
    "                 \"#MakeAmericaGreatAgain\", \"#Obamacare\", \"#hillaryclinton\", \"#conservative\",\n",
    "                 \"republican\", \"#liberal\", \"#democrat\", \"#teaparty\", \"#president \"]\n",
    "political_hash_lowered = [x.lower() for x in political_hash]\n",
    "political_hash_nohash = [x[1:] for x in political_hash_lowered]\n",
    "len(political_hash)"
   ]
  },
  {
   "cell_type": "code",
   "execution_count": 11,
   "metadata": {
    "collapsed": false
   },
   "outputs": [
    {
     "data": {
      "text/plain": [
       "15"
      ]
     },
     "execution_count": 11,
     "metadata": {},
     "output_type": "execute_result"
    }
   ],
   "source": [
    "news_hash = [\"#CharlieHebdo\", \"#JeSuisParis\", \"#PrayforParis\", \"#Ebola\", \"#IamCait\",\n",
    "            \"#CaitlynJenner\", \"#ISIS\", \"#Aleppo\", \"#Syria\", \"#RefugeesWelcome\", \"#IStandWithAhmad\",\n",
    "            \"#BLM\", \"#BlackLivesMatter\", \"#LoveWins\", \"#MarriageEquality\"]\n",
    "news_hash_lowered = [x.lower() for x in news_hash]\n",
    "news_hash_nohash = [x[1:] for x in news_hash_lowered]\n",
    "len(news_hash)"
   ]
  },
  {
   "cell_type": "code",
   "execution_count": 12,
   "metadata": {
    "collapsed": true
   },
   "outputs": [],
   "source": [
    "topic_dict = {}\n",
    "for i in top_twitter_users:\n",
    "    topic_dict[i]={\"entertainment\":0, \"sports\":0, \"political\":0, \"news\":0}"
   ]
  },
  {
   "cell_type": "code",
   "execution_count": 13,
   "metadata": {
    "collapsed": true
   },
   "outputs": [],
   "source": [
    "for user in all_tweets:\n",
    "    for tweet in all_tweets[user]:\n",
    "        text = tweet['text'].lower()\n",
    "        c_e = 0\n",
    "        for i in entertainment_hash_lowered:\n",
    "            if i in text or i[1:] in text:\n",
    "                c_e+=1\n",
    "        if c_e > 0:\n",
    "            topic_dict[user]['entertainment']+=1\n",
    "        c_s = 0\n",
    "        for i in sports_hash_lowered:\n",
    "            if i in text or i[1:] in text:\n",
    "                c_s+=1\n",
    "        if c_s > 0:\n",
    "            topic_dict[user]['sports']+=1\n",
    "        c_p = 0\n",
    "        for i in political_hash_lowered:\n",
    "            if i in text or i[1:] in text:\n",
    "                c_p+=1\n",
    "        if c_p > 0:\n",
    "            topic_dict[user]['political']+=1\n",
    "        c_n = 0\n",
    "        for i in news_hash_lowered:\n",
    "            if i in text or i[1:] in text:\n",
    "                c_n+=1\n",
    "        if c_n > 0:\n",
    "            topic_dict[user]['news']+=1"
   ]
  },
  {
   "cell_type": "code",
   "execution_count": 14,
   "metadata": {
    "collapsed": false
   },
   "outputs": [],
   "source": [
    "e_counts = np.zeros(len(top_twitter_users))\n",
    "s_counts = np.zeros(len(top_twitter_users))\n",
    "p_counts = np.zeros(len(top_twitter_users))\n",
    "n_counts = np.zeros(len(top_twitter_users))\n",
    "for user in topic_dict:\n",
    "    index_user = twitter_users_idx[user]\n",
    "    e_counts[index_user] = topic_dict[user]['entertainment']\n",
    "    s_counts[index_user] = topic_dict[user]['sports']\n",
    "    p_counts[index_user] = topic_dict[user]['political']\n",
    "    n_counts[index_user] = topic_dict[user]['news']"
   ]
  },
  {
   "cell_type": "code",
   "execution_count": 15,
   "metadata": {
    "collapsed": true
   },
   "outputs": [],
   "source": [
    "aggTable = pd.DataFrame({'twitter_id': top_twitter_users, 'entertainment': e_counts, \n",
    "                         'political': p_counts, 'news': n_counts,\n",
    "                        'sports':s_counts})\n",
    "aggTable.to_csv('categorical_counts.csv')"
   ]
  },
  {
   "cell_type": "code",
   "execution_count": null,
   "metadata": {
    "collapsed": true
   },
   "outputs": [],
   "source": []
  }
 ],
 "metadata": {
  "kernelspec": {
   "display_name": "Python 2",
   "language": "python",
   "name": "python2"
  },
  "language_info": {
   "codemirror_mode": {
    "name": "ipython",
    "version": 2
   },
   "file_extension": ".py",
   "mimetype": "text/x-python",
   "name": "python",
   "nbconvert_exporter": "python",
   "pygments_lexer": "ipython2",
   "version": "2.7.11"
  }
 },
 "nbformat": 4,
 "nbformat_minor": 0
}
