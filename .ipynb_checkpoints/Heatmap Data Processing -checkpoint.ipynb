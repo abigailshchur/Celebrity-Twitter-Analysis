{
 "cells": [
  {
   "cell_type": "markdown",
   "metadata": {},
   "source": [
    "## Importing Data:"
   ]
  },
  {
   "cell_type": "code",
   "execution_count": 14,
   "metadata": {
    "collapsed": true
   },
   "outputs": [],
   "source": [
    "from collections import defaultdict\n",
    "from textblob import TextBlob\n",
    "import numpy as np\n",
    "import pickle\n",
    "import pandas as pd\n",
    "import csv\n",
    "import io, json\n",
    "import re"
   ]
  },
  {
   "cell_type": "code",
   "execution_count": 3,
   "metadata": {
    "collapsed": true
   },
   "outputs": [],
   "source": [
    "top_twitter_users = [\"@KingJames\", \"@KDTrey5\", \"@StephenCurry30\", \"@Cristiano\", \"@JohnCena\",\n",
    "                    \"@BarackObama\", \"@realDonaldTrump\", \"@HillaryClinton\", \"@BernieSanders\", \"@tedcruz\",\n",
    "                    \"@Oprah\", \"@RyanSeacrest\", \"@TheEllenShow\", \"@jimmykimmel\", \"@jimmyfallon\",\n",
    "                    \"@KimKardashian\",\"@justinbieber\", \"@KevinHart4real\", \"@ArianaGrande\", \"@ddlovato\"];\n",
    "top_twitter_users_lowered = [x.lower() for x in top_twitter_users]\n",
    "twitter_users_idx = defaultdict(int)\n",
    "for i in range(len(top_twitter_users)):\n",
    "    twitter_users_idx[top_twitter_users[i]]=i"
   ]
  },
  {
   "cell_type": "code",
   "execution_count": 4,
   "metadata": {
    "collapsed": true
   },
   "outputs": [],
   "source": [
    "all_tweets = pickle.load(open(\"all_tweets_half.p\", \"rb\"))\n",
    "all_tweets_old = pickle.load(open(\"all_tweets.p\", \"rb\"))"
   ]
  },
  {
   "cell_type": "code",
   "execution_count": 5,
   "metadata": {
    "collapsed": true
   },
   "outputs": [],
   "source": [
    "for i in all_tweets_old:\n",
    "    if i in top_twitter_users and i not in all_tweets:\n",
    "        all_tweets[i] = all_tweets_old[i]"
   ]
  },
  {
   "cell_type": "markdown",
   "metadata": {},
   "source": [
    "## Getting Subset of Tweets "
   ]
  },
  {
   "cell_type": "code",
   "execution_count": 10,
   "metadata": {
    "collapsed": true
   },
   "outputs": [],
   "source": [
    "def get_recipient(tweet):\n",
    "    return re.findall(r'\\B\\@\\w+\\b', tweet)"
   ]
  },
  {
   "cell_type": "code",
   "execution_count": 11,
   "metadata": {
    "collapsed": false
   },
   "outputs": [],
   "source": [
    "for user in top_twitter_users:\n",
    "    for i in range(len(all_tweets[user])):\n",
    "        all_tweets[user][i]['recipient'] = get_recipient(all_tweets[user][i]['text'])"
   ]
  },
  {
   "cell_type": "code",
   "execution_count": 12,
   "metadata": {
    "collapsed": false
   },
   "outputs": [],
   "source": [
    "good_tweets = defaultdict(list)\n",
    "for user in top_twitter_users:\n",
    "    for tweet in all_tweets[user]:\n",
    "        for recipient in tweet['recipient']:\n",
    "            tweet2=tweet.copy()\n",
    "            if (recipient.lower() in top_twitter_users_lowered) and (not recipient.lower()==user.lower()):\n",
    "                tweet2['recipient'] = [recipient]\n",
    "                good_tweets[user].append(tweet2)\n",
    "                break"
   ]
  },
  {
   "cell_type": "markdown",
   "metadata": {},
   "source": [
    "## Doing Some Sentiment Analysis"
   ]
  },
  {
   "cell_type": "code",
   "execution_count": 15,
   "metadata": {
    "collapsed": true
   },
   "outputs": [],
   "source": [
    "## REFERENCE : https://github.com/praritlamba/Mining-Twitter-Data-for-Sentiment-Analysis ##\n",
    "def processTweet(tweet_text):\n",
    "    tweet_text = tweet_text.lower()\n",
    "    tweet_text = re.sub('((www\\.[^\\s]+)|(https?://[^\\s]+))','URL',tweet_text)\n",
    "    tweet_text = re.sub('@[^\\s]+','AT_USER',tweet_text)\n",
    "    tweet_text = re.sub('[\\s]+', ' ', tweet_text)\n",
    "    tweet_text = re.sub(r'#([^\\s]+)', r'\\1', tweet_text)\n",
    "    tweet_text = tweet_text.strip('\\'\"')\n",
    "    return tweet_text\n",
    "\n",
    "def get_tweet_sentiment(tweet):\n",
    "    analysis = TextBlob(processTweet(tweet))\n",
    "    if analysis.sentiment.polarity > 0:\n",
    "        return 1 # positive\n",
    "    elif analysis.sentiment.polarity == 0:\n",
    "        return 0 # neutral\n",
    "    else:\n",
    "        return -1 # negative"
   ]
  },
  {
   "cell_type": "code",
   "execution_count": 16,
   "metadata": {
    "collapsed": true
   },
   "outputs": [],
   "source": [
    "for user in top_twitter_users:\n",
    "    for i in range(len(good_tweets[user])):\n",
    "        good_tweets[user][i]['sentiment'] = get_tweet_sentiment(good_tweets[user][i]['text'])"
   ]
  },
  {
   "cell_type": "markdown",
   "metadata": {},
   "source": [
    "## Creating table for tweets and sentiment for manual sentiment analysis"
   ]
  },
  {
   "cell_type": "code",
   "execution_count": 22,
   "metadata": {
    "collapsed": false
   },
   "outputs": [],
   "source": [
    "tweets = []\n",
    "sentiment = []\n",
    "for user in top_twitter_users:\n",
    "    for tweet in good_tweets[user]:\n",
    "        tweets.append(tweet[\"text\"].encode('ascii',errors='ignore'))\n",
    "        sentiment.append(tweet[\"sentiment\"])"
   ]
  },
  {
   "cell_type": "code",
   "execution_count": 23,
   "metadata": {
    "collapsed": false
   },
   "outputs": [],
   "source": [
    "aggTable = pd.DataFrame({'text': tweets, 'sentiment': sentiment})\n",
    "aggTable.to_csv('sentiment_table_old.csv')"
   ]
  },
  {
   "cell_type": "code",
   "execution_count": 42,
   "metadata": {
    "collapsed": false
   },
   "outputs": [],
   "source": [
    "aggTable = pd.read_csv('sentiment_table_new.csv')"
   ]
  },
  {
   "cell_type": "code",
   "execution_count": 43,
   "metadata": {
    "collapsed": true
   },
   "outputs": [],
   "source": [
    "tweet_to_sentiment = {}\n",
    "for i in range(len(aggTable)):\n",
    "    tweet_to_sentiment[aggTable[\"text\"][i]] = aggTable[\"sentiment\"][i]"
   ]
  },
  {
   "cell_type": "code",
   "execution_count": 47,
   "metadata": {
    "collapsed": false
   },
   "outputs": [],
   "source": [
    "data_combined = {}\n",
    "for user in top_twitter_users:\n",
    "    for tweet in good_tweets[user]:\n",
    "        for recipient in tweet[\"recipient\"]:\n",
    "            data_combined[user.lower()+\" \"+recipient.lower()] = {\"pos\":0, \"neg\":0, \"neutral\":0}"
   ]
  },
  {
   "cell_type": "code",
   "execution_count": 48,
   "metadata": {
    "collapsed": false
   },
   "outputs": [],
   "source": [
    "for user in top_twitter_users:\n",
    "    for tweet in good_tweets[user]:\n",
    "        if tweet[\"text\"] in tweet_to_sentiment:\n",
    "            s = tweet_to_sentiment[tweet[\"text\"]]\n",
    "        else:\n",
    "            s = 0\n",
    "        for recipient in tweet[\"recipient\"]:\n",
    "            if s==-1:\n",
    "                data_combined[user.lower()+\" \"+recipient.lower()][\"neg\"]+=1\n",
    "            elif s==1:\n",
    "                data_combined[user.lower()+\" \"+recipient.lower()][\"pos\"]+=1\n",
    "            else:\n",
    "                data_combined[user.lower()+\" \"+recipient.lower()][\"neutral\"]+=1"
   ]
  },
  {
   "cell_type": "code",
   "execution_count": 46,
   "metadata": {
    "collapsed": false
   },
   "outputs": [
    {
     "data": {
      "text/plain": [
       "{u'@ArianaGrande @BarackObama': {'neg': 0, 'neutral': 3, 'pos': 2},\n",
       " u'@ArianaGrande @RyanSeacrest': {'neg': 0, 'neutral': 0, 'pos': 2},\n",
       " u'@ArianaGrande @TheEllenShow': {'neg': 0, 'neutral': 1, 'pos': 0},\n",
       " u'@ArianaGrande @ddlovato': {'neg': 0, 'neutral': 1, 'pos': 2},\n",
       " u'@ArianaGrande @jimmyfallon': {'neg': 0, 'neutral': 11, 'pos': 5},\n",
       " u'@ArianaGrande @jimmykimmel': {'neg': 0, 'neutral': 1, 'pos': 0},\n",
       " u'@ArianaGrande @justinbieber': {'neg': 1, 'neutral': 1, 'pos': 2},\n",
       " u'@ArianaGrande @kevinhart4real': {'neg': 0, 'neutral': 0, 'pos': 1},\n",
       " u'@ArianaGrande @theellenshow': {'neg': 1, 'neutral': 1, 'pos': 0},\n",
       " u'@BarackObama @TheEllenShow': {'neg': 0, 'neutral': 2, 'pos': 1},\n",
       " u'@BarackObama @jimmyfallon': {'neg': 0, 'neutral': 1, 'pos': 1},\n",
       " u'@BernieSanders @HillaryClinton': {'neg': 14, 'neutral': 47, 'pos': 24},\n",
       " u'@BernieSanders @TedCruz': {'neg': 0, 'neutral': 2, 'pos': 0},\n",
       " u'@BernieSanders @hillaryclinton': {'neg': 1, 'neutral': 0, 'pos': 0},\n",
       " u'@BernieSanders @realDonaldTrump': {'neg': 8, 'neutral': 13, 'pos': 0},\n",
       " u'@BernieSanders @tedcruz': {'neg': 1, 'neutral': 0, 'pos': 0},\n",
       " u'@HillaryClinton @BernieSanders': {'neg': 0, 'neutral': 27, 'pos': 2},\n",
       " u'@HillaryClinton @KingJames': {'neg': 0, 'neutral': 9, 'pos': 2},\n",
       " u'@HillaryClinton @RealDonaldTrump': {'neg': 1, 'neutral': 0, 'pos': 0},\n",
       " u'@HillaryClinton @StephenCurry30': {'neg': 0, 'neutral': 0, 'pos': 1},\n",
       " u'@HillaryClinton @TedCruz': {'neg': 0, 'neutral': 1, 'pos': 0},\n",
       " u'@HillaryClinton @TheEllenShow': {'neg': 0, 'neutral': 1, 'pos': 0},\n",
       " u'@HillaryClinton @ddlovato': {'neg': 0, 'neutral': 1, 'pos': 1},\n",
       " u'@HillaryClinton @realDonaldTrump': {'neg': 19, 'neutral': 27, 'pos': 2},\n",
       " u'@HillaryClinton @realdonaldtrump': {'neg': 0, 'neutral': 5, 'pos': 0},\n",
       " u'@HillaryClinton @tedcruz': {'neg': 0, 'neutral': 1, 'pos': 0},\n",
       " u'@JohnCena @BarackObama': {'neg': 0, 'neutral': 0, 'pos': 1},\n",
       " u'@JohnCena @JimmyKimmel': {'neg': 0, 'neutral': 1, 'pos': 0},\n",
       " u'@JohnCena @KingJames': {'neg': 0, 'neutral': 2, 'pos': 2},\n",
       " u'@JohnCena @TheEllenShow': {'neg': 0, 'neutral': 0, 'pos': 3},\n",
       " u'@JohnCena @jimmyfallon': {'neg': 0, 'neutral': 1, 'pos': 2},\n",
       " u'@KevinHart4real @KingJames': {'neg': 0, 'neutral': 2, 'pos': 1},\n",
       " u'@KevinHart4real @Oprah': {'neg': 0, 'neutral': 0, 'pos': 1},\n",
       " u'@KevinHart4real @RyanSeacrest': {'neg': 0, 'neutral': 1, 'pos': 1},\n",
       " u'@KevinHart4real @StephenCurry30': {'neg': 0, 'neutral': 0, 'pos': 1},\n",
       " u'@KevinHart4real @TheEllenShow': {'neg': 0, 'neutral': 3, 'pos': 0},\n",
       " u'@KevinHart4real @jimmyfallon': {'neg': 0, 'neutral': 1, 'pos': 0},\n",
       " u'@KevinHart4real @kingjames': {'neg': 0, 'neutral': 1, 'pos': 0},\n",
       " u'@KimKardashian @HillaryClinton': {'neg': 0, 'neutral': 0, 'pos': 1},\n",
       " u'@KimKardashian @RyanSeacrest': {'neg': 0, 'neutral': 3, 'pos': 0},\n",
       " u'@KimKardashian @TheEllenShow': {'neg': 0, 'neutral': 1, 'pos': 4},\n",
       " u'@KimKardashian @barackobama': {'neg': 0, 'neutral': 0, 'pos': 1},\n",
       " u'@KimKardashian @ddlovato': {'neg': 0, 'neutral': 2, 'pos': 0},\n",
       " u'@KimKardashian @ryanseacrest': {'neg': 0, 'neutral': 1, 'pos': 0},\n",
       " u'@KimKardashian @theellenshow': {'neg': 0, 'neutral': 0, 'pos': 1},\n",
       " u'@KingJames @JohnCena': {'neg': 0, 'neutral': 1, 'pos': 0},\n",
       " u'@KingJames @KDTrey5': {'neg': 0, 'neutral': 1, 'pos': 0},\n",
       " u'@KingJames @StephenCurry30': {'neg': 0, 'neutral': 0, 'pos': 2},\n",
       " u'@KingJames @TheEllenShow': {'neg': 0, 'neutral': 0, 'pos': 1},\n",
       " u'@KingJames @jimmyfallon': {'neg': 0, 'neutral': 0, 'pos': 1},\n",
       " u'@KingJames @theellenshow': {'neg': 0, 'neutral': 1, 'pos': 0},\n",
       " u'@Oprah @HillaryClinton': {'neg': 0, 'neutral': 0, 'pos': 3},\n",
       " u'@Oprah @KimKardashian': {'neg': 0, 'neutral': 1, 'pos': 0},\n",
       " u'@Oprah @TheEllenShow': {'neg': 0, 'neutral': 3, 'pos': 7},\n",
       " u'@Oprah @jimmykimmel': {'neg': 0, 'neutral': 2, 'pos': 0},\n",
       " u'@RyanSeacrest @ArianaGrande': {'neg': 0, 'neutral': 2, 'pos': 3},\n",
       " u'@RyanSeacrest @BarackObama': {'neg': 0, 'neutral': 1, 'pos': 2},\n",
       " u'@RyanSeacrest @DDLovato': {'neg': 0, 'neutral': 1, 'pos': 0},\n",
       " u'@RyanSeacrest @HillaryClinton': {'neg': 0, 'neutral': 1, 'pos': 0},\n",
       " u'@RyanSeacrest @JimmyFallon': {'neg': 0, 'neutral': 4, 'pos': 1},\n",
       " u'@RyanSeacrest @JimmyKimmel': {'neg': 0, 'neutral': 1, 'pos': 0},\n",
       " u'@RyanSeacrest @JustinBieber': {'neg': 0, 'neutral': 4, 'pos': 3},\n",
       " u'@RyanSeacrest @KevinHart4real': {'neg': 0, 'neutral': 0, 'pos': 2},\n",
       " u'@RyanSeacrest @KimKardashian': {'neg': 0, 'neutral': 6, 'pos': 10},\n",
       " u'@RyanSeacrest @TheEllenShow': {'neg': 0, 'neutral': 0, 'pos': 3},\n",
       " u'@RyanSeacrest @arianagrande': {'neg': 0, 'neutral': 4, 'pos': 2},\n",
       " u'@RyanSeacrest @ddlovato': {'neg': 0, 'neutral': 11, 'pos': 15},\n",
       " u'@RyanSeacrest @hillaryclinton': {'neg': 0, 'neutral': 0, 'pos': 2},\n",
       " u'@RyanSeacrest @jimmyfallon': {'neg': 0, 'neutral': 4, 'pos': 2},\n",
       " u'@RyanSeacrest @jimmykimmel': {'neg': 0, 'neutral': 5, 'pos': 5},\n",
       " u'@RyanSeacrest @justinbieber': {'neg': 0, 'neutral': 11, 'pos': 17},\n",
       " u'@RyanSeacrest @kimkardashian': {'neg': 1, 'neutral': 1, 'pos': 2},\n",
       " u'@RyanSeacrest @theellenshow': {'neg': 0, 'neutral': 1, 'pos': 2},\n",
       " u'@StephenCurry30 @BarackObama': {'neg': 0, 'neutral': 0, 'pos': 1},\n",
       " u'@StephenCurry30 @KDTrey5': {'neg': 1, 'neutral': 2, 'pos': 0},\n",
       " u'@StephenCurry30 @KevinHart4real': {'neg': 0, 'neutral': 0, 'pos': 1},\n",
       " u'@StephenCurry30 @KingJames': {'neg': 0, 'neutral': 2, 'pos': 0},\n",
       " u'@StephenCurry30 @TheEllenShow': {'neg': 0, 'neutral': 0, 'pos': 1},\n",
       " u'@TheEllenShow @ArianaGrande': {'neg': 0, 'neutral': 4, 'pos': 1},\n",
       " u'@TheEllenShow @BarackObama': {'neg': 0, 'neutral': 7, 'pos': 13},\n",
       " u'@TheEllenShow @BernieSanders': {'neg': 0, 'neutral': 4, 'pos': 1},\n",
       " u'@TheEllenShow @DDLovato': {'neg': 0, 'neutral': 0, 'pos': 2},\n",
       " u'@TheEllenShow @HillaryClinton': {'neg': 0, 'neutral': 8, 'pos': 17},\n",
       " u'@TheEllenShow @JimmyFallon': {'neg': 0, 'neutral': 3, 'pos': 3},\n",
       " u'@TheEllenShow @JimmyKimmel': {'neg': 0, 'neutral': 5, 'pos': 8},\n",
       " u'@TheEllenShow @JohnCena': {'neg': 0, 'neutral': 1, 'pos': 1},\n",
       " u'@TheEllenShow @JustinBieber': {'neg': 0, 'neutral': 14, 'pos': 18},\n",
       " u'@TheEllenShow @KevinHart4Real': {'neg': 0, 'neutral': 1, 'pos': 0},\n",
       " u'@TheEllenShow @KevinHart4real': {'neg': 0, 'neutral': 1, 'pos': 1},\n",
       " u'@TheEllenShow @KimKardashian': {'neg': 0, 'neutral': 5, 'pos': 8},\n",
       " u'@TheEllenShow @KingJames': {'neg': 0, 'neutral': 1, 'pos': 3},\n",
       " u'@TheEllenShow @Oprah': {'neg': 0, 'neutral': 7, 'pos': 4},\n",
       " u'@TheEllenShow @RyanSeacrest': {'neg': 0, 'neutral': 0, 'pos': 1},\n",
       " u'@TheEllenShow @StephenCurry30': {'neg': 0, 'neutral': 1, 'pos': 2},\n",
       " u'@TheEllenShow @ddlovato': {'neg': 0, 'neutral': 1, 'pos': 4},\n",
       " u'@TheEllenShow @jimmykimmel': {'neg': 0, 'neutral': 1, 'pos': 0},\n",
       " u'@TheEllenShow @justinbieber': {'neg': 0, 'neutral': 1, 'pos': 1},\n",
       " u'@TheEllenShow @kimkardashian': {'neg': 0, 'neutral': 1, 'pos': 0},\n",
       " u'@ddlovato @ArianaGrande': {'neg': 0, 'neutral': 6, 'pos': 2},\n",
       " u'@ddlovato @BarackObama': {'neg': 0, 'neutral': 1, 'pos': 0},\n",
       " u'@ddlovato @HillaryClinton': {'neg': 0, 'neutral': 30, 'pos': 7},\n",
       " u'@ddlovato @KimKardashian': {'neg': 0, 'neutral': 2, 'pos': 0},\n",
       " u'@ddlovato @RyanSeacrest': {'neg': 0, 'neutral': 3, 'pos': 3},\n",
       " u'@ddlovato @TheEllenShow': {'neg': 0, 'neutral': 3, 'pos': 3},\n",
       " u'@ddlovato @Theellenshow': {'neg': 0, 'neutral': 1, 'pos': 0},\n",
       " u'@ddlovato @hillaryclinton': {'neg': 0, 'neutral': 1, 'pos': 0},\n",
       " u'@ddlovato @jimmykimmel': {'neg': 0, 'neutral': 2, 'pos': 0},\n",
       " u'@ddlovato @justinbieber': {'neg': 0, 'neutral': 1, 'pos': 0},\n",
       " u'@ddlovato @realDonaldTrump': {'neg': 0, 'neutral': 1, 'pos': 0},\n",
       " u'@jimmyfallon @ArianaGrande': {'neg': 0, 'neutral': 3, 'pos': 11},\n",
       " u'@jimmyfallon @BernieSanders': {'neg': 0, 'neutral': 1, 'pos': 0},\n",
       " u'@jimmyfallon @HillaryClinton': {'neg': 0, 'neutral': 4, 'pos': 0},\n",
       " u'@jimmyfallon @JohnCena': {'neg': 0, 'neutral': 0, 'pos': 2},\n",
       " u'@jimmyfallon @KevinHart4real': {'neg': 0, 'neutral': 2, 'pos': 9},\n",
       " u'@jimmyfallon @KingJames': {'neg': 0, 'neutral': 0, 'pos': 1},\n",
       " u'@jimmyfallon @RyanSeacrest': {'neg': 0, 'neutral': 2, 'pos': 3},\n",
       " u'@jimmyfallon @StephenCurry30': {'neg': 0, 'neutral': 1, 'pos': 1},\n",
       " u'@jimmyfallon @TedCruz': {'neg': 0, 'neutral': 0, 'pos': 1},\n",
       " u'@jimmyfallon @TheEllenShow': {'neg': 0, 'neutral': 1, 'pos': 4},\n",
       " u'@jimmyfallon @arianagrande': {'neg': 0, 'neutral': 1, 'pos': 0},\n",
       " u'@jimmyfallon @berniesanders': {'neg': 0, 'neutral': 0, 'pos': 1},\n",
       " u'@jimmyfallon @ddlovato': {'neg': 0, 'neutral': 2, 'pos': 0},\n",
       " u'@jimmyfallon @jimmykimmel': {'neg': 0, 'neutral': 1, 'pos': 0},\n",
       " u'@jimmyfallon @justinbieber': {'neg': 0, 'neutral': 4, 'pos': 7},\n",
       " u'@jimmyfallon @realDonaldTrump': {'neg': 0, 'neutral': 3, 'pos': 0},\n",
       " u'@jimmyfallon @tedcruz': {'neg': 0, 'neutral': 0, 'pos': 1},\n",
       " u'@jimmykimmel @ArianaGrande': {'neg': 0, 'neutral': 2, 'pos': 1},\n",
       " u'@jimmykimmel @BarackObama': {'neg': 0, 'neutral': 2, 'pos': 4},\n",
       " u'@jimmykimmel @BernieSanders': {'neg': 0, 'neutral': 2, 'pos': 0},\n",
       " u'@jimmykimmel @DDLovato': {'neg': 0, 'neutral': 2, 'pos': 0},\n",
       " u'@jimmykimmel @HillaryClinton': {'neg': 0, 'neutral': 13, 'pos': 0},\n",
       " u'@jimmykimmel @JohnCena': {'neg': 0, 'neutral': 1, 'pos': 0},\n",
       " u'@jimmykimmel @KevinHart4Real': {'neg': 0, 'neutral': 3, 'pos': 0},\n",
       " u'@jimmykimmel @KevinHart4real': {'neg': 0, 'neutral': 0, 'pos': 2},\n",
       " u'@jimmykimmel @KimKardashian': {'neg': 1, 'neutral': 2, 'pos': 1},\n",
       " u'@jimmykimmel @KingJames': {'neg': 0, 'neutral': 2, 'pos': 1},\n",
       " u'@jimmykimmel @Oprah': {'neg': 0, 'neutral': 0, 'pos': 1},\n",
       " u'@jimmykimmel @RealDonaldTrump': {'neg': 20, 'neutral': 53, 'pos': 0},\n",
       " u'@jimmykimmel @RyanSeacrest': {'neg': 0, 'neutral': 1, 'pos': 2},\n",
       " u'@jimmykimmel @StephenCurry30': {'neg': 0, 'neutral': 11, 'pos': 0},\n",
       " u'@jimmykimmel @TedCruz': {'neg': 0, 'neutral': 1, 'pos': 0},\n",
       " u'@jimmykimmel @TheEllenShow': {'neg': 0, 'neutral': 2, 'pos': 5},\n",
       " u'@jimmykimmel @jimmyfallon': {'neg': 0, 'neutral': 5, 'pos': 2},\n",
       " u'@jimmykimmel @justinbieber': {'neg': 0, 'neutral': 0, 'pos': 1},\n",
       " u'@jimmykimmel @realDonaldTrump': {'neg': 2, 'neutral': 1, 'pos': 1},\n",
       " u'@justinbieber @ArianaGrande': {'neg': 0, 'neutral': 11, 'pos': 6},\n",
       " u'@justinbieber @JimmyFallon': {'neg': 0, 'neutral': 1, 'pos': 0},\n",
       " u'@justinbieber @KevinHart4real': {'neg': 0, 'neutral': 3, 'pos': 4},\n",
       " u'@justinbieber @KimKardashian': {'neg': 0, 'neutral': 1, 'pos': 0},\n",
       " u'@justinbieber @RyanSeacrest': {'neg': 0, 'neutral': 5, 'pos': 13},\n",
       " u'@justinbieber @TheEllenShow': {'neg': 0, 'neutral': 20, 'pos': 18},\n",
       " u'@justinbieber @arianagrande': {'neg': 0, 'neutral': 1, 'pos': 0},\n",
       " u'@justinbieber @jimmyfallon': {'neg': 0, 'neutral': 5, 'pos': 8},\n",
       " u'@justinbieber @ryanseacrest': {'neg': 0, 'neutral': 0, 'pos': 1},\n",
       " u'@justinbieber @theellenshow': {'neg': 0, 'neutral': 0, 'pos': 3},\n",
       " u'@realDonaldTrump @BarackObama': {'neg': 1, 'neutral': 0, 'pos': 0},\n",
       " u'@realDonaldTrump @BernieSanders': {'neg': 1, 'neutral': 0, 'pos': 1},\n",
       " u'@realDonaldTrump @HillaryClinton': {'neg': 20, 'neutral': 29, 'pos': 0},\n",
       " u'@realDonaldTrump @TedCruz': {'neg': 0, 'neutral': 1, 'pos': 0},\n",
       " u'@realDonaldTrump @hillaryclinton': {'neg': 0, 'neutral': 1, 'pos': 0},\n",
       " u'@realDonaldTrump @jimmyfallon': {'neg': 0, 'neutral': 2, 'pos': 0},\n",
       " u'@realDonaldTrump @tedcruz': {'neg': 1, 'neutral': 4, 'pos': 1},\n",
       " u'@tedcruz @BernieSanders': {'neg': 0, 'neutral': 8, 'pos': 0},\n",
       " u'@tedcruz @HillaryClinton': {'neg': 3, 'neutral': 7, 'pos': 0},\n",
       " u'@tedcruz @JimmyFallon': {'neg': 0, 'neutral': 1, 'pos': 0},\n",
       " u'@tedcruz @JimmyKimmel': {'neg': 0, 'neutral': 1, 'pos': 0},\n",
       " u'@tedcruz @RealDonaldTrump': {'neg': 1, 'neutral': 0, 'pos': 0},\n",
       " u'@tedcruz @jimmyfallon': {'neg': 0, 'neutral': 2, 'pos': 0},\n",
       " u'@tedcruz @jimmykimmel': {'neg': 0, 'neutral': 2, 'pos': 0},\n",
       " u'@tedcruz @realDonaldTrump': {'neg': 16, 'neutral': 62, 'pos': 3},\n",
       " u'@tedcruz @realdonaldtrump': {'neg': 0, 'neutral': 4, 'pos': 0}}"
      ]
     },
     "execution_count": 46,
     "metadata": {},
     "output_type": "execute_result"
    }
   ],
   "source": [
    "data_combined2 = {}\n",
    "for user1 in top_twitter_users:\n",
    "    for user2 in top_twitter_users:\n",
    "        if user1.lower()+\" \"+user2.lower() in data_combined:\n",
    "            data_combined2[user1+\" \"+user2] = data_combined[user1.lower()+\" \"+user2.lower()]"
   ]
  },
  {
   "cell_type": "code",
   "execution_count": 39,
   "metadata": {
    "collapsed": false
   },
   "outputs": [],
   "source": [
    "with io.open('reply_sentiment_counts.json', 'w', encoding='utf-8') as f:\n",
    "  f.write(unicode(json.dumps(data_combined, ensure_ascii=False)))"
   ]
  }
 ],
 "metadata": {
  "kernelspec": {
   "display_name": "Python 2",
   "language": "python",
   "name": "python2"
  },
  "language_info": {
   "codemirror_mode": {
    "name": "ipython",
    "version": 2
   },
   "file_extension": ".py",
   "mimetype": "text/x-python",
   "name": "python",
   "nbconvert_exporter": "python",
   "pygments_lexer": "ipython2",
   "version": "2.7.11"
  }
 },
 "nbformat": 4,
 "nbformat_minor": 0
}
