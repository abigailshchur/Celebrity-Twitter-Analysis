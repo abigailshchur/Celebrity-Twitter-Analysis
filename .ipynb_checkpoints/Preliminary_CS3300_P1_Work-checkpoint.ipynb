{
 "cells": [
  {
   "cell_type": "markdown",
   "metadata": {},
   "source": [
    "# Project 1: #"
   ]
  },
  {
   "cell_type": "markdown",
   "metadata": {},
   "source": [
    "### Scraping Twitter Fun  ###"
   ]
  },
  {
   "cell_type": "code",
   "execution_count": 66,
   "metadata": {
    "collapsed": false
   },
   "outputs": [],
   "source": [
    "import tweepy, datetime, time\n",
    "from collections import defaultdict\n",
    "import numpy as np\n",
    "import pickle\n",
    "from nltk.classify import NaiveBayesClassifier\n",
    "from nltk.corpus import subjectivity\n",
    "from nltk.sentiment import SentimentAnalyzer\n",
    "from nltk.sentiment.util import *\n",
    "import re\n",
    "from textblob import TextBlob\n",
    "import pandas as pd\n",
    "import networkx as nx\n",
    "import matplotlib.pyplot as plt"
   ]
  },
  {
   "cell_type": "code",
   "execution_count": 50,
   "metadata": {
    "collapsed": true
   },
   "outputs": [],
   "source": [
    "consumer_key = [\"ne2hSR72VjPTtmeivfXlIi37h\", \"DYUxA5grfCTJAHIRMXEj4GQ8e\", \"AkrI7FFc1bjehLmcJXvXoNfwf\"]\n",
    "consumer_secret = [\"q4oBCvYhbOk2SbZXUMdcO5JPMG3vsDkoyvzuqqnR4504JBe7mn\", \"ghkqjLB21CJS134GW5hQuxQwujSNiSfV9Cs3epIqXOiSvKLx3v\"\n",
    "                  , \"OEoucWYInX76nz2hgXnRKo0EGXW3JQwz8dOXONg5QdKNQf0gVS\"]\n",
    "access_key = [\"833804028421271552-yqHA222U5iL3HxelhePVy6MDgb4d06w\", \"833822897827434501-y6fSz8tM42eonCrPPdYp7cbkBbvqM7F\"\n",
    "             ,\"833824946497388544-hJbqSgAooo01RtyuMLQnJbxIJ9R39S0\"]\n",
    "access_secret = [\"WQROg2RmQCmkgF10JgZOxIsYqxDkwdM6u5MSjyqpWmvzR\", \"Q1TlJcbgMA3cM2FMhrKGCdJARUN4i3AumrxzuV4RBYVvD\"\n",
    "                ,\"9pFmZdhgTnWmgPPxngOrnI2HdSVXHGzHJqgcEebRzcnVs\"]"
   ]
  },
  {
   "cell_type": "code",
   "execution_count": 51,
   "metadata": {
    "collapsed": true
   },
   "outputs": [],
   "source": [
    "auth = tweepy.OAuthHandler(consumer_key[1], consumer_secret[1])\n",
    "auth.set_access_token(access_key[1], access_secret[1])\n",
    "api = tweepy.API(auth)"
   ]
  },
  {
   "cell_type": "code",
   "execution_count": 2,
   "metadata": {
    "collapsed": true
   },
   "outputs": [],
   "source": [
    "top_twitter_users = [\"@katyperry\", \"@justinbieber\", \"@BarackObama\", \"@taylorswift13\", \"@rihanna\",\n",
    "                    \"@TheEllenShow\", \"@ladygaga\", \"@jtimberlake\", \"@britneyspears\", \"@KimKardashian\",\n",
    "                    \"@Cristiano\", \"@selenagomez\", \"@jimmyfallon\", \"@ArianaGrande\", \"@shakira\", \n",
    "                    \"@ddlovato\", \"@MileyCyrus\", \"@kanyewest\", \"@realDonaldTrump\"]"
   ]
  },
  {
   "cell_type": "code",
   "execution_count": 44,
   "metadata": {
    "collapsed": true
   },
   "outputs": [],
   "source": [
    "twitter_users_idx = defaultdict(int)\n",
    "for i in range(len(top_twitter_users)):\n",
    "    twitter_users_idx[top_twitter_users[i]]=i"
   ]
  },
  {
   "cell_type": "code",
   "execution_count": 53,
   "metadata": {
    "collapsed": true
   },
   "outputs": [],
   "source": [
    "def update_keys(iteration):\n",
    "    auth = tweepy.OAuthHandler(consumer_key[iteration], consumer_secret[iteration])\n",
    "    auth.set_access_token(access_key[iteration], access_secret[iteration])\n",
    "    return tweepy.API(auth)"
   ]
  },
  {
   "cell_type": "code",
   "execution_count": 54,
   "metadata": {
    "collapsed": false
   },
   "outputs": [],
   "source": [
    "all_tweets = defaultdict(list)\n",
    "for user in top_twitter_users:\n",
    "    if user == top_twitter_users[13]:\n",
    "        api = update_keys(2)\n",
    "    qr = tweepy.Cursor(api.user_timeline, id=user)\n",
    "    for tw in qr.items():\n",
    "        created = tw.created_at\n",
    "        if created < datetime.datetime(2016, 1, 1, 0, 0):\n",
    "            break\n",
    "        all_tweets[user].append({'text': tw.text, 'date': tw.created_at})"
   ]
  },
  {
   "cell_type": "code",
   "execution_count": 55,
   "metadata": {
    "collapsed": false
   },
   "outputs": [],
   "source": [
    "pickle.dump(all_tweets, open(\"all_tweets.p\", \"wb\"))"
   ]
  },
  {
   "cell_type": "markdown",
   "metadata": {},
   "source": [
    "### Doing Some Sentiment Analysis ###"
   ]
  },
  {
   "cell_type": "code",
   "execution_count": 3,
   "metadata": {
    "collapsed": false
   },
   "outputs": [],
   "source": [
    "all_tweets = pickle.load(open(\"all_tweets.p\", \"rb\"))"
   ]
  },
  {
   "cell_type": "code",
   "execution_count": 4,
   "metadata": {
    "collapsed": true
   },
   "outputs": [],
   "source": [
    "def processTweet(tweet_text):\n",
    "    tweet_text = tweet_text.lower()\n",
    "    tweet_text = re.sub('((www\\.[^\\s]+)|(https?://[^\\s]+))','URL',tweet_text)\n",
    "    tweet_text = re.sub('@[^\\s]+','AT_USER',tweet_text)\n",
    "    tweet_text = re.sub('[\\s]+', ' ', tweet_text)\n",
    "    tweet_text = re.sub(r'#([^\\s]+)', r'\\1', tweet_text)\n",
    "    tweet_text = tweet_text.strip('\\'\"')\n",
    "    return tweet_text"
   ]
  },
  {
   "cell_type": "code",
   "execution_count": 29,
   "metadata": {
    "collapsed": true
   },
   "outputs": [],
   "source": [
    "def get_tweet_sentiment(tweet):\n",
    "    analysis = TextBlob(processTweet(tweet))\n",
    "    if analysis.sentiment.polarity > 0:\n",
    "        return 1 # positive\n",
    "    elif analysis.sentiment.polarity == 0:\n",
    "        return 0 # neutral\n",
    "    else:\n",
    "        return -1 # negative"
   ]
  },
  {
   "cell_type": "code",
   "execution_count": 30,
   "metadata": {
    "collapsed": false
   },
   "outputs": [],
   "source": [
    "for user in top_twitter_users:\n",
    "    for i in range(len(all_tweets[user])):\n",
    "        all_tweets[user][i]['sentiment'] = get_tweet_sentiment(all_tweets[user][i]['text'])"
   ]
  },
  {
   "cell_type": "markdown",
   "metadata": {},
   "source": [
    "### Adding Recipient of Tweet to Data###"
   ]
  },
  {
   "cell_type": "code",
   "execution_count": 50,
   "metadata": {
    "collapsed": true
   },
   "outputs": [],
   "source": [
    "def get_recipient(tweet):\n",
    "    return re.findall(r'\\B\\@\\w+\\b', tweet)"
   ]
  },
  {
   "cell_type": "code",
   "execution_count": 51,
   "metadata": {
    "collapsed": false
   },
   "outputs": [],
   "source": [
    "for user in top_twitter_users:\n",
    "    for i in range(len(all_tweets[user])):\n",
    "        all_tweets[user][i]['recipient'] = get_recipient(all_tweets[user][i]['text'])"
   ]
  },
  {
   "cell_type": "markdown",
   "metadata": {},
   "source": [
    "### Removing Tweets Not Sent to Top Users###"
   ]
  },
  {
   "cell_type": "code",
   "execution_count": 52,
   "metadata": {
    "collapsed": true
   },
   "outputs": [],
   "source": [
    "good_tweets = defaultdict(list)\n",
    "for user in top_twitter_users:\n",
    "    for tweet in all_tweets[user]:\n",
    "        for recipient in tweet['recipient']:\n",
    "            if recipient in top_twitter_users and not recipient==user:\n",
    "                good_tweets[user].append(tweet)\n",
    "                break"
   ]
  },
  {
   "cell_type": "markdown",
   "metadata": {},
   "source": [
    "### Aggregating Communication ###"
   ]
  },
  {
   "cell_type": "code",
   "execution_count": 54,
   "metadata": {
    "collapsed": false
   },
   "outputs": [],
   "source": [
    "countPos = np.zeros(len(top_twitter_users))\n",
    "countNeutral = np.zeros(len(top_twitter_users))\n",
    "countNeg = np.zeros(len(top_twitter_users))\n",
    "for user in top_twitter_users:\n",
    "    for tweet in good_tweets[user]:\n",
    "        for recipient in tweet['recipient']:\n",
    "            if tweet['sentiment']==1:\n",
    "                countPos[twitter_users_idx[recipient]]+=1\n",
    "            elif tweet['sentiment']==-1:\n",
    "                countNeg[twitter_users_idx[recipient]]+=1\n",
    "            else:\n",
    "                countNeutral[twitter_users_idx[recipient]]+=1"
   ]
  },
  {
   "cell_type": "code",
   "execution_count": 55,
   "metadata": {
    "collapsed": false
   },
   "outputs": [
    {
     "name": "stdout",
     "output_type": "stream",
     "text": [
      "@katyperry\n",
      "Total Positive Responses: 62.0\n",
      "Total Negative Responses: 15.0\n",
      "Total Neutral Responses: 62.0\n",
      "\n",
      "@justinbieber\n",
      "Total Positive Responses: 1.0\n",
      "Total Negative Responses: 2.0\n",
      "Total Neutral Responses: 5.0\n",
      "\n",
      "@BarackObama\n",
      "Total Positive Responses: 9.0\n",
      "Total Negative Responses: 4.0\n",
      "Total Neutral Responses: 9.0\n",
      "\n",
      "@taylorswift13\n",
      "Total Positive Responses: 2.0\n",
      "Total Negative Responses: 0.0\n",
      "Total Neutral Responses: 1.0\n",
      "\n",
      "@rihanna\n",
      "Total Positive Responses: 1.0\n",
      "Total Negative Responses: 3.0\n",
      "Total Neutral Responses: 0.0\n",
      "\n",
      "@TheEllenShow\n",
      "Total Positive Responses: 21.0\n",
      "Total Negative Responses: 4.0\n",
      "Total Neutral Responses: 9.0\n",
      "\n",
      "@ladygaga\n",
      "Total Positive Responses: 6.0\n",
      "Total Negative Responses: 1.0\n",
      "Total Neutral Responses: 2.0\n",
      "\n",
      "@jtimberlake\n",
      "Total Positive Responses: 6.0\n",
      "Total Negative Responses: 0.0\n",
      "Total Neutral Responses: 4.0\n",
      "\n",
      "@britneyspears\n",
      "Total Positive Responses: 5.0\n",
      "Total Negative Responses: 0.0\n",
      "Total Neutral Responses: 1.0\n",
      "\n",
      "@KimKardashian\n",
      "Total Positive Responses: 5.0\n",
      "Total Negative Responses: 0.0\n",
      "Total Neutral Responses: 6.0\n",
      "\n",
      "@Cristiano\n",
      "Total Positive Responses: 0.0\n",
      "Total Negative Responses: 0.0\n",
      "Total Neutral Responses: 0.0\n",
      "\n",
      "@selenagomez\n",
      "Total Positive Responses: 1.0\n",
      "Total Negative Responses: 0.0\n",
      "Total Neutral Responses: 3.0\n",
      "\n",
      "@jimmyfallon\n",
      "Total Positive Responses: 8.0\n",
      "Total Negative Responses: 1.0\n",
      "Total Neutral Responses: 8.0\n",
      "\n",
      "@ArianaGrande\n",
      "Total Positive Responses: 8.0\n",
      "Total Negative Responses: 4.0\n",
      "Total Neutral Responses: 12.0\n",
      "\n",
      "@shakira\n",
      "Total Positive Responses: 0.0\n",
      "Total Negative Responses: 0.0\n",
      "Total Neutral Responses: 0.0\n",
      "\n",
      "@ddlovato\n",
      "Total Positive Responses: 5.0\n",
      "Total Negative Responses: 1.0\n",
      "Total Neutral Responses: 9.0\n",
      "\n",
      "@MileyCyrus\n",
      "Total Positive Responses: 6.0\n",
      "Total Negative Responses: 3.0\n",
      "Total Neutral Responses: 8.0\n",
      "\n",
      "@kanyewest\n",
      "Total Positive Responses: 17.0\n",
      "Total Negative Responses: 1.0\n",
      "Total Neutral Responses: 21.0\n",
      "\n",
      "@realDonaldTrump\n",
      "Total Positive Responses: 3.0\n",
      "Total Negative Responses: 0.0\n",
      "Total Neutral Responses: 5.0\n",
      "\n"
     ]
    }
   ],
   "source": [
    "for i in range(len(top_twitter_users)):\n",
    "    print(top_twitter_users[i])\n",
    "    print(\"Total Positive Responses: \"+str(countPos[i]))\n",
    "    print(\"Total Negative Responses: \"+str(countNeg[i]))\n",
    "    print(\"Total Neutral Responses: \"+str(countNeutral[i])+\"\\n\")"
   ]
  },
  {
   "cell_type": "code",
   "execution_count": 63,
   "metadata": {
    "collapsed": false
   },
   "outputs": [
    {
     "data": {
      "text/html": [
       "<div style=\"max-height:1000px;max-width:1500px;overflow:auto;\">\n",
       "<table border=\"1\" class=\"dataframe\">\n",
       "  <thead>\n",
       "    <tr style=\"text-align: right;\">\n",
       "      <th></th>\n",
       "      <th>Negative</th>\n",
       "      <th>Neutral</th>\n",
       "      <th>Positive</th>\n",
       "      <th>User</th>\n",
       "    </tr>\n",
       "  </thead>\n",
       "  <tbody>\n",
       "    <tr>\n",
       "      <th>0 </th>\n",
       "      <td> 15</td>\n",
       "      <td> 62</td>\n",
       "      <td> 62</td>\n",
       "      <td>       @katyperry</td>\n",
       "    </tr>\n",
       "    <tr>\n",
       "      <th>1 </th>\n",
       "      <td>  2</td>\n",
       "      <td>  5</td>\n",
       "      <td>  1</td>\n",
       "      <td>    @justinbieber</td>\n",
       "    </tr>\n",
       "    <tr>\n",
       "      <th>2 </th>\n",
       "      <td>  4</td>\n",
       "      <td>  9</td>\n",
       "      <td>  9</td>\n",
       "      <td>     @BarackObama</td>\n",
       "    </tr>\n",
       "    <tr>\n",
       "      <th>3 </th>\n",
       "      <td>  0</td>\n",
       "      <td>  1</td>\n",
       "      <td>  2</td>\n",
       "      <td>   @taylorswift13</td>\n",
       "    </tr>\n",
       "    <tr>\n",
       "      <th>4 </th>\n",
       "      <td>  3</td>\n",
       "      <td>  0</td>\n",
       "      <td>  1</td>\n",
       "      <td>         @rihanna</td>\n",
       "    </tr>\n",
       "    <tr>\n",
       "      <th>5 </th>\n",
       "      <td>  4</td>\n",
       "      <td>  9</td>\n",
       "      <td> 21</td>\n",
       "      <td>    @TheEllenShow</td>\n",
       "    </tr>\n",
       "    <tr>\n",
       "      <th>6 </th>\n",
       "      <td>  1</td>\n",
       "      <td>  2</td>\n",
       "      <td>  6</td>\n",
       "      <td>        @ladygaga</td>\n",
       "    </tr>\n",
       "    <tr>\n",
       "      <th>7 </th>\n",
       "      <td>  0</td>\n",
       "      <td>  4</td>\n",
       "      <td>  6</td>\n",
       "      <td>     @jtimberlake</td>\n",
       "    </tr>\n",
       "    <tr>\n",
       "      <th>8 </th>\n",
       "      <td>  0</td>\n",
       "      <td>  1</td>\n",
       "      <td>  5</td>\n",
       "      <td>   @britneyspears</td>\n",
       "    </tr>\n",
       "    <tr>\n",
       "      <th>9 </th>\n",
       "      <td>  0</td>\n",
       "      <td>  6</td>\n",
       "      <td>  5</td>\n",
       "      <td>   @KimKardashian</td>\n",
       "    </tr>\n",
       "    <tr>\n",
       "      <th>10</th>\n",
       "      <td>  0</td>\n",
       "      <td>  0</td>\n",
       "      <td>  0</td>\n",
       "      <td>       @Cristiano</td>\n",
       "    </tr>\n",
       "    <tr>\n",
       "      <th>11</th>\n",
       "      <td>  0</td>\n",
       "      <td>  3</td>\n",
       "      <td>  1</td>\n",
       "      <td>     @selenagomez</td>\n",
       "    </tr>\n",
       "    <tr>\n",
       "      <th>12</th>\n",
       "      <td>  1</td>\n",
       "      <td>  8</td>\n",
       "      <td>  8</td>\n",
       "      <td>     @jimmyfallon</td>\n",
       "    </tr>\n",
       "    <tr>\n",
       "      <th>13</th>\n",
       "      <td>  4</td>\n",
       "      <td> 12</td>\n",
       "      <td>  8</td>\n",
       "      <td>    @ArianaGrande</td>\n",
       "    </tr>\n",
       "    <tr>\n",
       "      <th>14</th>\n",
       "      <td>  0</td>\n",
       "      <td>  0</td>\n",
       "      <td>  0</td>\n",
       "      <td>         @shakira</td>\n",
       "    </tr>\n",
       "    <tr>\n",
       "      <th>15</th>\n",
       "      <td>  1</td>\n",
       "      <td>  9</td>\n",
       "      <td>  5</td>\n",
       "      <td>        @ddlovato</td>\n",
       "    </tr>\n",
       "    <tr>\n",
       "      <th>16</th>\n",
       "      <td>  3</td>\n",
       "      <td>  8</td>\n",
       "      <td>  6</td>\n",
       "      <td>      @MileyCyrus</td>\n",
       "    </tr>\n",
       "    <tr>\n",
       "      <th>17</th>\n",
       "      <td>  1</td>\n",
       "      <td> 21</td>\n",
       "      <td> 17</td>\n",
       "      <td>       @kanyewest</td>\n",
       "    </tr>\n",
       "    <tr>\n",
       "      <th>18</th>\n",
       "      <td>  0</td>\n",
       "      <td>  5</td>\n",
       "      <td>  3</td>\n",
       "      <td> @realDonaldTrump</td>\n",
       "    </tr>\n",
       "  </tbody>\n",
       "</table>\n",
       "</div>"
      ],
      "text/plain": [
       "    Negative  Neutral  Positive              User\n",
       "0         15       62        62        @katyperry\n",
       "1          2        5         1     @justinbieber\n",
       "2          4        9         9      @BarackObama\n",
       "3          0        1         2    @taylorswift13\n",
       "4          3        0         1          @rihanna\n",
       "5          4        9        21     @TheEllenShow\n",
       "6          1        2         6         @ladygaga\n",
       "7          0        4         6      @jtimberlake\n",
       "8          0        1         5    @britneyspears\n",
       "9          0        6         5    @KimKardashian\n",
       "10         0        0         0        @Cristiano\n",
       "11         0        3         1      @selenagomez\n",
       "12         1        8         8      @jimmyfallon\n",
       "13         4       12         8     @ArianaGrande\n",
       "14         0        0         0          @shakira\n",
       "15         1        9         5         @ddlovato\n",
       "16         3        8         6       @MileyCyrus\n",
       "17         1       21        17        @kanyewest\n",
       "18         0        5         3  @realDonaldTrump"
      ]
     },
     "execution_count": 63,
     "metadata": {},
     "output_type": "execute_result"
    }
   ],
   "source": [
    "aggTable = pd.DataFrame({'User': top_twitter_users, 'Positive': countPos, 'Negative': countNeg, 'Neutral': countNeutral})\n",
    "aggTable.to_csv('aggregate_counts.csv')\n",
    "aggTable"
   ]
  },
  {
   "cell_type": "code",
   "execution_count": 68,
   "metadata": {
    "collapsed": false
   },
   "outputs": [],
   "source": [
    "allMentions = np.zeros((len(top_twitter_users), len(top_twitter_users)))\n",
    "allPosMentions = np.zeros((len(top_twitter_users), len(top_twitter_users)))\n",
    "allNeutralMentions = np.zeros((len(top_twitter_users), len(top_twitter_users)))\n",
    "allNegMentions = np.zeros((len(top_twitter_users), len(top_twitter_users)))\n",
    "for user in top_twitter_users:\n",
    "    for tweet in good_tweets[user]:\n",
    "        for recipient in tweet['recipient']:\n",
    "            allMentions[twitter_users_idx[user]][twitter_users_idx[recipient]]+=1\n",
    "            if tweet['sentiment']==1:\n",
    "                allPosMentions[twitter_users_idx[user]][twitter_users_idx[recipient]]+=1\n",
    "            elif tweet['sentiment']==-1:\n",
    "                allNegMentions[twitter_users_idx[user]][twitter_users_idx[recipient]]+=1\n",
    "            else:\n",
    "                allNeutralMentions[twitter_users_idx[user]][twitter_users_idx[recipient]]+=1"
   ]
  },
  {
   "cell_type": "code",
   "execution_count": 82,
   "metadata": {
    "collapsed": false
   },
   "outputs": [],
   "source": [
    "DGAll=nx.DiGraph()\n",
    "DGPos=nx.DiGraph()\n",
    "DGNeg=nx.DiGraph()\n",
    "DGNeutral=nx.DiGraph()\n",
    "for i in range(len(top_twitter_users)):\n",
    "    for j in range(len(top_twitter_users)):\n",
    "        if allMentions[i][j]>1:\n",
    "            DGAll.add_weighted_edges_from([(i,j,allMentions[i][j])])\n",
    "        if allPosMentions[i][j]>1:\n",
    "            DGPos.add_weighted_edges_from([(i,j,allPosMentions[i][j])])\n",
    "        if allNeutralMentions[i][j]>1:\n",
    "            DGNeutral.add_weighted_edges_from([(i,j,allNeutralMentions[i][j])])\n",
    "        if allNegMentions[i][j]>1:\n",
    "            DGNeg.add_weighted_edges_from([(i,j,allNegMentions[i][j])])\n",
    "\n",
    "plt.clf()\n",
    "nx.draw_circular(DGAll)\n",
    "plt.savefig(\"pathAll.png\")\n",
    "plt.clf()\n",
    "nx.draw_circular(DGPos)\n",
    "plt.savefig(\"pathPos.png\")\n",
    "plt.clf()\n",
    "nx.draw_circular(DGNeg)\n",
    "plt.savefig(\"pathNeg.png\")\n",
    "plt.clf()\n",
    "nx.draw_circular(DGNeutral)\n",
    "plt.savefig(\"pathNeutral.png\")\n",
    "plt.clf()"
   ]
  },
  {
   "cell_type": "markdown",
   "metadata": {},
   "source": [
    "### Saving Some Stuff ###"
   ]
  },
  {
   "cell_type": "code",
   "execution_count": 88,
   "metadata": {
    "collapsed": false
   },
   "outputs": [],
   "source": [
    "allMentionsTable = pd.DataFrame(allMentions)\n",
    "allMentionsTable.columns = top_twitter_users\n",
    "allMentionsTable.index = top_twitter_users\n",
    "allMentionsTable.to_csv('all_mentions.csv')\n",
    "\n",
    "allPosMentionsTable = pd.DataFrame(allPosMentions)\n",
    "allPosMentionsTable.columns = top_twitter_users\n",
    "allPosMentionsTable.index = top_twitter_users\n",
    "allPosMentionsTable.to_csv('all_pos_mentions.csv')\n",
    "\n",
    "allNeutralMentionsTable = pd.DataFrame(allNeutralMentions)\n",
    "allNeutralMentionsTable.columns = top_twitter_users\n",
    "allNeutralMentionsTable.index = top_twitter_users\n",
    "allNeutralMentionsTable.to_csv('all_neutral_mentions.csv')\n",
    "\n",
    "allNegMentionsTable = pd.DataFrame(allNegMentions)\n",
    "allNegMentionsTable.columns = top_twitter_users\n",
    "allNegMentionsTable.index = top_twitter_users\n",
    "allNegMentionsTable.to_csv('all_neg_mentions.csv')"
   ]
  },
  {
   "cell_type": "code",
   "execution_count": null,
   "metadata": {
    "collapsed": true
   },
   "outputs": [],
   "source": []
  }
 ],
 "metadata": {
  "kernelspec": {
   "display_name": "Python 2",
   "language": "python",
   "name": "python2"
  },
  "language_info": {
   "codemirror_mode": {
    "name": "ipython",
    "version": 2
   },
   "file_extension": ".py",
   "mimetype": "text/x-python",
   "name": "python",
   "nbconvert_exporter": "python",
   "pygments_lexer": "ipython2",
   "version": "2.7.11"
  }
 },
 "nbformat": 4,
 "nbformat_minor": 0
}
