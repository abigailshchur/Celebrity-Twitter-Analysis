{
 "cells": [
  {
   "cell_type": "markdown",
   "metadata": {},
   "source": [
    "# Project 1: #"
   ]
  },
  {
   "cell_type": "markdown",
   "metadata": {},
   "source": [
    "### Scraping Twitter Fun  ###"
   ]
  },
  {
   "cell_type": "code",
   "execution_count": 1,
   "metadata": {
    "collapsed": false
   },
   "outputs": [],
   "source": [
    "import tweepy, datetime, time\n",
    "from collections import defaultdict\n",
    "import numpy as np\n",
    "import pickle\n",
    "from nltk.classify import NaiveBayesClassifier\n",
    "from nltk.corpus import subjectivity\n",
    "from nltk.sentiment import SentimentAnalyzer\n",
    "from nltk.sentiment.util import *\n",
    "import re\n",
    "from textblob import TextBlob\n",
    "import pandas as pd\n",
    "import networkx as nx\n",
    "import matplotlib.pyplot as plt\n",
    "import csv"
   ]
  },
  {
   "cell_type": "code",
   "execution_count": 2,
   "metadata": {
    "collapsed": true
   },
   "outputs": [],
   "source": [
    "consumer_key = [\"QZPN8u1naWkwtxadO2pImqrnG\",\n",
    "               \"xJm6LpUdraMvhsKWTN1EeS8XA\",\n",
    "               \"sKHaUy6PxtzHNiussFhTTNXYp\",\n",
    "               \"tOmzZqdAiJSBDrthx3wpEWR3n\",\n",
    "               \"Y0qpzfZ2WyRsKPJaPdwnRcPMe\",\n",
    "               \"6kMkhoJs79NHlPSRflN8upMxe\",\n",
    "               \"OtZWUkFKsJWqdGGxM4P3YocrS\",\n",
    "                \"HOPe1B2xB4gPfduzlAIHWpiEk\",\n",
    "                \"0CFzcHP2j1B1eeL4YAhsPj5MW\"\n",
    "               ]\n",
    "consumer_secret = [\"EfTVgBBXsFfyKbRiyDj4O6UwwZRCJEjxCENRrT6F9jLIEVsb7q\",\n",
    "                  \"gqCh5tlL5pJYJmOSuuVc7ZiXW76v1XABeRsXuk4USFxvmAC5Cc\",\n",
    "                  \"wxRbtA7WE6OY9DvRHkGQX20aA9RzegKkYoOha6h5YPapvsF3v2\",\n",
    "                  \"B91kG4Gjs4QOMf51iBIwdvezets0CyaDt7hWasHRiKTGPBjErp\",\n",
    "                  \"IRaXFODzl5ooxM8bAccNkg5BQKO1ti3arUyglBStwQ3X1qAcvI\",\n",
    "                  \"U0Gb46YyTxg6HDUJsiEHxbdHMIekAj4TMMx2iGXL0GW40VegpK\",\n",
    "                  \"lCEbNtwMZphbOGtTPwZxMF7LQDBMRrI7uGBrujpXYn184Af53v\",\n",
    "                  \"pokHC7hVdMu0AurGaHU93MhLkWlBnv77BDcfUpDY7EEQHxjcnB\",\n",
    "                  \"TBRuRqyWedTXp5NLpk6E0S7MS1JPqCSthynyOLRQ4mtbi3r8sB\"]\n",
    "access_key = [\"836420062991028224-VFazjwuMNYNkr0QIpKxTEvu64Q951Be\",\n",
    "             \"836420062991028224-Z7ZvKgy6wZIiMLHKAQ0RJ9IFVc0YSZT\",\n",
    "             \"836420062991028224-Qu3UBibTbljWsfhd2LNLMwIE9AFoKz6\",\n",
    "             \"717450360344993793-joDXgYT22q2CgAoGry4cnl6FKGxBv4V\",\n",
    "             \"717450360344993793-UHGgXNFp6YCibhG38nH41dEdxd3GGdn\",\n",
    "             \"717450360344993793-KVrFXsxGptS6DcnJ5jPFQyRAtF22dWk\",\n",
    "             \"837422657083682821-Bpm4hniIP24YipjwIm0zzhojzuhf9Ka\",\n",
    "             \"837422657083682821-pWedK4LDC4UDKT5Kse9ZuEiBrACI5ju\",\n",
    "             \"837422657083682821-c5DCC0UOdKSsQRgOjnoRQCT4erMCgLw\"]\n",
    "access_secret = [\"Hbz7ZQ2s7GubGP1dkrmHH58gSjLDUs0WVezZbSoo3ADYU\",\n",
    "                \"hSZYvtxCFjHe4NK62JSQI4xxvb95mgpgICz4JLM5xAJ66\",\n",
    "                \"Ph3vPV68vCOgW0blgRYm6rqHhhu0xeTzrHZ0EGxSo4ehM\",\n",
    "                \"KirJ3Zf64A9tAeRHzZBvq4sLr5M7GYMmcUzT57qw2Ecej\",\n",
    "                \"LzBdVGxxgsXfCzdrIq7JRxAAveainZsXN7V0EaPcz6Sm2\",\n",
    "                \"1CasQyAqxThQDgWMArGeFvtTVTZmls2gs8HnRGDUS4Rpv\",\n",
    "                \"MDefgYBcY9gVCUDp8c1BVXNui2SvRWC8fMjIZ74Dop4z7\",\n",
    "                \"OD3TbocNRdpjPYbcCK9vGTW9XxcVwpB9a3VXTYwZkqj6u\",\n",
    "                \"UQNy5v8Dw0pHAzSWZZFGi1EJWTrV4SPuhtz95JM6eOC37\"]"
   ]
  },
  {
   "cell_type": "code",
   "execution_count": 20,
   "metadata": {
    "collapsed": true
   },
   "outputs": [],
   "source": [
    "auth = tweepy.OAuthHandler(consumer_key[0], consumer_secret[0])\n",
    "auth.set_access_token(access_key[0], access_secret[0])\n",
    "api = tweepy.API(auth)"
   ]
  },
  {
   "cell_type": "code",
   "execution_count": 4,
   "metadata": {
    "collapsed": true
   },
   "outputs": [],
   "source": [
    "top_twitter_users = [\"@KingJames\", \"@KDTrey5\", \"@StephenCurry30\", \"@Cristiano\", \"@JohnCena\",\n",
    "                    \"@BarackObama\", \"@realDonaldTrump\", \"@HillaryClinton\", \"@BernieSanders\", \"@tedcruz\",\n",
    "                    \"@Oprah\", \"@RyanSeacrest\", \"@TheEllenShow\", \"@jimmykimmel\", \"@jimmyfalon\",\n",
    "                    \"@KimKardashian\",\"@justinbieber\", \"@KevinHart4real\", \"@ArianaGrande\", \"@ddlovato\",\n",
    "                    \"@NPR\", \"@FoxNews\", \"@CNN\", \"@nytimes\", \"@WSJ\",\n",
    "                    \"@Google\", \"@facebook\", \"@Uber\", \"@Starbucks\", \"@Apple\"];"
   ]
  },
  {
   "cell_type": "code",
   "execution_count": 5,
   "metadata": {
    "collapsed": true
   },
   "outputs": [],
   "source": [
    "top_twitter_users_lowered = [x.lower() for x in top_twitter_users]"
   ]
  },
  {
   "cell_type": "code",
   "execution_count": 6,
   "metadata": {
    "collapsed": true
   },
   "outputs": [],
   "source": [
    "twitter_users_idx = defaultdict(int)\n",
    "for i in range(len(top_twitter_users)):\n",
    "    twitter_users_idx[top_twitter_users[i]]=i"
   ]
  },
  {
   "cell_type": "code",
   "execution_count": 7,
   "metadata": {
    "collapsed": true
   },
   "outputs": [],
   "source": [
    "def update_keys(iteration):\n",
    "    auth = tweepy.OAuthHandler(consumer_key[iteration], consumer_secret[iteration])\n",
    "    auth.set_access_token(access_key[iteration], access_secret[iteration])\n",
    "    return tweepy.API(auth)"
   ]
  },
  {
   "cell_type": "code",
   "execution_count": 9,
   "metadata": {
    "collapsed": true
   },
   "outputs": [],
   "source": [
    "iteration=1\n",
    "i=-1"
   ]
  },
  {
   "cell_type": "code",
   "execution_count": 10,
   "metadata": {
    "collapsed": false
   },
   "outputs": [
    {
     "ename": "TweepError",
     "evalue": "Twitter error response: status code = 401",
     "output_type": "error",
     "traceback": [
      "\u001b[0;31m---------------------------------------------------------------------------\u001b[0m",
      "\u001b[0;31mTweepError\u001b[0m                                Traceback (most recent call last)",
      "\u001b[0;32m<ipython-input-10-9fb595d9d9fa>\u001b[0m in \u001b[0;36m<module>\u001b[0;34m()\u001b[0m\n\u001b[1;32m      6\u001b[0m         \u001b[0miteration\u001b[0m\u001b[0;34m+=\u001b[0m\u001b[0;36m1\u001b[0m\u001b[0;34m\u001b[0m\u001b[0m\n\u001b[1;32m      7\u001b[0m     \u001b[0mqr\u001b[0m \u001b[0;34m=\u001b[0m \u001b[0mtweepy\u001b[0m\u001b[0;34m.\u001b[0m\u001b[0mCursor\u001b[0m\u001b[0;34m(\u001b[0m\u001b[0mapi\u001b[0m\u001b[0;34m.\u001b[0m\u001b[0muser_timeline\u001b[0m\u001b[0;34m,\u001b[0m \u001b[0mid\u001b[0m\u001b[0;34m=\u001b[0m\u001b[0muser\u001b[0m\u001b[0;34m)\u001b[0m\u001b[0;34m\u001b[0m\u001b[0m\n\u001b[0;32m----> 8\u001b[0;31m     \u001b[0;32mfor\u001b[0m \u001b[0mtw\u001b[0m \u001b[0;32min\u001b[0m \u001b[0mqr\u001b[0m\u001b[0;34m.\u001b[0m\u001b[0mitems\u001b[0m\u001b[0;34m(\u001b[0m\u001b[0;34m)\u001b[0m\u001b[0;34m:\u001b[0m\u001b[0;34m\u001b[0m\u001b[0m\n\u001b[0m\u001b[1;32m      9\u001b[0m         \u001b[0mcreated\u001b[0m \u001b[0;34m=\u001b[0m \u001b[0mtw\u001b[0m\u001b[0;34m.\u001b[0m\u001b[0mcreated_at\u001b[0m\u001b[0;34m\u001b[0m\u001b[0m\n\u001b[1;32m     10\u001b[0m         \u001b[0;32mif\u001b[0m \u001b[0mcreated\u001b[0m \u001b[0;34m<\u001b[0m \u001b[0mdatetime\u001b[0m\u001b[0;34m.\u001b[0m\u001b[0mdatetime\u001b[0m\u001b[0;34m(\u001b[0m\u001b[0;36m2015\u001b[0m\u001b[0;34m,\u001b[0m \u001b[0;36m1\u001b[0m\u001b[0;34m,\u001b[0m \u001b[0;36m1\u001b[0m\u001b[0;34m,\u001b[0m \u001b[0;36m0\u001b[0m\u001b[0;34m,\u001b[0m \u001b[0;36m0\u001b[0m\u001b[0;34m)\u001b[0m\u001b[0;34m:\u001b[0m\u001b[0;34m\u001b[0m\u001b[0m\n",
      "\u001b[0;32m/Users/abigailshchur/anaconda/lib/python2.7/site-packages/tweepy/cursor.pyc\u001b[0m in \u001b[0;36mnext\u001b[0;34m(self)\u001b[0m\n\u001b[1;32m    195\u001b[0m         \u001b[0;32mif\u001b[0m \u001b[0mself\u001b[0m\u001b[0;34m.\u001b[0m\u001b[0mcurrent_page\u001b[0m \u001b[0;32mis\u001b[0m \u001b[0mNone\u001b[0m \u001b[0;32mor\u001b[0m \u001b[0mself\u001b[0m\u001b[0;34m.\u001b[0m\u001b[0mpage_index\u001b[0m \u001b[0;34m==\u001b[0m \u001b[0mlen\u001b[0m\u001b[0;34m(\u001b[0m\u001b[0mself\u001b[0m\u001b[0;34m.\u001b[0m\u001b[0mcurrent_page\u001b[0m\u001b[0;34m)\u001b[0m \u001b[0;34m-\u001b[0m \u001b[0;36m1\u001b[0m\u001b[0;34m:\u001b[0m\u001b[0;34m\u001b[0m\u001b[0m\n\u001b[1;32m    196\u001b[0m             \u001b[0;31m# Reached end of current page, get the next page...\u001b[0m\u001b[0;34m\u001b[0m\u001b[0;34m\u001b[0m\u001b[0m\n\u001b[0;32m--> 197\u001b[0;31m             \u001b[0mself\u001b[0m\u001b[0;34m.\u001b[0m\u001b[0mcurrent_page\u001b[0m \u001b[0;34m=\u001b[0m \u001b[0mself\u001b[0m\u001b[0;34m.\u001b[0m\u001b[0mpage_iterator\u001b[0m\u001b[0;34m.\u001b[0m\u001b[0mnext\u001b[0m\u001b[0;34m(\u001b[0m\u001b[0;34m)\u001b[0m\u001b[0;34m\u001b[0m\u001b[0m\n\u001b[0m\u001b[1;32m    198\u001b[0m             \u001b[0mself\u001b[0m\u001b[0;34m.\u001b[0m\u001b[0mpage_index\u001b[0m \u001b[0;34m=\u001b[0m \u001b[0;34m-\u001b[0m\u001b[0;36m1\u001b[0m\u001b[0;34m\u001b[0m\u001b[0m\n\u001b[1;32m    199\u001b[0m         \u001b[0mself\u001b[0m\u001b[0;34m.\u001b[0m\u001b[0mpage_index\u001b[0m \u001b[0;34m+=\u001b[0m \u001b[0;36m1\u001b[0m\u001b[0;34m\u001b[0m\u001b[0m\n",
      "\u001b[0;32m/Users/abigailshchur/anaconda/lib/python2.7/site-packages/tweepy/cursor.pyc\u001b[0m in \u001b[0;36mnext\u001b[0;34m(self)\u001b[0m\n\u001b[1;32m    106\u001b[0m \u001b[0;34m\u001b[0m\u001b[0m\n\u001b[1;32m    107\u001b[0m         \u001b[0;32mif\u001b[0m \u001b[0mself\u001b[0m\u001b[0;34m.\u001b[0m\u001b[0mindex\u001b[0m \u001b[0;34m>=\u001b[0m \u001b[0mlen\u001b[0m\u001b[0;34m(\u001b[0m\u001b[0mself\u001b[0m\u001b[0;34m.\u001b[0m\u001b[0mresults\u001b[0m\u001b[0;34m)\u001b[0m \u001b[0;34m-\u001b[0m \u001b[0;36m1\u001b[0m\u001b[0;34m:\u001b[0m\u001b[0;34m\u001b[0m\u001b[0m\n\u001b[0;32m--> 108\u001b[0;31m             \u001b[0mdata\u001b[0m \u001b[0;34m=\u001b[0m \u001b[0mself\u001b[0m\u001b[0;34m.\u001b[0m\u001b[0mmethod\u001b[0m\u001b[0;34m(\u001b[0m\u001b[0mmax_id\u001b[0m\u001b[0;34m=\u001b[0m\u001b[0mself\u001b[0m\u001b[0;34m.\u001b[0m\u001b[0mmax_id\u001b[0m\u001b[0;34m,\u001b[0m \u001b[0mparser\u001b[0m\u001b[0;34m=\u001b[0m\u001b[0mRawParser\u001b[0m\u001b[0;34m(\u001b[0m\u001b[0;34m)\u001b[0m\u001b[0;34m,\u001b[0m \u001b[0;34m*\u001b[0m\u001b[0mself\u001b[0m\u001b[0;34m.\u001b[0m\u001b[0margs\u001b[0m\u001b[0;34m,\u001b[0m \u001b[0;34m**\u001b[0m\u001b[0mself\u001b[0m\u001b[0;34m.\u001b[0m\u001b[0mkargs\u001b[0m\u001b[0;34m)\u001b[0m\u001b[0;34m\u001b[0m\u001b[0m\n\u001b[0m\u001b[1;32m    109\u001b[0m \u001b[0;34m\u001b[0m\u001b[0m\n\u001b[1;32m    110\u001b[0m             \u001b[0;32mif\u001b[0m \u001b[0mhasattr\u001b[0m\u001b[0;34m(\u001b[0m\u001b[0mself\u001b[0m\u001b[0;34m.\u001b[0m\u001b[0mmethod\u001b[0m\u001b[0;34m,\u001b[0m \u001b[0;34m'__self__'\u001b[0m\u001b[0;34m)\u001b[0m\u001b[0;34m:\u001b[0m\u001b[0;34m\u001b[0m\u001b[0m\n",
      "\u001b[0;32m/Users/abigailshchur/anaconda/lib/python2.7/site-packages/tweepy/binder.pyc\u001b[0m in \u001b[0;36m_call\u001b[0;34m(*args, **kwargs)\u001b[0m\n\u001b[1;32m    243\u001b[0m             \u001b[0;32mreturn\u001b[0m \u001b[0mmethod\u001b[0m\u001b[0;34m\u001b[0m\u001b[0m\n\u001b[1;32m    244\u001b[0m         \u001b[0;32melse\u001b[0m\u001b[0;34m:\u001b[0m\u001b[0;34m\u001b[0m\u001b[0m\n\u001b[0;32m--> 245\u001b[0;31m             \u001b[0;32mreturn\u001b[0m \u001b[0mmethod\u001b[0m\u001b[0;34m.\u001b[0m\u001b[0mexecute\u001b[0m\u001b[0;34m(\u001b[0m\u001b[0;34m)\u001b[0m\u001b[0;34m\u001b[0m\u001b[0m\n\u001b[0m\u001b[1;32m    246\u001b[0m \u001b[0;34m\u001b[0m\u001b[0m\n\u001b[1;32m    247\u001b[0m     \u001b[0;31m# Set pagination mode\u001b[0m\u001b[0;34m\u001b[0m\u001b[0;34m\u001b[0m\u001b[0m\n",
      "\u001b[0;32m/Users/abigailshchur/anaconda/lib/python2.7/site-packages/tweepy/binder.pyc\u001b[0m in \u001b[0;36mexecute\u001b[0;34m(self)\u001b[0m\n\u001b[1;32m    227\u001b[0m                     \u001b[0;32mraise\u001b[0m \u001b[0mRateLimitError\u001b[0m\u001b[0;34m(\u001b[0m\u001b[0merror_msg\u001b[0m\u001b[0;34m,\u001b[0m \u001b[0mresp\u001b[0m\u001b[0;34m)\u001b[0m\u001b[0;34m\u001b[0m\u001b[0m\n\u001b[1;32m    228\u001b[0m                 \u001b[0;32melse\u001b[0m\u001b[0;34m:\u001b[0m\u001b[0;34m\u001b[0m\u001b[0m\n\u001b[0;32m--> 229\u001b[0;31m                     \u001b[0;32mraise\u001b[0m \u001b[0mTweepError\u001b[0m\u001b[0;34m(\u001b[0m\u001b[0merror_msg\u001b[0m\u001b[0;34m,\u001b[0m \u001b[0mresp\u001b[0m\u001b[0;34m,\u001b[0m \u001b[0mapi_code\u001b[0m\u001b[0;34m=\u001b[0m\u001b[0mapi_error_code\u001b[0m\u001b[0;34m)\u001b[0m\u001b[0;34m\u001b[0m\u001b[0m\n\u001b[0m\u001b[1;32m    230\u001b[0m \u001b[0;34m\u001b[0m\u001b[0m\n\u001b[1;32m    231\u001b[0m             \u001b[0;31m# Parse the response payload\u001b[0m\u001b[0;34m\u001b[0m\u001b[0;34m\u001b[0m\u001b[0m\n",
      "\u001b[0;31mTweepError\u001b[0m: Twitter error response: status code = 401"
     ]
    }
   ],
   "source": [
    "all_tweets = defaultdict(list)\n",
    "for user in top_twitter_users:\n",
    "    if not user  == \"'@KingJames'\"\n",
    "    i+=1\n",
    "    if i==4 or i==8 or i==12 or i==16 or i==20 or i==24 or i==28:\n",
    "        api = update_keys(iteration)\n",
    "        iteration+=1\n",
    "    qr = tweepy.Cursor(api.user_timeline, id=user)\n",
    "    for tw in qr.items():\n",
    "        created = tw.created_at\n",
    "        if created < datetime.datetime(2015, 1, 1, 0, 0):\n",
    "            break\n",
    "        all_tweets[user].append({'text': tw.text, 'date': tw.created_at})"
   ]
  },
  {
   "cell_type": "code",
   "execution_count": 31,
   "metadata": {
    "collapsed": false
   },
   "outputs": [
    {
     "data": {
      "text/plain": [
       "['@KingJames',\n",
       " '@KDTrey5',\n",
       " '@StephenCurry30',\n",
       " '@Cristiano',\n",
       " '@JohnCena',\n",
       " '@BarackObama',\n",
       " '@realDonaldTrump',\n",
       " '@HillaryClinton',\n",
       " '@BernieSanders',\n",
       " '@tedcruz',\n",
       " '@Oprah',\n",
       " '@RyanSeacrest',\n",
       " '@TheEllenShow',\n",
       " '@jimmykimmel',\n",
       " '@jimmyfalon',\n",
       " '@KimKardashian',\n",
       " '@justinbieber',\n",
       " '@KevinHart4real',\n",
       " '@ArianaGrande',\n",
       " '@ddlovato',\n",
       " '@NPR',\n",
       " '@FoxNews',\n",
       " '@CNN',\n",
       " '@nytimes',\n",
       " '@WSJ',\n",
       " '@Google',\n",
       " '@facebook',\n",
       " '@Uber',\n",
       " '@Starbucks',\n",
       " '@Apple']"
      ]
     },
     "execution_count": 31,
     "metadata": {},
     "output_type": "execute_result"
    }
   ],
   "source": [
    "top_twitter_users"
   ]
  },
  {
   "cell_type": "code",
   "execution_count": 17,
   "metadata": {
    "collapsed": false
   },
   "outputs": [
    {
     "name": "stdout",
     "output_type": "stream",
     "text": [
      "['@jimmyfalon', '@NPR', '@FoxNews', '@CNN', '@nytimes', '@WSJ', '@Google', '@facebook', '@Uber', '@Starbucks', '@Apple']\n",
      "11\n"
     ]
    }
   ],
   "source": [
    "all_users_not_complete = []\n",
    "for i in top_twitter_users:\n",
    "    if i not in all_tweets:\n",
    "        all_users_not_complete.append(i)\n",
    "print(all_users_not_complete)\n",
    "print(len(all_users_not_complete))"
   ]
  },
  {
   "cell_type": "code",
   "execution_count": 18,
   "metadata": {
    "collapsed": true
   },
   "outputs": [],
   "source": [
    "iteration = 6\n",
    "api = update_keys(iteration)\n",
    "iteration+=1\n",
    "i=-1"
   ]
  },
  {
   "cell_type": "code",
   "execution_count": 21,
   "metadata": {
    "collapsed": false
   },
   "outputs": [
    {
     "ename": "TweepError",
     "evalue": "Twitter error response: status code = 401",
     "output_type": "error",
     "traceback": [
      "\u001b[0;31m---------------------------------------------------------------------------\u001b[0m",
      "\u001b[0;31mTweepError\u001b[0m                                Traceback (most recent call last)",
      "\u001b[0;32m<ipython-input-21-c2b7dada61ba>\u001b[0m in \u001b[0;36m<module>\u001b[0;34m()\u001b[0m\n\u001b[1;32m      6\u001b[0m         \u001b[0miteration\u001b[0m\u001b[0;34m+=\u001b[0m\u001b[0;36m1\u001b[0m\u001b[0;34m\u001b[0m\u001b[0m\n\u001b[1;32m      7\u001b[0m     \u001b[0mqr\u001b[0m \u001b[0;34m=\u001b[0m \u001b[0mtweepy\u001b[0m\u001b[0;34m.\u001b[0m\u001b[0mCursor\u001b[0m\u001b[0;34m(\u001b[0m\u001b[0mapi\u001b[0m\u001b[0;34m.\u001b[0m\u001b[0muser_timeline\u001b[0m\u001b[0;34m,\u001b[0m \u001b[0mid\u001b[0m\u001b[0;34m=\u001b[0m\u001b[0muser\u001b[0m\u001b[0;34m)\u001b[0m\u001b[0;34m\u001b[0m\u001b[0m\n\u001b[0;32m----> 8\u001b[0;31m     \u001b[0;32mfor\u001b[0m \u001b[0mtw\u001b[0m \u001b[0;32min\u001b[0m \u001b[0mqr\u001b[0m\u001b[0;34m.\u001b[0m\u001b[0mitems\u001b[0m\u001b[0;34m(\u001b[0m\u001b[0;34m)\u001b[0m\u001b[0;34m:\u001b[0m\u001b[0;34m\u001b[0m\u001b[0m\n\u001b[0m\u001b[1;32m      9\u001b[0m         \u001b[0;31m#print(\"hello\")\u001b[0m\u001b[0;34m\u001b[0m\u001b[0;34m\u001b[0m\u001b[0m\n\u001b[1;32m     10\u001b[0m         \u001b[0mcreated\u001b[0m \u001b[0;34m=\u001b[0m \u001b[0mtw\u001b[0m\u001b[0;34m.\u001b[0m\u001b[0mcreated_at\u001b[0m\u001b[0;34m\u001b[0m\u001b[0m\n",
      "\u001b[0;32m/Users/abigailshchur/anaconda/lib/python2.7/site-packages/tweepy/cursor.pyc\u001b[0m in \u001b[0;36mnext\u001b[0;34m(self)\u001b[0m\n\u001b[1;32m    195\u001b[0m         \u001b[0;32mif\u001b[0m \u001b[0mself\u001b[0m\u001b[0;34m.\u001b[0m\u001b[0mcurrent_page\u001b[0m \u001b[0;32mis\u001b[0m \u001b[0mNone\u001b[0m \u001b[0;32mor\u001b[0m \u001b[0mself\u001b[0m\u001b[0;34m.\u001b[0m\u001b[0mpage_index\u001b[0m \u001b[0;34m==\u001b[0m \u001b[0mlen\u001b[0m\u001b[0;34m(\u001b[0m\u001b[0mself\u001b[0m\u001b[0;34m.\u001b[0m\u001b[0mcurrent_page\u001b[0m\u001b[0;34m)\u001b[0m \u001b[0;34m-\u001b[0m \u001b[0;36m1\u001b[0m\u001b[0;34m:\u001b[0m\u001b[0;34m\u001b[0m\u001b[0m\n\u001b[1;32m    196\u001b[0m             \u001b[0;31m# Reached end of current page, get the next page...\u001b[0m\u001b[0;34m\u001b[0m\u001b[0;34m\u001b[0m\u001b[0m\n\u001b[0;32m--> 197\u001b[0;31m             \u001b[0mself\u001b[0m\u001b[0;34m.\u001b[0m\u001b[0mcurrent_page\u001b[0m \u001b[0;34m=\u001b[0m \u001b[0mself\u001b[0m\u001b[0;34m.\u001b[0m\u001b[0mpage_iterator\u001b[0m\u001b[0;34m.\u001b[0m\u001b[0mnext\u001b[0m\u001b[0;34m(\u001b[0m\u001b[0;34m)\u001b[0m\u001b[0;34m\u001b[0m\u001b[0m\n\u001b[0m\u001b[1;32m    198\u001b[0m             \u001b[0mself\u001b[0m\u001b[0;34m.\u001b[0m\u001b[0mpage_index\u001b[0m \u001b[0;34m=\u001b[0m \u001b[0;34m-\u001b[0m\u001b[0;36m1\u001b[0m\u001b[0;34m\u001b[0m\u001b[0m\n\u001b[1;32m    199\u001b[0m         \u001b[0mself\u001b[0m\u001b[0;34m.\u001b[0m\u001b[0mpage_index\u001b[0m \u001b[0;34m+=\u001b[0m \u001b[0;36m1\u001b[0m\u001b[0;34m\u001b[0m\u001b[0m\n",
      "\u001b[0;32m/Users/abigailshchur/anaconda/lib/python2.7/site-packages/tweepy/cursor.pyc\u001b[0m in \u001b[0;36mnext\u001b[0;34m(self)\u001b[0m\n\u001b[1;32m    106\u001b[0m \u001b[0;34m\u001b[0m\u001b[0m\n\u001b[1;32m    107\u001b[0m         \u001b[0;32mif\u001b[0m \u001b[0mself\u001b[0m\u001b[0;34m.\u001b[0m\u001b[0mindex\u001b[0m \u001b[0;34m>=\u001b[0m \u001b[0mlen\u001b[0m\u001b[0;34m(\u001b[0m\u001b[0mself\u001b[0m\u001b[0;34m.\u001b[0m\u001b[0mresults\u001b[0m\u001b[0;34m)\u001b[0m \u001b[0;34m-\u001b[0m \u001b[0;36m1\u001b[0m\u001b[0;34m:\u001b[0m\u001b[0;34m\u001b[0m\u001b[0m\n\u001b[0;32m--> 108\u001b[0;31m             \u001b[0mdata\u001b[0m \u001b[0;34m=\u001b[0m \u001b[0mself\u001b[0m\u001b[0;34m.\u001b[0m\u001b[0mmethod\u001b[0m\u001b[0;34m(\u001b[0m\u001b[0mmax_id\u001b[0m\u001b[0;34m=\u001b[0m\u001b[0mself\u001b[0m\u001b[0;34m.\u001b[0m\u001b[0mmax_id\u001b[0m\u001b[0;34m,\u001b[0m \u001b[0mparser\u001b[0m\u001b[0;34m=\u001b[0m\u001b[0mRawParser\u001b[0m\u001b[0;34m(\u001b[0m\u001b[0;34m)\u001b[0m\u001b[0;34m,\u001b[0m \u001b[0;34m*\u001b[0m\u001b[0mself\u001b[0m\u001b[0;34m.\u001b[0m\u001b[0margs\u001b[0m\u001b[0;34m,\u001b[0m \u001b[0;34m**\u001b[0m\u001b[0mself\u001b[0m\u001b[0;34m.\u001b[0m\u001b[0mkargs\u001b[0m\u001b[0;34m)\u001b[0m\u001b[0;34m\u001b[0m\u001b[0m\n\u001b[0m\u001b[1;32m    109\u001b[0m \u001b[0;34m\u001b[0m\u001b[0m\n\u001b[1;32m    110\u001b[0m             \u001b[0;32mif\u001b[0m \u001b[0mhasattr\u001b[0m\u001b[0;34m(\u001b[0m\u001b[0mself\u001b[0m\u001b[0;34m.\u001b[0m\u001b[0mmethod\u001b[0m\u001b[0;34m,\u001b[0m \u001b[0;34m'__self__'\u001b[0m\u001b[0;34m)\u001b[0m\u001b[0;34m:\u001b[0m\u001b[0;34m\u001b[0m\u001b[0m\n",
      "\u001b[0;32m/Users/abigailshchur/anaconda/lib/python2.7/site-packages/tweepy/binder.pyc\u001b[0m in \u001b[0;36m_call\u001b[0;34m(*args, **kwargs)\u001b[0m\n\u001b[1;32m    243\u001b[0m             \u001b[0;32mreturn\u001b[0m \u001b[0mmethod\u001b[0m\u001b[0;34m\u001b[0m\u001b[0m\n\u001b[1;32m    244\u001b[0m         \u001b[0;32melse\u001b[0m\u001b[0;34m:\u001b[0m\u001b[0;34m\u001b[0m\u001b[0m\n\u001b[0;32m--> 245\u001b[0;31m             \u001b[0;32mreturn\u001b[0m \u001b[0mmethod\u001b[0m\u001b[0;34m.\u001b[0m\u001b[0mexecute\u001b[0m\u001b[0;34m(\u001b[0m\u001b[0;34m)\u001b[0m\u001b[0;34m\u001b[0m\u001b[0m\n\u001b[0m\u001b[1;32m    246\u001b[0m \u001b[0;34m\u001b[0m\u001b[0m\n\u001b[1;32m    247\u001b[0m     \u001b[0;31m# Set pagination mode\u001b[0m\u001b[0;34m\u001b[0m\u001b[0;34m\u001b[0m\u001b[0m\n",
      "\u001b[0;32m/Users/abigailshchur/anaconda/lib/python2.7/site-packages/tweepy/binder.pyc\u001b[0m in \u001b[0;36mexecute\u001b[0;34m(self)\u001b[0m\n\u001b[1;32m    227\u001b[0m                     \u001b[0;32mraise\u001b[0m \u001b[0mRateLimitError\u001b[0m\u001b[0;34m(\u001b[0m\u001b[0merror_msg\u001b[0m\u001b[0;34m,\u001b[0m \u001b[0mresp\u001b[0m\u001b[0;34m)\u001b[0m\u001b[0;34m\u001b[0m\u001b[0m\n\u001b[1;32m    228\u001b[0m                 \u001b[0;32melse\u001b[0m\u001b[0;34m:\u001b[0m\u001b[0;34m\u001b[0m\u001b[0m\n\u001b[0;32m--> 229\u001b[0;31m                     \u001b[0;32mraise\u001b[0m \u001b[0mTweepError\u001b[0m\u001b[0;34m(\u001b[0m\u001b[0merror_msg\u001b[0m\u001b[0;34m,\u001b[0m \u001b[0mresp\u001b[0m\u001b[0;34m,\u001b[0m \u001b[0mapi_code\u001b[0m\u001b[0;34m=\u001b[0m\u001b[0mapi_error_code\u001b[0m\u001b[0;34m)\u001b[0m\u001b[0;34m\u001b[0m\u001b[0m\n\u001b[0m\u001b[1;32m    230\u001b[0m \u001b[0;34m\u001b[0m\u001b[0m\n\u001b[1;32m    231\u001b[0m             \u001b[0;31m# Parse the response payload\u001b[0m\u001b[0;34m\u001b[0m\u001b[0;34m\u001b[0m\u001b[0m\n",
      "\u001b[0;31mTweepError\u001b[0m: Twitter error response: status code = 401"
     ]
    }
   ],
   "source": [
    "for user in all_users_not_complete:\n",
    "    i+=1\n",
    "    #print(i)\n",
    "    if i==5 or i==10:\n",
    "        api = update_keys(iteration)\n",
    "        iteration+=1\n",
    "    qr = tweepy.Cursor(api.user_timeline, id=user)\n",
    "    for tw in qr.items():\n",
    "        #print(\"hello\")\n",
    "        created = tw.created_at\n",
    "        if created < datetime.datetime(2015, 1, 1, 0, 0):\n",
    "            break\n",
    "        all_tweets[user].append({'text': tw.text, 'date': tw.created_at})"
   ]
  },
  {
   "cell_type": "code",
   "execution_count": 32,
   "metadata": {
    "collapsed": false
   },
   "outputs": [
    {
     "data": {
      "text/plain": [
       "'@jimmyfalon'"
      ]
     },
     "execution_count": 32,
     "metadata": {},
     "output_type": "execute_result"
    }
   ],
   "source": [
    "all_users_not_complete[0]"
   ]
  },
  {
   "cell_type": "code",
   "execution_count": null,
   "metadata": {
    "collapsed": true
   },
   "outputs": [],
   "source": []
  },
  {
   "cell_type": "code",
   "execution_count": 29,
   "metadata": {
    "collapsed": false
   },
   "outputs": [],
   "source": [
    "pickle.dump(all_tweets, open(\"all_tweets_half.p\", \"wb\"))"
   ]
  },
  {
   "cell_type": "code",
   "execution_count": 16,
   "metadata": {
    "collapsed": false
   },
   "outputs": [],
   "source": [
    "all_tweets = pickle.load(open(\"all_tweets_half.p\", \"rb\"))\n",
    "all_tweets_old = pickle.load(open(\"all_tweets.p\", \"rb\"))\n",
    "for i in all_tweets_old:\n",
    "    if i in top_twitter_users and i not in all_tweets:\n",
    "        all_tweets[i] = all_tweets_old[i]"
   ]
  },
  {
   "cell_type": "code",
   "execution_count": null,
   "metadata": {
    "collapsed": true
   },
   "outputs": [],
   "source": []
  },
  {
   "cell_type": "markdown",
   "metadata": {},
   "source": [
    "### Adding Recipient of Tweet to Data###"
   ]
  },
  {
   "cell_type": "code",
   "execution_count": 6,
   "metadata": {
    "collapsed": true
   },
   "outputs": [],
   "source": [
    "def get_recipient(tweet):\n",
    "    return re.findall(r'\\B\\@\\w+\\b', tweet)"
   ]
  },
  {
   "cell_type": "code",
   "execution_count": 7,
   "metadata": {
    "collapsed": false
   },
   "outputs": [],
   "source": [
    "for user in top_twitter_users:\n",
    "    for i in range(len(all_tweets[user])):\n",
    "        all_tweets[user][i]['recipient'] = get_recipient(all_tweets[user][i]['text'])"
   ]
  },
  {
   "cell_type": "markdown",
   "metadata": {},
   "source": [
    "### Removing Tweets Not Sent to Top Users###"
   ]
  },
  {
   "cell_type": "code",
   "execution_count": 8,
   "metadata": {
    "collapsed": true
   },
   "outputs": [],
   "source": [
    "good_tweets = defaultdict(list)\n",
    "for user in top_twitter_users:\n",
    "    for tweet in all_tweets[user]:\n",
    "        for recipient in tweet['recipient']:\n",
    "            tweet2=tweet.copy()\n",
    "            if (recipient.lower() in top_twitter_users_lowered) and (not recipient.lower()==user.lower()):\n",
    "                tweet2['recipient'] = [recipient]\n",
    "                good_tweets[user].append(tweet2)\n",
    "                break"
   ]
  },
  {
   "cell_type": "markdown",
   "metadata": {},
   "source": [
    "### Doing Some Sentiment Analysis ###"
   ]
  },
  {
   "cell_type": "code",
   "execution_count": 9,
   "metadata": {
    "collapsed": true
   },
   "outputs": [],
   "source": [
    "def processTweet(tweet_text):\n",
    "    tweet_text = tweet_text.lower()\n",
    "    tweet_text = re.sub('((www\\.[^\\s]+)|(https?://[^\\s]+))','URL',tweet_text)\n",
    "    tweet_text = re.sub('@[^\\s]+','AT_USER',tweet_text)\n",
    "    tweet_text = re.sub('[\\s]+', ' ', tweet_text)\n",
    "    tweet_text = re.sub(r'#([^\\s]+)', r'\\1', tweet_text)\n",
    "    tweet_text = tweet_text.strip('\\'\"')\n",
    "    return tweet_text\n",
    "\n",
    "def get_tweet_sentiment(tweet):\n",
    "    analysis = TextBlob(processTweet(tweet))\n",
    "    if analysis.sentiment.polarity > 0:\n",
    "        return 1 # positive\n",
    "    elif analysis.sentiment.polarity == 0:\n",
    "        return 0 # neutral\n",
    "    else:\n",
    "        return -1 # negative"
   ]
  },
  {
   "cell_type": "code",
   "execution_count": 10,
   "metadata": {
    "collapsed": false
   },
   "outputs": [],
   "source": [
    "for user in top_twitter_users:\n",
    "    for i in range(len(good_tweets[user])):\n",
    "        good_tweets[user][i]['sentiment'] = get_tweet_sentiment(good_tweets[user][i]['text'])"
   ]
  },
  {
   "cell_type": "markdown",
   "metadata": {},
   "source": [
    "### Making into matrix for simplicity"
   ]
  },
  {
   "cell_type": "code",
   "execution_count": 11,
   "metadata": {
    "collapsed": false
   },
   "outputs": [],
   "source": [
    "good_tweets_matrix = []\n",
    "for user in top_twitter_users:\n",
    "    for tweet in good_tweets[user]:\n",
    "        for recipient in tweet['recipient']:\n",
    "            good_tweets_matrix.append([user, tweet['date'], recipient, tweet['text'], tweet['sentiment']])\n",
    "for i in range(len(good_tweets_matrix)):\n",
    "    txt = good_tweets_matrix[i][3]\n",
    "    good_tweets_matrix[i][3] = txt.encode('ascii',errors='ignore')"
   ]
  },
  {
   "cell_type": "code",
   "execution_count": 12,
   "metadata": {
    "collapsed": false
   },
   "outputs": [],
   "source": [
    "my_df = pd.DataFrame(good_tweets_matrix)\n",
    "my_df.to_csv('good_tweets_matrix.csv', index=False, header=False)"
   ]
  },
  {
   "cell_type": "markdown",
   "metadata": {},
   "source": [
    "### Aggregating Communication ###"
   ]
  },
  {
   "cell_type": "code",
   "execution_count": 13,
   "metadata": {
    "collapsed": false
   },
   "outputs": [],
   "source": [
    "countPos = np.zeros(len(top_twitter_users))\n",
    "countNeutral = np.zeros(len(top_twitter_users))\n",
    "countNeg = np.zeros(len(top_twitter_users))\n",
    "for user in top_twitter_users:\n",
    "    for tweet in good_tweets[user]:\n",
    "        for recipient in tweet['recipient']:\n",
    "            if tweet['sentiment']==1:\n",
    "                countPos[twitter_users_idx[recipient]]+=1\n",
    "            elif tweet['sentiment']==-1:\n",
    "                countNeg[twitter_users_idx[recipient]]+=1\n",
    "            else:\n",
    "                countNeutral[twitter_users_idx[recipient]]+=1"
   ]
  },
  {
   "cell_type": "code",
   "execution_count": 14,
   "metadata": {
    "collapsed": false
   },
   "outputs": [
    {
     "name": "stdout",
     "output_type": "stream",
     "text": [
      "@katyperry\n",
      "Total Positive Responses: 124.0\n",
      "Total Negative Responses: 28.0\n",
      "Total Neutral Responses: 86.0\n",
      "\n",
      "@justinbieber\n",
      "Total Positive Responses: 20.0\n",
      "Total Negative Responses: 7.0\n",
      "Total Neutral Responses: 20.0\n",
      "\n",
      "@BarackObama\n",
      "Total Positive Responses: 16.0\n",
      "Total Negative Responses: 3.0\n",
      "Total Neutral Responses: 12.0\n",
      "\n",
      "@taylorswift13\n",
      "Total Positive Responses: 22.0\n",
      "Total Negative Responses: 2.0\n",
      "Total Neutral Responses: 12.0\n",
      "\n",
      "@rihanna\n",
      "Total Positive Responses: 6.0\n",
      "Total Negative Responses: 3.0\n",
      "Total Neutral Responses: 4.0\n",
      "\n",
      "@TheEllenShow\n",
      "Total Positive Responses: 63.0\n",
      "Total Negative Responses: 11.0\n",
      "Total Neutral Responses: 33.0\n",
      "\n",
      "@ladygaga\n",
      "Total Positive Responses: 12.0\n",
      "Total Negative Responses: 3.0\n",
      "Total Neutral Responses: 6.0\n",
      "\n",
      "@jtimberlake\n",
      "Total Positive Responses: 18.0\n",
      "Total Negative Responses: 0.0\n",
      "Total Neutral Responses: 13.0\n",
      "\n",
      "@KimKardashian\n",
      "Total Positive Responses: 20.0\n",
      "Total Negative Responses: 1.0\n",
      "Total Neutral Responses: 14.0\n",
      "\n",
      "@selenagomez\n",
      "Total Positive Responses: 14.0\n",
      "Total Negative Responses: 2.0\n",
      "Total Neutral Responses: 9.0\n",
      "\n",
      "@jimmyfallon\n",
      "Total Positive Responses: 39.0\n",
      "Total Negative Responses: 8.0\n",
      "Total Neutral Responses: 22.0\n",
      "\n",
      "@ArianaGrande\n",
      "Total Positive Responses: 36.0\n",
      "Total Negative Responses: 6.0\n",
      "Total Neutral Responses: 30.0\n",
      "\n",
      "@ddlovato\n",
      "Total Positive Responses: 22.0\n",
      "Total Negative Responses: 2.0\n",
      "Total Neutral Responses: 20.0\n",
      "\n",
      "@MileyCyrus\n",
      "Total Positive Responses: 11.0\n",
      "Total Negative Responses: 4.0\n",
      "Total Neutral Responses: 8.0\n",
      "\n",
      "@kanyewest\n",
      "Total Positive Responses: 21.0\n",
      "Total Negative Responses: 4.0\n",
      "Total Neutral Responses: 25.0\n",
      "\n",
      "@realDonaldTrump\n",
      "Total Positive Responses: 4.0\n",
      "Total Negative Responses: 0.0\n",
      "Total Neutral Responses: 6.0\n",
      "\n",
      "@KingJames\n",
      "Total Positive Responses: 4.0\n",
      "Total Negative Responses: 1.0\n",
      "Total Neutral Responses: 5.0\n",
      "\n",
      "@Oprah\n",
      "Total Positive Responses: 9.0\n",
      "Total Negative Responses: 0.0\n",
      "Total Neutral Responses: 4.0\n",
      "\n",
      "@Adele\n",
      "Total Positive Responses: 18.0\n",
      "Total Negative Responses: 3.0\n",
      "Total Neutral Responses: 15.0\n",
      "\n",
      "@Drake\n",
      "Total Positive Responses: 19.0\n",
      "Total Negative Responses: 3.0\n",
      "Total Neutral Responses: 17.0\n",
      "\n",
      "@KevinHart4real\n",
      "Total Positive Responses: 12.0\n",
      "Total Negative Responses: 5.0\n",
      "Total Neutral Responses: 7.0\n",
      "\n",
      "@RyanSeacrest\n",
      "Total Positive Responses: 38.0\n",
      "Total Negative Responses: 14.0\n",
      "Total Neutral Responses: 38.0\n",
      "\n",
      "@JLo\n",
      "Total Positive Responses: 59.0\n",
      "Total Negative Responses: 11.0\n",
      "Total Neutral Responses: 50.0\n",
      "\n",
      "@NICKIMINAJ\n",
      "Total Positive Responses: 18.0\n",
      "Total Negative Responses: 4.0\n",
      "Total Neutral Responses: 16.0\n",
      "\n"
     ]
    }
   ],
   "source": [
    "for i in range(len(top_twitter_users)):\n",
    "    print(top_twitter_users[i])\n",
    "    print(\"Total Positive Responses: \"+str(countPos[i]))\n",
    "    print(\"Total Negative Responses: \"+str(countNeg[i]))\n",
    "    print(\"Total Neutral Responses: \"+str(countNeutral[i])+\"\\n\")"
   ]
  },
  {
   "cell_type": "code",
   "execution_count": 15,
   "metadata": {
    "collapsed": false
   },
   "outputs": [
    {
     "data": {
      "text/html": [
       "<div style=\"max-height:1000px;max-width:1500px;overflow:auto;\">\n",
       "<table border=\"1\" class=\"dataframe\">\n",
       "  <thead>\n",
       "    <tr style=\"text-align: right;\">\n",
       "      <th></th>\n",
       "      <th>Negative</th>\n",
       "      <th>Neutral</th>\n",
       "      <th>Positive</th>\n",
       "      <th>User</th>\n",
       "    </tr>\n",
       "  </thead>\n",
       "  <tbody>\n",
       "    <tr>\n",
       "      <th>0 </th>\n",
       "      <td> 28</td>\n",
       "      <td> 86</td>\n",
       "      <td> 124</td>\n",
       "      <td>       @katyperry</td>\n",
       "    </tr>\n",
       "    <tr>\n",
       "      <th>1 </th>\n",
       "      <td>  7</td>\n",
       "      <td> 20</td>\n",
       "      <td>  20</td>\n",
       "      <td>    @justinbieber</td>\n",
       "    </tr>\n",
       "    <tr>\n",
       "      <th>2 </th>\n",
       "      <td>  3</td>\n",
       "      <td> 12</td>\n",
       "      <td>  16</td>\n",
       "      <td>     @BarackObama</td>\n",
       "    </tr>\n",
       "    <tr>\n",
       "      <th>3 </th>\n",
       "      <td>  2</td>\n",
       "      <td> 12</td>\n",
       "      <td>  22</td>\n",
       "      <td>   @taylorswift13</td>\n",
       "    </tr>\n",
       "    <tr>\n",
       "      <th>4 </th>\n",
       "      <td>  3</td>\n",
       "      <td>  4</td>\n",
       "      <td>   6</td>\n",
       "      <td>         @rihanna</td>\n",
       "    </tr>\n",
       "    <tr>\n",
       "      <th>5 </th>\n",
       "      <td> 11</td>\n",
       "      <td> 33</td>\n",
       "      <td>  63</td>\n",
       "      <td>    @TheEllenShow</td>\n",
       "    </tr>\n",
       "    <tr>\n",
       "      <th>6 </th>\n",
       "      <td>  3</td>\n",
       "      <td>  6</td>\n",
       "      <td>  12</td>\n",
       "      <td>        @ladygaga</td>\n",
       "    </tr>\n",
       "    <tr>\n",
       "      <th>7 </th>\n",
       "      <td>  0</td>\n",
       "      <td> 13</td>\n",
       "      <td>  18</td>\n",
       "      <td>     @jtimberlake</td>\n",
       "    </tr>\n",
       "    <tr>\n",
       "      <th>8 </th>\n",
       "      <td>  1</td>\n",
       "      <td> 14</td>\n",
       "      <td>  20</td>\n",
       "      <td>   @KimKardashian</td>\n",
       "    </tr>\n",
       "    <tr>\n",
       "      <th>9 </th>\n",
       "      <td>  2</td>\n",
       "      <td>  9</td>\n",
       "      <td>  14</td>\n",
       "      <td>     @selenagomez</td>\n",
       "    </tr>\n",
       "    <tr>\n",
       "      <th>10</th>\n",
       "      <td>  8</td>\n",
       "      <td> 22</td>\n",
       "      <td>  39</td>\n",
       "      <td>     @jimmyfallon</td>\n",
       "    </tr>\n",
       "    <tr>\n",
       "      <th>11</th>\n",
       "      <td>  6</td>\n",
       "      <td> 30</td>\n",
       "      <td>  36</td>\n",
       "      <td>    @ArianaGrande</td>\n",
       "    </tr>\n",
       "    <tr>\n",
       "      <th>12</th>\n",
       "      <td>  2</td>\n",
       "      <td> 20</td>\n",
       "      <td>  22</td>\n",
       "      <td>        @ddlovato</td>\n",
       "    </tr>\n",
       "    <tr>\n",
       "      <th>13</th>\n",
       "      <td>  4</td>\n",
       "      <td>  8</td>\n",
       "      <td>  11</td>\n",
       "      <td>      @MileyCyrus</td>\n",
       "    </tr>\n",
       "    <tr>\n",
       "      <th>14</th>\n",
       "      <td>  4</td>\n",
       "      <td> 25</td>\n",
       "      <td>  21</td>\n",
       "      <td>       @kanyewest</td>\n",
       "    </tr>\n",
       "    <tr>\n",
       "      <th>15</th>\n",
       "      <td>  0</td>\n",
       "      <td>  6</td>\n",
       "      <td>   4</td>\n",
       "      <td> @realDonaldTrump</td>\n",
       "    </tr>\n",
       "    <tr>\n",
       "      <th>16</th>\n",
       "      <td>  1</td>\n",
       "      <td>  5</td>\n",
       "      <td>   4</td>\n",
       "      <td>       @KingJames</td>\n",
       "    </tr>\n",
       "    <tr>\n",
       "      <th>17</th>\n",
       "      <td>  0</td>\n",
       "      <td>  4</td>\n",
       "      <td>   9</td>\n",
       "      <td>           @Oprah</td>\n",
       "    </tr>\n",
       "    <tr>\n",
       "      <th>18</th>\n",
       "      <td>  3</td>\n",
       "      <td> 15</td>\n",
       "      <td>  18</td>\n",
       "      <td>           @Adele</td>\n",
       "    </tr>\n",
       "    <tr>\n",
       "      <th>19</th>\n",
       "      <td>  3</td>\n",
       "      <td> 17</td>\n",
       "      <td>  19</td>\n",
       "      <td>           @Drake</td>\n",
       "    </tr>\n",
       "    <tr>\n",
       "      <th>20</th>\n",
       "      <td>  5</td>\n",
       "      <td>  7</td>\n",
       "      <td>  12</td>\n",
       "      <td>  @KevinHart4real</td>\n",
       "    </tr>\n",
       "    <tr>\n",
       "      <th>21</th>\n",
       "      <td> 14</td>\n",
       "      <td> 38</td>\n",
       "      <td>  38</td>\n",
       "      <td>    @RyanSeacrest</td>\n",
       "    </tr>\n",
       "    <tr>\n",
       "      <th>22</th>\n",
       "      <td> 11</td>\n",
       "      <td> 50</td>\n",
       "      <td>  59</td>\n",
       "      <td>             @JLo</td>\n",
       "    </tr>\n",
       "    <tr>\n",
       "      <th>23</th>\n",
       "      <td>  4</td>\n",
       "      <td> 16</td>\n",
       "      <td>  18</td>\n",
       "      <td>      @NICKIMINAJ</td>\n",
       "    </tr>\n",
       "  </tbody>\n",
       "</table>\n",
       "</div>"
      ],
      "text/plain": [
       "    Negative  Neutral  Positive              User\n",
       "0         28       86       124        @katyperry\n",
       "1          7       20        20     @justinbieber\n",
       "2          3       12        16      @BarackObama\n",
       "3          2       12        22    @taylorswift13\n",
       "4          3        4         6          @rihanna\n",
       "5         11       33        63     @TheEllenShow\n",
       "6          3        6        12         @ladygaga\n",
       "7          0       13        18      @jtimberlake\n",
       "8          1       14        20    @KimKardashian\n",
       "9          2        9        14      @selenagomez\n",
       "10         8       22        39      @jimmyfallon\n",
       "11         6       30        36     @ArianaGrande\n",
       "12         2       20        22         @ddlovato\n",
       "13         4        8        11       @MileyCyrus\n",
       "14         4       25        21        @kanyewest\n",
       "15         0        6         4  @realDonaldTrump\n",
       "16         1        5         4        @KingJames\n",
       "17         0        4         9            @Oprah\n",
       "18         3       15        18            @Adele\n",
       "19         3       17        19            @Drake\n",
       "20         5        7        12   @KevinHart4real\n",
       "21        14       38        38     @RyanSeacrest\n",
       "22        11       50        59              @JLo\n",
       "23         4       16        18       @NICKIMINAJ"
      ]
     },
     "execution_count": 15,
     "metadata": {},
     "output_type": "execute_result"
    }
   ],
   "source": [
    "aggTable = pd.DataFrame({'User': top_twitter_users, 'Positive': countPos, 'Negative': countNeg, 'Neutral': countNeutral})\n",
    "aggTable.to_csv('aggregate_counts.csv')\n",
    "aggTable"
   ]
  },
  {
   "cell_type": "code",
   "execution_count": 16,
   "metadata": {
    "collapsed": false
   },
   "outputs": [],
   "source": [
    "allMentions = np.zeros((len(top_twitter_users), len(top_twitter_users)))\n",
    "allPosMentions = np.zeros((len(top_twitter_users), len(top_twitter_users)))\n",
    "allNeutralMentions = np.zeros((len(top_twitter_users), len(top_twitter_users)))\n",
    "allNegMentions = np.zeros((len(top_twitter_users), len(top_twitter_users)))\n",
    "for user in top_twitter_users:\n",
    "    for tweet in good_tweets[user]:\n",
    "        for recipient in tweet['recipient']:\n",
    "            allMentions[twitter_users_idx[user]][twitter_users_idx[recipient]]+=1\n",
    "            if tweet['sentiment']==1:\n",
    "                allPosMentions[twitter_users_idx[user]][twitter_users_idx[recipient]]+=1\n",
    "            elif tweet['sentiment']==-1:\n",
    "                allNegMentions[twitter_users_idx[user]][twitter_users_idx[recipient]]+=1\n",
    "            else:\n",
    "                allNeutralMentions[twitter_users_idx[user]][twitter_users_idx[recipient]]+=1"
   ]
  },
  {
   "cell_type": "code",
   "execution_count": 17,
   "metadata": {
    "collapsed": false
   },
   "outputs": [],
   "source": [
    "DGAll=nx.DiGraph()\n",
    "DGPos=nx.DiGraph()\n",
    "DGNeg=nx.DiGraph()\n",
    "DGNeutral=nx.DiGraph()\n",
    "for i in range(len(top_twitter_users)):\n",
    "    for j in range(len(top_twitter_users)):\n",
    "        if allMentions[i][j]>1:\n",
    "            DGAll.add_weighted_edges_from([(i,j,allMentions[i][j])])\n",
    "        if allPosMentions[i][j]>1:\n",
    "            DGPos.add_weighted_edges_from([(i,j,allPosMentions[i][j])])\n",
    "        if allNeutralMentions[i][j]>1:\n",
    "            DGNeutral.add_weighted_edges_from([(i,j,allNeutralMentions[i][j])])\n",
    "        if allNegMentions[i][j]>1:\n",
    "            DGNeg.add_weighted_edges_from([(i,j,allNegMentions[i][j])])\n",
    "\n",
    "plt.clf()\n",
    "nx.draw_circular(DGAll)\n",
    "plt.savefig(\"pathAll.png\")\n",
    "plt.clf()\n",
    "nx.draw_circular(DGPos)\n",
    "plt.savefig(\"pathPos.png\")\n",
    "plt.clf()\n",
    "nx.draw_circular(DGNeg)\n",
    "plt.savefig(\"pathNeg.png\")\n",
    "plt.clf()\n",
    "nx.draw_circular(DGNeutral)\n",
    "plt.savefig(\"pathNeutral.png\")\n",
    "plt.clf()"
   ]
  },
  {
   "cell_type": "markdown",
   "metadata": {},
   "source": [
    "### Saving Some Stuff ###"
   ]
  },
  {
   "cell_type": "code",
   "execution_count": 18,
   "metadata": {
    "collapsed": false
   },
   "outputs": [],
   "source": [
    "allMentionsTable = pd.DataFrame(allMentions)\n",
    "allMentionsTable.columns = top_twitter_users\n",
    "allMentionsTable.index = top_twitter_users\n",
    "allMentionsTable.to_csv('all_mentions.csv')\n",
    "\n",
    "allPosMentionsTable = pd.DataFrame(allPosMentions)\n",
    "allPosMentionsTable.columns = top_twitter_users\n",
    "allPosMentionsTable.index = top_twitter_users\n",
    "allPosMentionsTable.to_csv('all_pos_mentions.csv')\n",
    "\n",
    "allNeutralMentionsTable = pd.DataFrame(allNeutralMentions)\n",
    "allNeutralMentionsTable.columns = top_twitter_users\n",
    "allNeutralMentionsTable.index = top_twitter_users\n",
    "allNeutralMentionsTable.to_csv('all_neutral_mentions.csv')\n",
    "\n",
    "allNegMentionsTable = pd.DataFrame(allNegMentions)\n",
    "allNegMentionsTable.columns = top_twitter_users\n",
    "allNegMentionsTable.index = top_twitter_users\n",
    "allNegMentionsTable.to_csv('all_neg_mentions.csv')"
   ]
  },
  {
   "cell_type": "markdown",
   "metadata": {
    "collapsed": true
   },
   "source": [
    "### Different format for Data:"
   ]
  },
  {
   "cell_type": "code",
   "execution_count": 23,
   "metadata": {
    "collapsed": true
   },
   "outputs": [],
   "source": [
    "node_connections = [['source','target','value']]\n",
    "for i in range(len(top_twitter_users)):\n",
    "    for j in range(len(top_twitter_users)):\n",
    "        if not allMentions[i][j]==0:\n",
    "            node_connections.append([top_twitter_users[i],top_twitter_users[j],allMentions[i][j]])"
   ]
  },
  {
   "cell_type": "code",
   "execution_count": 27,
   "metadata": {
    "collapsed": false
   },
   "outputs": [],
   "source": [
    "nodeConnectionsTable = pd.DataFrame(node_connections)\n",
    "nodeConnectionsTable.to_csv('force.csv',index=False, header=False)"
   ]
  },
  {
   "cell_type": "code",
   "execution_count": null,
   "metadata": {
    "collapsed": true
   },
   "outputs": [],
   "source": []
  }
 ],
 "metadata": {
  "kernelspec": {
   "display_name": "Python 2",
   "language": "python",
   "name": "python2"
  },
  "language_info": {
   "codemirror_mode": {
    "name": "ipython",
    "version": 2
   },
   "file_extension": ".py",
   "mimetype": "text/x-python",
   "name": "python",
   "nbconvert_exporter": "python",
   "pygments_lexer": "ipython2",
   "version": "2.7.11"
  }
 },
 "nbformat": 4,
 "nbformat_minor": 0
}
