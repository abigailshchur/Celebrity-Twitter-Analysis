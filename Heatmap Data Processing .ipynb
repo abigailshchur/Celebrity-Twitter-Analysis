{
 "cells": [
  {
   "cell_type": "markdown",
   "metadata": {},
   "source": [
    "## Importing Data:"
   ]
  },
  {
   "cell_type": "code",
   "execution_count": 1,
   "metadata": {
    "collapsed": true
   },
   "outputs": [],
   "source": [
    "from collections import defaultdict\n",
    "from textblob import TextBlob\n",
    "import numpy as np\n",
    "import pickle\n",
    "import pandas as pd\n",
    "import csv\n",
    "import io, json\n",
    "import re"
   ]
  },
  {
   "cell_type": "code",
   "execution_count": 2,
   "metadata": {
    "collapsed": true
   },
   "outputs": [],
   "source": [
    "top_twitter_users = [\"@KingJames\", \"@KDTrey5\", \"@StephenCurry30\", \"@Cristiano\", \"@JohnCena\",\n",
    "                    \"@BarackObama\", \"@realDonaldTrump\", \"@HillaryClinton\", \"@BernieSanders\", \"@tedcruz\",\n",
    "                    \"@Oprah\", \"@RyanSeacrest\", \"@TheEllenShow\", \"@jimmykimmel\", \"@jimmyfallon\",\n",
    "                    \"@KimKardashian\",\"@justinbieber\", \"@KevinHart4real\", \"@ArianaGrande\", \"@ddlovato\"];\n",
    "top_twitter_users_lowered = [x.lower() for x in top_twitter_users]\n",
    "twitter_users_idx = defaultdict(int)\n",
    "for i in range(len(top_twitter_users)):\n",
    "    twitter_users_idx[top_twitter_users[i]]=i"
   ]
  },
  {
   "cell_type": "code",
   "execution_count": 3,
   "metadata": {
    "collapsed": true
   },
   "outputs": [],
   "source": [
    "all_tweets = pickle.load(open(\"all_tweets_half.p\", \"rb\"))\n",
    "all_tweets_old = pickle.load(open(\"all_tweets.p\", \"rb\"))"
   ]
  },
  {
   "cell_type": "code",
   "execution_count": 4,
   "metadata": {
    "collapsed": true
   },
   "outputs": [],
   "source": [
    "for i in all_tweets_old:\n",
    "    if i in top_twitter_users and i not in all_tweets:\n",
    "        all_tweets[i] = all_tweets_old[i]"
   ]
  },
  {
   "cell_type": "markdown",
   "metadata": {},
   "source": [
    "## Getting Subset of Tweets "
   ]
  },
  {
   "cell_type": "code",
   "execution_count": 5,
   "metadata": {
    "collapsed": true
   },
   "outputs": [],
   "source": [
    "def get_recipient(tweet):\n",
    "    return re.findall(r'\\B\\@\\w+\\b', tweet)"
   ]
  },
  {
   "cell_type": "code",
   "execution_count": 6,
   "metadata": {
    "collapsed": false
   },
   "outputs": [],
   "source": [
    "for user in top_twitter_users:\n",
    "    for i in range(len(all_tweets[user])):\n",
    "        all_tweets[user][i]['recipient'] = get_recipient(all_tweets[user][i]['text'])"
   ]
  },
  {
   "cell_type": "code",
   "execution_count": 7,
   "metadata": {
    "collapsed": false
   },
   "outputs": [],
   "source": [
    "good_tweets = defaultdict(list)\n",
    "for user in top_twitter_users:\n",
    "    for tweet in all_tweets[user]:\n",
    "        for recipient in tweet['recipient']:\n",
    "            tweet2=tweet.copy()\n",
    "            if (recipient.lower() in top_twitter_users_lowered) and (not recipient.lower()==user.lower()):\n",
    "                tweet2['recipient'] = [recipient]\n",
    "                good_tweets[user].append(tweet2)\n",
    "                break"
   ]
  },
  {
   "cell_type": "markdown",
   "metadata": {},
   "source": [
    "## Doing Some Sentiment Analysis"
   ]
  },
  {
   "cell_type": "code",
   "execution_count": 8,
   "metadata": {
    "collapsed": true
   },
   "outputs": [],
   "source": [
    "## REFERENCE : https://github.com/praritlamba/Mining-Twitter-Data-for-Sentiment-Analysis ##\n",
    "def processTweet(tweet_text):\n",
    "    tweet_text = tweet_text.lower()\n",
    "    tweet_text = re.sub('((www\\.[^\\s]+)|(https?://[^\\s]+))','URL',tweet_text)\n",
    "    tweet_text = re.sub('@[^\\s]+','AT_USER',tweet_text)\n",
    "    tweet_text = re.sub('[\\s]+', ' ', tweet_text)\n",
    "    tweet_text = re.sub(r'#([^\\s]+)', r'\\1', tweet_text)\n",
    "    tweet_text = tweet_text.strip('\\'\"')\n",
    "    return tweet_text\n",
    "\n",
    "def get_tweet_sentiment(tweet):\n",
    "    analysis = TextBlob(processTweet(tweet))\n",
    "    if analysis.sentiment.polarity > 0:\n",
    "        return 1 # positive\n",
    "    elif analysis.sentiment.polarity == 0:\n",
    "        return 0 # neutral\n",
    "    else:\n",
    "        return -1 # negative"
   ]
  },
  {
   "cell_type": "code",
   "execution_count": 9,
   "metadata": {
    "collapsed": true
   },
   "outputs": [],
   "source": [
    "for user in top_twitter_users:\n",
    "    for i in range(len(good_tweets[user])):\n",
    "        good_tweets[user][i]['sentiment'] = get_tweet_sentiment(good_tweets[user][i]['text'])"
   ]
  },
  {
   "cell_type": "markdown",
   "metadata": {},
   "source": [
    "## Creating table for tweets and sentiment for manual sentiment analysis"
   ]
  },
  {
   "cell_type": "code",
   "execution_count": 10,
   "metadata": {
    "collapsed": false
   },
   "outputs": [],
   "source": [
    "tweets = []\n",
    "sentiment = []\n",
    "for user in top_twitter_users:\n",
    "    for tweet in good_tweets[user]:\n",
    "        tweets.append(tweet[\"text\"].encode('ascii',errors='ignore'))\n",
    "        sentiment.append(tweet[\"sentiment\"])"
   ]
  },
  {
   "cell_type": "code",
   "execution_count": 11,
   "metadata": {
    "collapsed": false
   },
   "outputs": [],
   "source": [
    "aggTable = pd.DataFrame({'text': tweets, 'sentiment': sentiment})\n",
    "aggTable.to_csv('sentiment_table_old.csv')"
   ]
  },
  {
   "cell_type": "code",
   "execution_count": 12,
   "metadata": {
    "collapsed": false
   },
   "outputs": [],
   "source": [
    "aggTable = pd.read_csv('sentiment_table_new.csv')"
   ]
  },
  {
   "cell_type": "code",
   "execution_count": 13,
   "metadata": {
    "collapsed": true
   },
   "outputs": [],
   "source": [
    "tweet_to_sentiment = {}\n",
    "for i in range(len(aggTable)):\n",
    "    tweet_to_sentiment[aggTable[\"text\"][i]] = aggTable[\"sentiment\"][i]"
   ]
  },
  {
   "cell_type": "code",
   "execution_count": 14,
   "metadata": {
    "collapsed": false
   },
   "outputs": [],
   "source": [
    "data_combined = {}\n",
    "for user in top_twitter_users:\n",
    "    for tweet in good_tweets[user]:\n",
    "        for recipient in tweet[\"recipient\"]:\n",
    "            data_combined[user.lower()+\" \"+recipient.lower()] = {\"pos\":0, \"neg\":0, \"neutral\":0}"
   ]
  },
  {
   "cell_type": "code",
   "execution_count": 15,
   "metadata": {
    "collapsed": false
   },
   "outputs": [],
   "source": [
    "for user in top_twitter_users:\n",
    "    for tweet in good_tweets[user]:\n",
    "        if tweet[\"text\"] in tweet_to_sentiment:\n",
    "            s = tweet_to_sentiment[tweet[\"text\"]]\n",
    "        else:\n",
    "            s = 0\n",
    "        for recipient in tweet[\"recipient\"]:\n",
    "            if s==-1:\n",
    "                data_combined[user.lower()+\" \"+recipient.lower()][\"neg\"]+=1\n",
    "            elif s==1:\n",
    "                data_combined[user.lower()+\" \"+recipient.lower()][\"pos\"]+=1\n",
    "            else:\n",
    "                data_combined[user.lower()+\" \"+recipient.lower()][\"neutral\"]+=1"
   ]
  },
  {
   "cell_type": "code",
   "execution_count": 16,
   "metadata": {
    "collapsed": false
   },
   "outputs": [],
   "source": [
    "data_combined2 = {}\n",
    "for user1 in top_twitter_users:\n",
    "    for user2 in top_twitter_users:\n",
    "        if user1.lower()+\" \"+user2.lower() in data_combined:\n",
    "            data_combined2[user1+\" \"+user2] = data_combined[user1.lower()+\" \"+user2.lower()]"
   ]
  },
  {
   "cell_type": "code",
   "execution_count": 18,
   "metadata": {
    "collapsed": false
   },
   "outputs": [],
   "source": [
    "with io.open('reply_sentiment_counts.json', 'w', encoding='utf-8') as f:\n",
    "  f.write(unicode(json.dumps(data_combined2, ensure_ascii=False)))"
   ]
  },
  {
   "cell_type": "code",
   "execution_count": null,
   "metadata": {
    "collapsed": true
   },
   "outputs": [],
   "source": []
  }
 ],
 "metadata": {
  "kernelspec": {
   "display_name": "Python 2",
   "language": "python",
   "name": "python2"
  },
  "language_info": {
   "codemirror_mode": {
    "name": "ipython",
    "version": 2
   },
   "file_extension": ".py",
   "mimetype": "text/x-python",
   "name": "python",
   "nbconvert_exporter": "python",
   "pygments_lexer": "ipython2",
   "version": "2.7.11"
  }
 },
 "nbformat": 4,
 "nbformat_minor": 0
}
