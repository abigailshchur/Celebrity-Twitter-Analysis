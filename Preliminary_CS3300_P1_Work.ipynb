{
 "cells": [
  {
   "cell_type": "markdown",
   "metadata": {},
   "source": [
    "# Project 1: #"
   ]
  },
  {
   "cell_type": "markdown",
   "metadata": {},
   "source": [
    "### Scraping Twitter Fun  ###"
   ]
  },
  {
   "cell_type": "code",
   "execution_count": 45,
   "metadata": {
    "collapsed": true
   },
   "outputs": [],
   "source": [
    "import tweepy, datetime, time\n",
    "from collections import defaultdict\n",
    "import numpy as np\n",
    "import pickle"
   ]
  },
  {
   "cell_type": "code",
   "execution_count": 50,
   "metadata": {
    "collapsed": true
   },
   "outputs": [],
   "source": [
    "consumer_key = [\"ne2hSR72VjPTtmeivfXlIi37h\", \"DYUxA5grfCTJAHIRMXEj4GQ8e\", \"AkrI7FFc1bjehLmcJXvXoNfwf\"]\n",
    "consumer_secret = [\"q4oBCvYhbOk2SbZXUMdcO5JPMG3vsDkoyvzuqqnR4504JBe7mn\", \"ghkqjLB21CJS134GW5hQuxQwujSNiSfV9Cs3epIqXOiSvKLx3v\"\n",
    "                  , \"OEoucWYInX76nz2hgXnRKo0EGXW3JQwz8dOXONg5QdKNQf0gVS\"]\n",
    "access_key = [\"833804028421271552-yqHA222U5iL3HxelhePVy6MDgb4d06w\", \"833822897827434501-y6fSz8tM42eonCrPPdYp7cbkBbvqM7F\"\n",
    "             ,\"833824946497388544-hJbqSgAooo01RtyuMLQnJbxIJ9R39S0\"]\n",
    "access_secret = [\"WQROg2RmQCmkgF10JgZOxIsYqxDkwdM6u5MSjyqpWmvzR\", \"Q1TlJcbgMA3cM2FMhrKGCdJARUN4i3AumrxzuV4RBYVvD\"\n",
    "                ,\"9pFmZdhgTnWmgPPxngOrnI2HdSVXHGzHJqgcEebRzcnVs\"]"
   ]
  },
  {
   "cell_type": "code",
   "execution_count": 51,
   "metadata": {
    "collapsed": true
   },
   "outputs": [],
   "source": [
    "auth = tweepy.OAuthHandler(consumer_key[1], consumer_secret[1])\n",
    "auth.set_access_token(access_key[1], access_secret[1])\n",
    "api = tweepy.API(auth)"
   ]
  },
  {
   "cell_type": "code",
   "execution_count": 52,
   "metadata": {
    "collapsed": true
   },
   "outputs": [],
   "source": [
    "top_twitter_users = [\"@katyperry\", \"@justinbieber\", \"@BarackObama\", \"@taylorswift13\", \"@rihanna\",\n",
    "                    \"@TheEllenShow\", \"@ladygaga\", \"@jtimberlake\", \"@britneyspears\", \"@KimKardashian\",\n",
    "                    \"@Cristiano\", \"@selenagomez\", \"@jimmyfallon\", \"@ArianaGrande\", \"@shakira\", \n",
    "                    \"@ddlovato\", \"@MileyCyrus\", \"@kanyewest\", \"@realDonaldTrump\"]"
   ]
  },
  {
   "cell_type": "code",
   "execution_count": 53,
   "metadata": {
    "collapsed": true
   },
   "outputs": [],
   "source": [
    "def update_keys(iteration):\n",
    "    auth = tweepy.OAuthHandler(consumer_key[iteration], consumer_secret[iteration])\n",
    "    auth.set_access_token(access_key[iteration], access_secret[iteration])\n",
    "    return tweepy.API(auth)"
   ]
  },
  {
   "cell_type": "code",
   "execution_count": 54,
   "metadata": {
    "collapsed": false
   },
   "outputs": [],
   "source": [
    "all_tweets = defaultdict(list)\n",
    "for user in top_twitter_users:\n",
    "    if user == top_twitter_users[13]:\n",
    "        api = update_keys(2)\n",
    "    qr = tweepy.Cursor(api.user_timeline, id=user)\n",
    "    for tw in qr.items():\n",
    "        created = tw.created_at\n",
    "        if created < datetime.datetime(2016, 1, 1, 0, 0):\n",
    "            break\n",
    "        all_tweets[user].append({'text': tw.text, 'date': tw.created_at})"
   ]
  },
  {
   "cell_type": "code",
   "execution_count": 55,
   "metadata": {
    "collapsed": false
   },
   "outputs": [],
   "source": [
    "pickle.dump(all_tweets, open( \"all_tweets.p\", \"wb\" ) )"
   ]
  },
  {
   "cell_type": "markdown",
   "metadata": {},
   "source": [
    "### Making a Nice Table to Work With ###"
   ]
  },
  {
   "cell_type": "code",
   "execution_count": 58,
   "metadata": {
    "collapsed": false
   },
   "outputs": [],
   "source": [
    "all_tweets = pickle.load(open( \"all_tweets.p\", \"rb\" ))"
   ]
  },
  {
   "cell_type": "code",
   "execution_count": 61,
   "metadata": {
    "collapsed": false
   },
   "outputs": [
    {
     "data": {
      "text/plain": [
       "'katyperry.csv'"
      ]
     },
     "execution_count": 61,
     "metadata": {},
     "output_type": "execute_result"
    }
   ],
   "source": [
    "top_twitter_users[0][1:]+'.csv'"
   ]
  },
  {
   "cell_type": "code",
   "execution_count": null,
   "metadata": {
    "collapsed": true
   },
   "outputs": [],
   "source": []
  }
 ],
 "metadata": {
  "kernelspec": {
   "display_name": "Python 2",
   "language": "python",
   "name": "python2"
  },
  "language_info": {
   "codemirror_mode": {
    "name": "ipython",
    "version": 2
   },
   "file_extension": ".py",
   "mimetype": "text/x-python",
   "name": "python",
   "nbconvert_exporter": "python",
   "pygments_lexer": "ipython2",
   "version": "2.7.11"
  }
 },
 "nbformat": 4,
 "nbformat_minor": 0
}
