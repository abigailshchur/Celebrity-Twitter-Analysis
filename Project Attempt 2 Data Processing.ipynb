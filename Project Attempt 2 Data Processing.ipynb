{
 "cells": [
  {
   "cell_type": "code",
   "execution_count": 1,
   "metadata": {
    "collapsed": true
   },
   "outputs": [],
   "source": [
    "from collections import defaultdict\n",
    "import numpy as np\n",
    "import pickle\n",
    "import pandas as pd\n",
    "import csv\n",
    "import io, json"
   ]
  },
  {
   "cell_type": "code",
   "execution_count": 2,
   "metadata": {
    "collapsed": true
   },
   "outputs": [],
   "source": [
    "top_twitter_users = [\"@KingJames\", \"@KDTrey5\", \"@StephenCurry30\", \"@Cristiano\", \"@JohnCena\",\n",
    "                    \"@BarackObama\", \"@realDonaldTrump\", \"@HillaryClinton\", \"@BernieSanders\", \"@tedcruz\",\n",
    "                    \"@Oprah\", \"@RyanSeacrest\", \"@TheEllenShow\", \"@jimmykimmel\", \"@jimmyfallon\",\n",
    "                    \"@KimKardashian\",\"@justinbieber\", \"@KevinHart4real\", \"@ArianaGrande\", \"@ddlovato\"];"
   ]
  },
  {
   "cell_type": "code",
   "execution_count": 3,
   "metadata": {
    "collapsed": true
   },
   "outputs": [],
   "source": [
    "top_twitter_users_lowered = [x.lower() for x in top_twitter_users]"
   ]
  },
  {
   "cell_type": "code",
   "execution_count": 4,
   "metadata": {
    "collapsed": false
   },
   "outputs": [],
   "source": [
    "twitter_users_idx = defaultdict(int)\n",
    "for i in range(len(top_twitter_users)):\n",
    "    twitter_users_idx[top_twitter_users[i]]=i"
   ]
  },
  {
   "cell_type": "code",
   "execution_count": 5,
   "metadata": {
    "collapsed": false
   },
   "outputs": [],
   "source": [
    "all_tweets = pickle.load(open(\"all_tweets_half.p\", \"rb\"))\n",
    "all_tweets_old = pickle.load(open(\"all_tweets.p\", \"rb\"))"
   ]
  },
  {
   "cell_type": "code",
   "execution_count": 6,
   "metadata": {
    "collapsed": true
   },
   "outputs": [],
   "source": [
    "for i in all_tweets_old:\n",
    "    if i in top_twitter_users and i not in all_tweets:\n",
    "        all_tweets[i] = all_tweets_old[i]"
   ]
  },
  {
   "cell_type": "code",
   "execution_count": 7,
   "metadata": {
    "collapsed": false
   },
   "outputs": [
    {
     "data": {
      "text/plain": [
       "20"
      ]
     },
     "execution_count": 7,
     "metadata": {},
     "output_type": "execute_result"
    }
   ],
   "source": [
    "len(all_tweets)"
   ]
  },
  {
   "cell_type": "markdown",
   "metadata": {},
   "source": [
    "# Add to list below, run until you get counts"
   ]
  },
  {
   "cell_type": "code",
   "execution_count": 171,
   "metadata": {
    "collapsed": false
   },
   "outputs": [
    {
     "data": {
      "text/plain": [
       "143"
      ]
     },
     "execution_count": 171,
     "metadata": {},
     "output_type": "execute_result"
    }
   ],
   "source": [
    "trends_hash = [\"#Harambe\", \"#TheDress\", \"#BlueandBlack\", \"#WhiteandGold\",\n",
    "                     \"#PokemonGo\", \"#blonde\", \"#showyourgrit\", \"#nevergiveup\", \"#confident\", \"#tbt\", \"#dopepic\",\n",
    "              \"#belief\", \"#striveforgreatness\", \"#1\", \"#thankyounotefriday!\", \"#qotd\", \"#gimmesugar\", \n",
    "               \"#periscope:\", \"#earntheday\", \"#respect\", \"#raw\", \"#lilswag\", \"#throwbackthursday\", \"#ad\", \n",
    "              \"#mondaymotivation\", \"#beliefstories\", \"#nmm\", \"#futurenow\", \"#findconfident\", \"#focus\",\n",
    "              \"#fixmylife\", \"#christmasandchill\", \"#mercurial\", \"#blessed\", \"#nomakeupmonday\", \"#appstorechat\",\n",
    "              \"#nikeplus\", \"#quoteoftheday\", \"#family\", \"#gg\", \"#livelovelaugh\", \"#keeppounding\",\n",
    "              \"#yourewelcomewednesday\", \"#classicjokefriday\", \"#bevocalspeakup\", \"#meerkat\", \"#everyday\",\n",
    "               \"#dosomething\", \"#fixovertime\", \"#beliefin3words\", \"#illshowyou\", \"#ipromise\", \n",
    "              \"#sistersunday\", \"#notmeus\", \"#liveloveandlaugh\",'#starwars','#throwbackthursday!','#emojiexploji','#mashupmonday'\n",
    "              ,'#fff','#mcm','#mannequinchallenge','#nationalbestfriendsday','#cybermonday','#flashbackfriday',\n",
    "               '#fbf','#tbt:','#giveback','#wearorange','#valentinesday','#throwback','#fathersday','#ttf','#wearefamily'\n",
    "              ,'#squadgoals','#periscope','#bekindtooneanother','#yeezy','#mobsquad','#streetstyle',\n",
    "               '#saturdaynightonline','#dreamfearlessly','#shareacoke','#snapchat','#happyhalloween','#happythanksgiving',\n",
    "              '#happynewyear','#happyvalentinesday','#aprilfools','#happyholidays','#merrychristmas','#nationaldogday',\n",
    "              '#sparkbrilliance', '#raiseit', '#powerhair', '#clearnodandruff', '#heritage', '#techpack', '#perfectmatch',\n",
    "              '#visitmadeira', '#hahn', '#belief.', '#in', '#indeepshift', '#queensugar.', '#wherearetheynow', '#vivaglam',\n",
    "              '#uninterrupted', '#micdrop', '#durantemoji', '#productporn','#sparklingicecontest', '#icymi-', '#icymi:',\n",
    "              '#icymi', '#catweek', '#becoming', '#wedemboyz', '#oh', '#brightfutures', '#thankyounotefriday',\n",
    "              '#12daysofchristmassweaters', '#overandoveragain', '#boyslikeyou', '#yourewelcomewednesday!', '#littlebigshots',\n",
    "              '#tbt!', '#mememonday!', '#groundhogday!', '#fallsongs', '#worstfirstdate', '#myfamilyisweird', '#whyimsingle',\n",
    "              '#weddingfail', '#minorityreport', '#youtubechallenge', '#fingerofshame', '#distinction', '#omg', '#tbt,',\n",
    "              '#ionceoverheard', '#igotbusted', '#awwhellsnow']\n",
    "trends_hash_lowered = [x.lower() for x in trends_hash]\n",
    "trends_hash_lowered_nohash = [x[1:] for x in trends_hash_lowered]\n",
    "len(trends_hash)"
   ]
  },
  {
   "cell_type": "code",
   "execution_count": 172,
   "metadata": {
    "collapsed": false
   },
   "outputs": [
    {
     "data": {
      "text/plain": [
       "212"
      ]
     },
     "execution_count": 172,
     "metadata": {},
     "output_type": "execute_result"
    }
   ],
   "source": [
    "celeb_hash = [\"#OscarsSoWhite\", \"#Oscars\", \"#LaLaLand\", \"#therevenant\", \"#moonlight\", \"#lemonade\",\n",
    "             \"#GameofThrones\",\"buzz\",\"#OneDirection\", \"#FallonTonight\", \"#whatnow\", \"#kevinhartwhatnow\", \"#purpose\",\n",
    "             \"#greenleaf\", \"#shadesofblue\", \"#whatdoyoumean\", \"#kevmoji\", \"#queensugar\", \"#centralintelligence\",\n",
    "             \"#americangrit\", \"#coolforthesummer\", \"#purposetour\", \"#kuwtk\", \"#comedicrockstarshit\", \"#hustlehart\",\n",
    "             \"#idol\", \"#seacreststudios\", \"#grammys\", \"#sorry\", \"#harts\", \"#movewithhart\", \"#askdemi\",\n",
    "              \"#laughdancepartner\", \"#preorderpurpose\", \"#eredcarpet\", \"#rockineve\", \"#amas\", \"#kimoji\",\n",
    "             \"#futurenowtour\", \"#idolauditions\", \"#idolfinale\", \"#hondacivictour\", \"#whereareunow\", \"#emmys\",\n",
    "             \"#meantweets\", \"#dangerouswoman\", \"#kimmel\", \"#coldwater\", \"#vmas\", \"#devonnebydemi\",\n",
    "             \"#dangerouswomantour\", \"#idolpremiere\", \"#purposeworldtour\", \"#lovatics\", \"#iheartawards\",\n",
    "             \"#knockknocklive\", \"#sidetoside\", \"#beliebers\", \"#demiworldtour\", \"#liewitnessnews\", \"#intoyou\",\n",
    "             \"#whatnowtour\", \"#loveyourself\", \"#kimojimerch\", \"#iheartradio\", \"#kevmojis\", \"#thebachelor\",\n",
    "             \"#nowplaying\", \"#findingdory\", \"#goldenglobes\", \"#kimmel4vpomg\", \"#fallontonightla\", \"#wangotango\",\n",
    "             \"#kimkardashiangame\", \"#bieberroast\", \"#sxsw\", \"#trainwreck\", \"#bts\", \"#canneslions\",\n",
    "             \"#nowplayingconfident\", \"#fallonmono\", \"#supersoulsessions\", \"#selma50\", \"#roadtorio\",\n",
    "             \"#teenchoice\", \"#biebertoday\", \"#hollywoodweek\", \"#masterclass\", \"#hittingtheatersoctober14th\",\n",
    "             \"#whatdoyoumean\", \"#purposealbum\", \"#mybrotherskeeper\", \"#iheartfestival\", \"#totalbellas\",\n",
    "             \"#askobc\", \"#whatdoyoumean?\", \"#demilovato\", \"#teamnoah\", \"#eveningwithjb\", \"#purposethemovement\",\n",
    "             \"#elleninnyc\", \"#carpoolkaraoke\", \"#justinbieber\", \"#bieberweek\", \"#justmoji\", \"#bestfanarmy\",\n",
    "             \"#demionamas\", \"#snl\", \"#potusonfallon\", \"#hairspraylive\", \"#ari\",'#gq','#bachelor',\"#bachelorette\",\n",
    "              '#theforceawakens','#vma','#avengers','#rogueone','#thebabybachelorette','#thebachelor,','#thebachelor.'\n",
    "             ,'#bbmas','#thebachelorette','#teamnick','#mattdamon','#bodysay','#lovatics!','#kimmelschoolofperfectacting',\n",
    "              '#ilovekp','#ellendesignonhgtv','#whereareunowmusicvideo','#stonecold','#scandalhigh','#survivorsremorse'\n",
    "             ,'#kimnofilter','#bieberonseacrest','#whatnow.','#cr7underwear','#selectedbybeckham','#cr7drive','#cr7shirts'\n",
    "             ,'#bachelornation','#robandchyna','#got','#ellenqanda','#johnivey','#scandal','#ellenpremiere','#kiisjingleball'\n",
    "             ,'#kimkardashiangame!','#backstageatellen','#thesecretlifeofpets','#frankiebyarianagrande',\n",
    "             '#batmanvsuperman','#womeninmusic','#selmamovie','#nickjonas', '#cristianoandsfr', '#cristianoronaldolegacy',\n",
    "             '#cristianoronaldolegacy.', '#ruby', '#oprahsbookclub', '#dangerouswomantonight', '#dangerouswomandiaries',\n",
    "             '#2days', '#5days', '#purpose.', '#justinformmva', '#beliebers!', \"#1day\", '#gqparty', '#hartofthecity',\n",
    "             '#secretlifeofpets', '#themasterclass', '#kdlaw', '#kdcf', '#kevindurant', '#kkwapp', '#lipsyncbattle', \n",
    "             \"#fallon\", '#demiongma', '#coolforthesummer!', '#kd7', '#kimkardashianhollywood', '#pedestrianquestion',\n",
    "             '#3rq', '#kimmelinaustin', '#nbc', '#10tomorrow', '#pedestrianquestion', '#ellen2k', '#ellens12days!',\n",
    "             '#ellens12days', '#4ellen', '#edbyellen', '#findingdory!', '#getelleyonthetelly', '#adellen', '#pcas',\n",
    "             '#chevymalibu', '#1donellen', '#12daysofchristmassweaters!', '#fallontonightlive', '#hamiltonmixtape',\n",
    "             '#fallonlive', '#hardwiredtoselfdestruct', '#thankyounotes', '#emailfail', '#demipathtofame',\n",
    "             '#judgejames', '#thetyleroakleyshow', '#kimmelinbrooklyn']\n",
    "celeb_hash_lowered = [x.lower() for x in celeb_hash]\n",
    "len(celeb_hash)"
   ]
  },
  {
   "cell_type": "code",
   "execution_count": 173,
   "metadata": {
    "collapsed": false
   },
   "outputs": [
    {
     "data": {
      "text/plain": [
       "98"
      ]
     },
     "execution_count": 173,
     "metadata": {},
     "output_type": "execute_result"
    }
   ],
   "source": [
    "sports_hash = [\"#FifaWWC\", \"#Warriors\", \"#SBXLIX\", \"#SB49\", \"#NBA\", \"#NFL\", \"#Rio2016\",\n",
    "              \"#Rio\", \"#Olympics\", \"#FifaWC\", \"#WorldCup\", \"#SuperBowl50\", \"#SuperBowl51\",\n",
    "              \"#superbowl\", \"#football\", \"#dubnation\", \"#supersoulsunday\", \"#olympiclatenight\", \"#ngu\",\n",
    "              \"#sdlive\", \"#nbavote\", \"#wcw\", \"#hlr\", \"#31to31\", \"#nbafinals\", \"#kd9\", \"#sb50\",\n",
    "              \"#hustleharts\", \"#worldseries\", \"#gobucks\", '#allforthegame','#royalrumble','#theland','#wrestlemania',\n",
    "              '#sb51','#nba2k16','#openingceremony','#espys','#tombrady','#ufc190','#nbacommunityassist','#superbowl.'\n",
    "              ,'#uswnt','#nike','#nbaallstar','#cowboysnation','#rio2016!','#badsuperbowlparty','#olympiclatenight.',\n",
    "               '#kd8','#sc30','#currytwo','#thankspaul','#motivation','#halamadrid','#rwtw','#ronaldofilm','#arewerunningtoday?',\n",
    "              '#leadontrade:','#lebron13','#distinctionrio','#clevelandhustles','#usabmnt','#ufc195','#ballondor',\n",
    "               '#bringyourgame','#dontcrackunderpressure','#legend','#stayfearless','#gswvscle','#cenareturns'\n",
    "              ,'#focused','#curryone','#mlballstarconcert','#mambaday','#wwebattleground','#closingceremony',\n",
    "              '#cfbplayoff','#cr7footwear','#wwenetwork','#sfg', '#strikeseries', '#clearmen.', '#ballondor2014',\n",
    "              '#supersoullsunday', '#euro2016.', '#lastnightfiles', '#kickgamecray', '#hookem', '#livetoplay',\n",
    "              '#builditandtheywillball', '#roccityclassic', '#houseofhoops',\"#justdoit\", '#24on24',\n",
    "              '#teamslyce', '#tcc', '#nbcthewall']\n",
    "sports_hash_lowered = [x.lower() for x in sports_hash]\n",
    "sports_hash_nohash = [x[1:] for x in sports_hash_lowered]\n",
    "len(sports_hash)"
   ]
  },
  {
   "cell_type": "code",
   "execution_count": 174,
   "metadata": {
    "collapsed": false
   },
   "outputs": [
    {
     "data": {
      "text/plain": [
       "116"
      ]
     },
     "execution_count": 174,
     "metadata": {},
     "output_type": "execute_result"
    }
   ],
   "source": [
    "political_hash = [\"#Obama\", \"#Election2016\", \"#Trump\", \"#DonaldTrump\",\"#ImWithHer\",\n",
    "                 \"#MakeAmericaGreatAgain\", \"#hillaryclinton\", \"#conservative\",\n",
    "                 \"republican\", \"#liberal\", \"#democrat\", \"#teaparty\", \"#president\", \"#trump2016\",\n",
    "                 \"#doyourjob\", \"#sotu\", \"#debatenight\", \"#debate\", \"#cruzcrew\", \"#choosecruz\", \"#maga\",\n",
    "                  \"#americafirst\", \"#vpdebate\", \"#demsinphilly\", \"#rncincle\", \"#draintheswamp\",\n",
    "                 \"#cruzcrew:\", \"#imwithyou\", \"#scotus\", \"#bigleaguetruth\", \"#demdebate\", \"#cruztovictory\",\n",
    "                 \"#feelthebern\", \"#actonclimate.\", \"#crookedhillary\", \"#ourfirststand\", \"#trumppence16\",\n",
    "                 \"#debates2016\",\"#votetrump\", \"#cruz2016\", \"#primaryday\", \"#decision2016\", \"#debates\",\n",
    "                 \"#ourrevolution\", \"#wiprimary\", \"#inprimary\", \"#teamtee\", \"#nov13\", \"#cnndebatenight\",\n",
    "                 \"#trumptrain\", \"#dothework\", \"#cruzcrew!\", \"#choosecruz:\", \"#rncwithbernie\", \"#tcot\",\n",
    "                 \"#goptownhall\", \"#nyprimary\", \"#ofafallsummit\", \"#makeamericagreatagain!\", \"#draintheswamp!\",\n",
    "                 \"#stoptppnow\", \"#ivoted\", \"#cruzcarly2016\", \"#debatewithbernie\",'#demconvention','#vote',\n",
    "                 '#forthepeople','#madeinamerica','#ofthepeople','#cruzfamily','#keeptexasred','#bernieinthebronx',\n",
    "                 '#birdiesanders','#nationalvoterregistrationday','#tedcruz','#makeamericagreatagain\"','#trumprally'\n",
    "                 ,'#cruzcarly','#nhpolitics','#lovetrumpshate','#cruzcrew,','#electionday','#neverhillary','#trumptrain\"'\n",
    "                 ,'#makeamericasafeagain','#demconvention:','#wisconsinprimary','#gopdebate','#dnc','#votetrumppence16',\n",
    "                 '#supertuesday','#nevertrump','#cpac2017','#gotvforbernie','#gop','#maga!','#caforbernie','#gopconvention'\n",
    "                 ,'#drunkdonaldtrump','#copolitics','#cruzintovictory','#azprimary','#bernieintheie', '#shewon',\n",
    "                 '#cruzonsquawk', '#cnntownhall', '#kellyfile', '#thankyoutour2016', '#trumpyourself', '#alsmithdinner',\n",
    "                 '#demsinphl', '#virwinia', '#wemadehistory', '#cnnsotu', '#demtownhall', '#presidentsday']\n",
    "political_hash_lowered = [x.lower() for x in political_hash]\n",
    "political_hash_nohash = [x[1:] for x in political_hash_lowered]\n",
    "len(political_hash)"
   ]
  },
  {
   "cell_type": "code",
   "execution_count": 175,
   "metadata": {
    "collapsed": false
   },
   "outputs": [
    {
     "data": {
      "text/plain": [
       "110"
      ]
     },
     "execution_count": 175,
     "metadata": {},
     "output_type": "execute_result"
    }
   ],
   "source": [
    "news_hash = [\"#CharlieHebdo\", \"#JeSuisParis\", \"#PrayforParis\", \"#Ebola\", \"#IamCait\",\n",
    "            \"#CaitlynJenner\", \"#ISIS\", \"#Aleppo\", \"#Syria\", \"#RefugeesWelcome\", \"#IStandWithAhmad\",\n",
    "            \"#BLM\", \"#BlackLivesMatter\", \"#LoveWins\", \"#MarriageEquality\", \"#actonclimate\", \"#getcovered\",\n",
    "            \"#irandeal\", \"#company\", \"#fullrepeal:\",\"#fullrepeal\", \"#Obamacare\", \"#Brexit\", \"#loveislove\",\n",
    "            \"#focustonight\", \"#leadontrade\", \"#leadonleave\", \"#actonclimate:\", \"#austin\", \"#acaworks\",\n",
    "            \"#txlege\", \"#bythepeople\", \"#tpp\", \"#nodapl\", \"#stopgunviolence\", \"#stand4life\", \"#collegeopportunity\",\n",
    "            \"#2a\", \"#marchon\", \"#teamrorke\", \"#hhm\", '#neverforget','#rallytogether','#immigrationaction','#obamacare,',\n",
    "             '#equalpayday','#obamacare.','#love','#parisagreement','#womensmarch','#mlkday','#selma','#obamatownhall',\n",
    "             '#obamacarefail','#paris','#orlando','#immigration','#prayfordallas','#raisethewage.','#lgbt','#unitedonclimate',\n",
    "            '#mentalhealth.','#beheard','#dallaspolice','#strongertogether','#usa','#abolishtheirs:','#disarmhate',\n",
    "             '#raisethewage','#getcovered.','#getcovered:','#mentalhealth','#stoptpp','#enoughalready',\n",
    "             '#findyourpark','#withoutafight','#fedsoc2016','#iwill','#dday','#irandeal.','#dallas','#handshigh',\n",
    "             '#selmatweetup','#freedom','#standwithwomen','#internationalwomensday','#womensequalityday','#veteransday',\n",
    "            '#nbcnewsforum','#dallasstrong','#obamacare:','#inauguration','#marchforlife','#equalpaynow','#potus','#ces2016'\n",
    "            ,'#stopgunviolence.','#happy4th','#hannity','#hello2017','#doyourjob.','#savehealthcare','#blackwomeninhollywood',\n",
    "            '#cleanwaterrules','#betterwithobamacare:','#stopgunviolence:','#defundplannedparenthood', '#texas', \n",
    "             '#abolishtheirs', '#waterforflint']\n",
    "news_hash_lowered = [x.lower() for x in news_hash]\n",
    "news_hash_nohash = [x[1:] for x in news_hash_lowered]\n",
    "len(news_hash)"
   ]
  },
  {
   "cell_type": "code",
   "execution_count": 176,
   "metadata": {
    "collapsed": true
   },
   "outputs": [],
   "source": [
    "all_hash = news_hash_lowered+political_hash_lowered+sports_hash_lowered+celeb_hash_lowered+trends_hash_lowered"
   ]
  },
  {
   "cell_type": "code",
   "execution_count": 177,
   "metadata": {
    "collapsed": true
   },
   "outputs": [],
   "source": [
    "topic_dict = {}\n",
    "for i in top_twitter_users:\n",
    "    topic_dict[i]={\"trends\":0, \"celeb\":0, \"sports\":0, \"political\":0, \"news\":0, \"other\":0}"
   ]
  },
  {
   "cell_type": "code",
   "execution_count": 178,
   "metadata": {
    "collapsed": false
   },
   "outputs": [],
   "source": [
    "for user in all_tweets:\n",
    "    for tweet in all_tweets[user]:\n",
    "        text = tweet['text'].lower()\n",
    "        c_t = 0\n",
    "        for i in trends_hash_lowered:\n",
    "            if i in text:# or i[1:] in text:\n",
    "                c_t+=1\n",
    "        if c_t > 0:\n",
    "            topic_dict[user]['trends']+=1\n",
    "        c_c = 0\n",
    "        for i in celeb_hash_lowered:\n",
    "            if i in text:# or i[1:] in text:\n",
    "                c_c+=1\n",
    "        if c_c > 0 or \"whereare\" in text:\n",
    "            topic_dict[user]['celeb']+=1\n",
    "        c_s = 0\n",
    "        for i in sports_hash_lowered:\n",
    "            if i in text:# or i[1:] in text:\n",
    "                c_s+=1\n",
    "        if c_s > 0:\n",
    "            topic_dict[user]['sports']+=1\n",
    "        c_p = 0\n",
    "        for i in political_hash_lowered:\n",
    "            if i in text:# or i[1:] in text:\n",
    "                c_p+=1\n",
    "        if c_p > 0 or '2026' in text or 'maga' in text:\n",
    "            topic_dict[user]['political']+=1\n",
    "        c_n = 0\n",
    "        for i in news_hash_lowered:\n",
    "            if i in text:# or i[1:] in text:\n",
    "                c_n+=1\n",
    "        if c_n > 0:\n",
    "            topic_dict[user]['news']+=1\n",
    "        if c_t == 0 and c_c == 0 and c_s == 0 and c_p == 0 and c_n ==0:\n",
    "            if len(text.split())>5 and \"#\" in text:\n",
    "                topic_dict[user]['other']+=1"
   ]
  },
  {
   "cell_type": "code",
   "execution_count": 179,
   "metadata": {
    "collapsed": false
   },
   "outputs": [],
   "source": [
    "t_counts = np.zeros(len(top_twitter_users))\n",
    "c_counts = np.zeros(len(top_twitter_users))\n",
    "s_counts = np.zeros(len(top_twitter_users))\n",
    "p_counts = np.zeros(len(top_twitter_users))\n",
    "n_counts = np.zeros(len(top_twitter_users))\n",
    "o_counts = np.zeros(len(top_twitter_users))\n",
    "for user in topic_dict:\n",
    "    index_user = twitter_users_idx[user]\n",
    "    t_counts[index_user] = topic_dict[user]['trends']\n",
    "    c_counts[index_user] = topic_dict[user]['celeb']\n",
    "    s_counts[index_user] = topic_dict[user]['sports']\n",
    "    p_counts[index_user] = topic_dict[user]['political']\n",
    "    n_counts[index_user] = topic_dict[user]['news']\n",
    "    o_counts[index_user] = topic_dict[user]['other']"
   ]
  },
  {
   "cell_type": "code",
   "execution_count": 180,
   "metadata": {
    "collapsed": false
   },
   "outputs": [],
   "source": [
    "aggTable = pd.DataFrame({'twitter_id': top_twitter_users, 'trends': t_counts, 'celeb':c_counts,\n",
    "                         'political': p_counts, 'news': n_counts,\n",
    "                        'sports':s_counts, 'other':o_counts})\n",
    "aggTable.to_csv('categorical_counts.csv')\n",
    "#aggTable"
   ]
  },
  {
   "cell_type": "markdown",
   "metadata": {},
   "source": [
    "## If you want to check who said a hashtag add an if statement below that one at the end"
   ]
  },
  {
   "cell_type": "code",
   "execution_count": 181,
   "metadata": {
    "collapsed": false
   },
   "outputs": [],
   "source": [
    "lstHashtags = []\n",
    "for user in all_tweets:\n",
    "    for tweet in all_tweets[user]:\n",
    "        text = tweet['text']\n",
    "        text = text.split()\n",
    "        for i in text:\n",
    "            if \"#\" in i and i.lower() not in all_hash:\n",
    "                lstHashtags.append(i.lower())"
   ]
  },
  {
   "cell_type": "code",
   "execution_count": 182,
   "metadata": {
    "collapsed": false
   },
   "outputs": [
    {
     "name": "stdout",
     "output_type": "stream",
     "text": [
      "@Cristiano\n",
      "[(u'#for\\xe7aportugal', 3), (u'#happybirthdaycr7', 2), (u'#exploremadeira', 2), (u'#nothingtohide', 2), (u'#madeiraislands', 2), (u'#vivaronaldo.', 2), (u'#madeira', 2), (u'#madeiraisgold', 2), (u'#clearpowermove', 2), (u'#realmadrid', 2), (u'#sacoorbrothers', 2), (u'#truechampion', 2), (u'#euro2016', 2), (u'#clearmen', 2), (u'#worlddutyfreees,', 2)]\n",
      "@HillaryClinton\n",
      "[(u'#ohvotesearly', 3), (u'#juntossepuede', 3), (u'#ohhillyes', 2), (u'#strongertogether.', 2), (u'#nationalvoterregistrationday.', 2), (u'#imwi\\u2026', 2), (u'#\\u2026', 2), (u'#clintonkaine', 2), (u'#rollcallvote', 2), (u'#votelove', 2), (u'#demconvention.', 2), (u'#lovetrumpshate:', 2), (u'#vpdebate:', 2), (u'#dncinphl', 1), (u'#lppw2016', 1)]\n",
      "@Oprah\n",
      "[(u'#thanksdave', 5), (u'#forpeetessake', 5), (u'#youwill', 4), (u'#glory', 4), (u'#teavanaoprahchai', 4), (u'#greenleaf\\U0001f33f', 4), (u'#13th', 4), (u'#essencefest', 4), (u'#writingmywrongs', 4), (u'#belief,', 4), (u'#array', 4), (u'#harvestday', 3), (u'#supersousunday', 3), (u'#itsnotyouitsmen', 3), (u'#undergroundrailroad', 3)]\n",
      "@tedcruz\n",
      "[(u'#mosen', 5), (u'#icann', 5), (u'#new', 5), (u'#rpt16', 5), (u'#lasen', 5), (u'#constitutionday2016', 4), (u'#trusted', 4), (u'#schoolchoice', 4), (u'#txpo2017', 4), (u'#wadr', 4), (u'#pjnet', 4), (u'#ny', 4), (u'#abolishtheirs?', 4), (u'#makepcgreatagain', 3), (u'#indianaprimary', 3)]\n",
      "@ArianaGrande\n",
      "[(u'#dangerouswomanoutnow', 5), (u'#coachpups', 5), (u'#intoyouvideo', 5), (u'#everydaylyricvideo', 5), (u'#letmeloveyouvideo', 5), (u'#2daystildangerouswoman', 5), (u'#5daystildangerouswoman', 4), (u'#oct30', 4), (u'#bealright', 4), (u'#faith', 4), (u'#worstpostever', 4), (u'#4daystilfocus', 4), (u'#sometimes', 4), (u'#snapchatduet', 4), (u'#tb', 4)]\n",
      "@justinbieber\n",
      "[(u'#whereare\\xfcnow', 16), (u'#mycalvins', 8), (u'#sorrylatinoremix', 8), (u'#letmeloveyou', 7), (u'#bieberisback', 7), (u'#3days', 7), (u'#hot100', 7), (u'#hot100fest', 6), (u'#thefeeling', 6), (u'#6days', 6), (u'#lyftbiebermode', 6), (u'#purposetourlosangeles', 6), (u'#np', 6), (u'#5daystillpurpose', 6), (u'#1daytillpurpose', 5)]\n",
      "@KingJames\n",
      "[(u'#goldstandard', 4), (u'#swooshlifer', 4), (u'#thecalloways', 4), (u'#solewatch:', 3), (u'#prompromise', 3), (u'#striveforgreatness\\U0001f680', 3), (u'#gozips', 3), (u'#leahstrong', 3), (u'#nikeordie\\u2026', 3), (u'#wearefamily\\u2026', 3), (u'#striveforgreatness\\U0001f451', 2), (u'#nit', 2), (u'#4', 2), (u'#io', 2), (u'#thedc', 2)]\n",
      "@KDTrey5\n",
      "[(u'#stamps', 2), (u'#kovalevward', 2), (u'#mothersday', 2), (u'#bbvacompassrisingstars', 2), (u'#301forever', 2), (u'#nike2016', 2), (u'#powerbeats3wireless', 2), (u'#nba2k17', 2), (u'#zoomcity', 2), (u'#kdslushauction', 2), (u'#madisoneast', 1), (u'#friction', 1), (u'#lockercodes:', 1), (u'#rocfam', 1), (u'\\u201c#mybrotherskeeper', 1)]\n",
      "@KevinHart4real\n",
      "[(u'#whatnow\\u2026', 10), (u'#khwhatnow', 9), (u'#gottaloveher', 8), (u'#hartbeatweekend', 8), (u'#makinghistory', 8), (u'#whatnow?', 7), (u'#nodaysoff', 6), (u'#droppa', 6), (u'#centralintelligence.', 6), (u'#kevinhartstandupcomedyqoute', 6), (u'#whatnow!', 6), (u'#rhoh', 6), (u'#chocolatedroppa', 6), (u'#htc2016', 6), (u'#hiphopawards', 5)]\n",
      "@KimKardashian\n",
      "[(u'#voguespain', 7), (u'#2yearanniversary', 6), (u'#kocktailswithkhloe', 5), (u'#interviewgang', 5), (u'#straightup', 5), (u'#kuwtk!', 5), (u'#thevioletfiles', 4), (u'#nyfw', 4), (u'#videooftheyear', 4), (u'#bazaaricons', 3), (u'#downinthedm', 3), (u'#milfmoney', 3), (u'#lumee', 3), (u'#followfriday', 3), (u'#wcw:', 3)]\n",
      "@RyanSeacrest\n",
      "[(u'#ramit', 10), (u'#becomingus', 9), (u'#makeithappy', 8), (u'#digifestnyc', 7), (u'#whenidolstarted', 7), (u'#iheartjingleball', 6), (u'#americanidol', 6), (u'#idoltop24', 6), (u'#georgiaseacrest', 6), (u'#uga16', 6), (u'#seacreststudios.', 5), (u'#seacrestbirthdaysuit', 5), (u'#usogala', 5), (u'#zaynwangotango', 4), (u'#riseup', 4)]\n",
      "@realDonaldTrump\n",
      "[(u'#maga\\u2026', 7), (u'#newyorkvalues', 5), (u'#lesm', 4), (u'#maga\\U0001f1fa\\U0001f1f8', 4), (u'#paytoplay', 3), (u'#americafirst\\u2026', 3), (u'#americafirst!', 3), (u'#rattledhillary', 3), (u'#maga!\\u2026', 3), (u'#votetrumppence16!', 3), (u'#peotus', 3), (u'#votetrump2016', 2), (u'#bigleaguetruth\\u2026', 2), (u'#secondamendment', 2), (u'#votetrumpny', 2)]\n",
      "@JohnCena\n",
      "[(u'#summerslam', 9), (u'#smackdownlive', 7), (u'#kcco', 7), (u'#hustleloyaltyrespect', 7), (u'#cenation!', 7), (u'#americangrit!', 7), (u'#mitb', 7), (u'#cenation', 6), (u'#showyourgrit.', 6), (u'#kmart', 6), (u'#recognize', 6), (u'#earnit', 6), (u'#hustle', 5), (u'#foxtv', 5), (u'#whowillyoubetoday', 5)]\n",
      "@StephenCurry30\n",
      "[(u'#playstationheroes', 6), (u'#slyceallaccess', 6), (u'#ruleyourself', 5), (u'#sponsored', 5), (u'#ua', 5), (u'#slyce', 4), (u'#sc30asiatour', 4), (u'#coachcurry', 4), (u'#sebastiancurry', 3), (u'#dubnation,', 3), (u'#footlockerthree', 3), (u'#dubnation!', 3), (u'#uaroadshow', 3), (u'#ghostship', 3), (u'#gamechanger', 3)]\n",
      "@jimmykimmel\n",
      "[(u'#nud', 5), (u'#flythew', 5), (u'#generationgap', 5), (u'#homeworkhelperguys', 4), (u'#travolta', 4), (u'#bigfan', 4), (u'#drunkseanspicer', 4), (u'#kimmelkartoon', 4), (u'#gotgvol2', 4), (u'#unnecessarycensorship', 4), (u'#backtoback', 3), (u'#thebrothersgrimsby', 3), (u'#askkimmel', 3), (u'#blastfromthepast', 3), (u'#howzitmizzade', 3)]\n",
      "@ddlovato\n",
      "[(u'#fromdusktilldawn', 8), (u'#coolforthesummervma', 8), (u'#stonecoldvideo', 7), (u'#coolforthesummervideotoday', 7), (u'#glaadawards', 7), (u'#pathtofame', 7), (u'#happybirthdaydemi', 7), (u'#coolforthesummervideo', 7), (u'#confidenttonumber1', 6), (u'#twistermoves', 6), (u'#demi2idol', 6), (u'#castontour', 6), (u'#fff!!', 6), (u'#3', 6), (u'#skechersdemistyle', 6)]\n",
      "@BernieSanders\n",
      "[(u'#thisweek', 7), (u'#inners', 6), (u'#fightfor15', 6), (u'#\\u2026', 5), (u'#cnnsotu:', 5), (u'#imvotingbecause', 5), (u'#defendthegibill', 4), (u'#bernieinbrooklyn', 4), (u'#keepitintheground', 4), (u'#bernietoday', 3), (u'#debatewithbernie.', 3), (u'#icaucused', 3), (u'#newyorkforbernie', 3), (u'#forthepeople.', 3), (u'#russ4wi', 3)]\n",
      "@BarackObama\n",
      "[(u'#switchtoclean', 7), (u'#keystonexl', 7), (u'#cop21', 6), (u'#overtime', 6), (u'#cybersecurity', 6), (u'#44turns54', 6), (u'#letgirlslearn', 5), (u'#leadontrade.', 5), (u'#getcoverednow', 4), (u'#fixthesystem', 4), (u'#americaleads', 4), (u'#unitedonclimate.', 4), (u'#gimmefive', 4), (u'#vra50', 4), (u'#thankateacher', 4)]\n",
      "@jimmyfallon\n",
      "[(u'#momquotes', 4), (u'#jimpire', 4), (u'#whydidisaythat', 4), (u'#dadquotes', 3), (u'#hamburgerstand', 3), (u'#myroommateisweird', 3), (u'#springbreakraps', 3), (u'#snl40', 3), (u'#youup', 3), (u'#deadandcompanyfallon', 3), (u'#missionimpossible', 3), (u'#tedzy', 3), (u'#funfunfun', 3), (u'#u2fallon', 3), (u'#rebelheart', 3)]\n",
      "@TheEllenShow\n",
      "[(u'#laughdancepartner\\u2026', 11), (u'#troyeonellen', 3), (u'#ellentube', 3), (u'#mememonday', 3), (u'#visacheckout', 3), (u'#elleyonthetelly', 3), (u'#bgxed', 3), (u'#emmys.', 3), (u'#haveyouseenher', 3), (u'#gifparty', 3), (u'#runningmanchallenge', 3), (u'#heyworld', 3), (u'#edbypetsmart', 3), (u'#catphotofriday', 3), (u'#mondaymotivation!', 2)]\n"
     ]
    }
   ],
   "source": [
    "for user in all_tweets:\n",
    "    print(user)\n",
    "    lstHashtags=[]\n",
    "    for tweet in all_tweets[user]:\n",
    "        text=tweet['text']\n",
    "        text=text.split()\n",
    "        for i in text:\n",
    "            if \"#\" in i and i.lower() not in all_hash:\n",
    "                lstHashtags.append(i.lower())\n",
    "    counts = Counter(lstHashtags)\n",
    "    sorted_counts = sorted(counts.items(), key=operator.itemgetter(1), reverse=True)\n",
    "    print(sorted_counts[0:15])"
   ]
  },
  {
   "cell_type": "code",
   "execution_count": 183,
   "metadata": {
    "collapsed": false
   },
   "outputs": [
    {
     "data": {
      "text/plain": [
       "514"
      ]
     },
     "execution_count": 183,
     "metadata": {},
     "output_type": "execute_result"
    }
   ],
   "source": [
    "len(lstHashtags)"
   ]
  },
  {
   "cell_type": "code",
   "execution_count": 184,
   "metadata": {
    "collapsed": false
   },
   "outputs": [
    {
     "data": {
      "text/plain": [
       "[(u'#laughdancepartner\\u2026', 11),\n",
       " (u'#troyeonellen', 3),\n",
       " (u'#ellentube', 3),\n",
       " (u'#mememonday', 3),\n",
       " (u'#visacheckout', 3),\n",
       " (u'#elleyonthetelly', 3),\n",
       " (u'#bgxed', 3),\n",
       " (u'#emmys.', 3),\n",
       " (u'#haveyouseenher', 3),\n",
       " (u'#gifparty', 3),\n",
       " (u'#runningmanchallenge', 3),\n",
       " (u'#heyworld', 3),\n",
       " (u'#edbypetsmart', 3),\n",
       " (u'#catphotofriday', 3),\n",
       " (u'#mondaymotivation!', 2),\n",
       " (u'#magicmikexxl', 2),\n",
       " (u'#edbyellen.', 2),\n",
       " (u'#chevymalibu?', 2),\n",
       " (u'#chevymalibu.', 2),\n",
       " (u'#feelgoodfriday', 2),\n",
       " (u'#averageandy', 2),\n",
       " (u'#tomorrow', 2),\n",
       " (u'#neverhaveiever', 2),\n",
       " (u'#pcdoeswhat', 2),\n",
       " (u'#stpatricksday', 2),\n",
       " (u'#nyc!', 2),\n",
       " (u'#justkeepdancing', 2),\n",
       " (u'#edellendegeneres', 2),\n",
       " (u'#thanksabillion', 2),\n",
       " (u'#thetyleroakleyshow!', 2),\n",
       " (u'#thetyleroakleyshow\\u2026', 2),\n",
       " (u'#bellletstalk', 2),\n",
       " (u'#grammys.', 2),\n",
       " (u'#ourbrandiscrisis', 2),\n",
       " (u'#newolympicevent', 2),\n",
       " (u'#ellenatbergdorfs', 2),\n",
       " (u'#taytswish', 2),\n",
       " (u'#justkeepswimming', 2),\n",
       " (u'#tbt.', 2),\n",
       " (u'#theloveproject2017', 2),\n",
       " (u'#womensmarch.', 2),\n",
       " (u'#visacheckout!', 2),\n",
       " (u'#motivationmonday', 2),\n",
       " (u'#classicjokefriday!', 2),\n",
       " (u'#lovein3words', 2),\n",
       " (u'#rednoseday', 2),\n",
       " (u'#nyc', 2),\n",
       " (u'#throwbackthursday,', 2),\n",
       " (u'#sweatyeddie', 2),\n",
       " (u'#bcam', 2),\n",
       " (u'#emojiexpoji', 2),\n",
       " (u'#emojiexploji.', 2),\n",
       " (u'#noban', 2),\n",
       " (u'#moodbooster', 2),\n",
       " (u'#drinkgooddogood.', 2),\n",
       " (u'#givingtuesday!', 2),\n",
       " (u'#randomactsofkindnessday,', 2),\n",
       " (u'#nordstrom', 2),\n",
       " (u'#thebachelor\\u2026', 2),\n",
       " (u'#tadc', 2),\n",
       " (u'#ghostbusters', 2),\n",
       " (u'#50shadesdarkest.', 1),\n",
       " (u'#badbehavior', 1),\n",
       " (u'#thankyouobama', 1),\n",
       " (u'#vacationnightmare', 1),\n",
       " (u'#leapday!', 1),\n",
       " (u'#nationalsiblingsday', 1),\n",
       " (u'#purrfectpairs', 1),\n",
       " (u'#getmyjellyonthetelly', 1),\n",
       " (u'#reallyrealquote.', 1),\n",
       " (u'#vacationnightmares,', 1),\n",
       " (u'#moana,', 1),\n",
       " (u'#memorialday2016', 1),\n",
       " (u'#onechipchallenge', 1),\n",
       " (u'b!@#$', 1),\n",
       " (u'#laughdance...', 1),\n",
       " (u'#justsayin', 1),\n",
       " (u'#uswnt!', 1),\n",
       " (u'#mondaymotivation,', 1),\n",
       " (u'kids!#laughdancepartner', 1),\n",
       " (u'#hobbitday', 1),\n",
       " (u'#usavger', 1),\n",
       " (u'#presidentialmedaloffreedom', 1),\n",
       " (u'#cosmovotes', 1),\n",
       " (u'#familyjewelsonmyhead', 1),\n",
       " (u'#teenchoiceawards.', 1),\n",
       " (u'#dayitforward', 1),\n",
       " (u'#selfiecat', 1),\n",
       " (u'#americanidiot', 1),\n",
       " (u'#happybirthdaymadonna', 1),\n",
       " (u'#edbyellen,', 1),\n",
       " (u'#medaloffreedom.', 1),\n",
       " (u'#magicnickthegardener', 1),\n",
       " (u'#pirateslife', 1),\n",
       " (u'#1in7billion', 1),\n",
       " (u'#thisisus.', 1),\n",
       " (u'#youllseehersoon', 1),\n",
       " (u'#nycmarathon.', 1),\n",
       " (u'#charlotteandgwenyth', 1),\n",
       " (u'#nationalpuppyday', 1),\n",
       " (u'#5secondrule', 1),\n",
       " (u'#dsw.', 1),\n",
       " (u'#1432', 1),\n",
       " (u'#myellentubeshow', 1),\n",
       " (u'#lefthandersday,', 1),\n",
       " (u'f#$&amp;!^g', 1),\n",
       " (u'#upgradeyourworld', 1),\n",
       " (u'#goldenglobes.', 1),\n",
       " (u'#cantwait', 1),\n",
       " (u'#jointheherd.', 1),\n",
       " (u'#cincodemayo', 1),\n",
       " (u'#goldenglobes!', 1),\n",
       " (u'#ihave2tickets', 1),\n",
       " (u'#itwasntawkwardtil\\u2026', 1),\n",
       " (u'#themuppets.', 1),\n",
       " (u'#sexiestmanalive,', 1),\n",
       " (u'#italyearthquake', 1),\n",
       " (u'#mudbath', 1),\n",
       " (u'#phelpsface', 1),\n",
       " (u'#dwts!', 1),\n",
       " (u'#ellenshop.', 1),\n",
       " (u'#yeswecan', 1),\n",
       " (u'#internationalcatday.', 1),\n",
       " (u'#catphotofriday!', 1),\n",
       " (u'#edbathandbeyond', 1),\n",
       " (u'#slumberparty', 1),\n",
       " (u'#catphotofriday.', 1),\n",
       " (u'#cleartheshelters', 1),\n",
       " (u'#yourewelcomewednesday:', 1),\n",
       " (u'#tvmusicpowerplayers', 1),\n",
       " (u'#honkforellen', 1),\n",
       " (u'#becauseitsthecup', 1),\n",
       " (u'#nationalcatday', 1),\n",
       " (u'#yourewelcomewednesday,', 1),\n",
       " (u'#ellensdanceoff', 1),\n",
       " (u'#signed', 1),\n",
       " (u'#hotdogprincess', 1),\n",
       " (u'#teenchoiceawards', 1),\n",
       " (u'#thehuntsman,', 1),\n",
       " (u'#tcsnycmarathon.', 1),\n",
       " (u'#celebritypun', 1),\n",
       " (u'#starwarsday!', 1),\n",
       " (u'#presidentialdebate', 1),\n",
       " (u'#tclcares', 1),\n",
       " (u'#lemonade,', 1),\n",
       " (u'#tcsnycmarathon!', 1),\n",
       " (u'#emmys!', 1),\n",
       " (u'#spiritday!', 1),\n",
       " (u'#chevyequinox.', 1),\n",
       " (u'#internationaldayofhappiness.', 1),\n",
       " (u'#presidentsday!', 1),\n",
       " (u'#speaklikeawhaleday', 1),\n",
       " (u'#wednesday', 1),\n",
       " (u'#su2c', 1),\n",
       " (u'#ff', 1),\n",
       " (u'#whitehouse', 1),\n",
       " (u'#maythe4thbewithyou', 1),\n",
       " (u'#superbloodmoon', 1),\n",
       " (u'#passengersmovie', 1),\n",
       " (u'#cmaawards', 1),\n",
       " (u'#ihaveadream', 1),\n",
       " (u'#bloodlions', 1),\n",
       " (u'#forgiveforpeace', 1),\n",
       " (u'#jimmyfallin', 1),\n",
       " (u'#love.', 1),\n",
       " (u'#zacefron', 1),\n",
       " (u'#nsyncreunion', 1),\n",
       " (u'#nationalcatday!', 1),\n",
       " (u'#3fictionalcharacters.', 1),\n",
       " (u'#glory', 1),\n",
       " (u'#bobbyriggs', 1),\n",
       " (u'#thishappened', 1),\n",
       " (u'#leonardcohen', 1),\n",
       " (u'#globalrunningday', 1),\n",
       " (u'#presidentsday.', 1),\n",
       " (u'#squad', 1),\n",
       " (u'#catweek.', 1),\n",
       " (u'#emoji', 1),\n",
       " (u'#davidletterman,', 1),\n",
       " (u'#debates.', 1),\n",
       " (u'#firstsevenjobs', 1),\n",
       " (u'#choicecomedian,', 1),\n",
       " (u'#nyc,', 1),\n",
       " (u'#celebritypun.', 1),\n",
       " (u'#nyc.', 1),\n",
       " (u'#damndaniel', 1),\n",
       " (u'#worldkindnessday.', 1),\n",
       " (u'#4ellen.', 1),\n",
       " (u'#mississippi', 1),\n",
       " (u'#peopleschoiceawards!', 1),\n",
       " (u'#willandgrace', 1),\n",
       " (u'#budlightparty', 1),\n",
       " (u'#mondaymorning', 1),\n",
       " (u'#obamafarewell', 1),\n",
       " (u'#happy420!', 1),\n",
       " (u'#shoop', 1),\n",
       " (u'#worldelephantday!', 1),\n",
       " (u'#hamilton,', 1),\n",
       " (u'#internationaldanceday!', 1),\n",
       " (u'#backonmyfunnyshit', 1),\n",
       " (u'#getmarkharmononellen', 1),\n",
       " (u'#whattheheckdidibuytuesday', 1),\n",
       " (u'#findingdory.', 1),\n",
       " (u'#5honellen', 1),\n",
       " (u'#baywatch.', 1),\n",
       " (u'#yesallgirls\\u2026', 1),\n",
       " (u'#stpatricksday,', 1),\n",
       " (u'#grammytb', 1),\n",
       " (u'#stbarths', 1),\n",
       " (u'#stopyulinforever', 1),\n",
       " (u'#cmaawards50', 1),\n",
       " (u'#madonna\\u2019s', 1),\n",
       " (u'#waves', 1),\n",
       " (u'#thursdaythoughts', 1),\n",
       " (u'#nationalwatermelonday!', 1),\n",
       " (u'#coachella2016!', 1),\n",
       " (u'#jonvoyage', 1),\n",
       " (u'#aleppo,', 1),\n",
       " (u'#thesaurusday', 1),\n",
       " (u'#sharethejoy', 1),\n",
       " (u'#mysweetstory', 1),\n",
       " (u'#grammys,', 1),\n",
       " (u'#nationalpuppyday,', 1),\n",
       " (u'#coachella.', 1),\n",
       " (u'#grammy', 1),\n",
       " (u'#ilovegreenday', 1),\n",
       " (u'#myboyfriend', 1),\n",
       " (u'#votehoney', 1),\n",
       " (u'#frozen,', 1),\n",
       " (u'#choicesummermovieactress,', 1),\n",
       " (u'#collateralbeauty,', 1),\n",
       " (u'#motivationalmonday', 1),\n",
       " (u'#kca', 1),\n",
       " (u'#cmaawards:', 1),\n",
       " (u'#imabouttowatchscandalnobodycallortextmeforanhouroremail', 1),\n",
       " (u'#happyanniversary', 1),\n",
       " (u'#runningmanchallenge,', 1),\n",
       " (u'#10yearsofhannahmontana', 1),\n",
       " (u'#backstageatellen.', 1),\n",
       " (u'#cybermonday!', 1),\n",
       " (u'#8years', 1),\n",
       " (u'#meangirls', 1),\n",
       " (u'#onedayiwill', 1),\n",
       " (u'#backstreetspicegirlstour', 1),\n",
       " (u'#bestfiends:', 1),\n",
       " (u'#administrativeprofessionalsday-@chrishemsworth', 1),\n",
       " (u'#fakenews', 1),\n",
       " (u'#amdk', 1),\n",
       " (u'#weareinthistogether', 1),\n",
       " (u'#usavjpn', 1),\n",
       " (u'#princeday', 1),\n",
       " (u'#wethebest', 1),\n",
       " (u'#deserttrip', 1),\n",
       " (u'#thevoice,', 1),\n",
       " (u'#thevoice!', 1),\n",
       " (u'#granddesign!', 1),\n",
       " (u'#inthehuddle', 1),\n",
       " (u'#stanleycupfinal', 1),\n",
       " (u'#besties', 1),\n",
       " (u'#spectacles', 1),\n",
       " (u'lol.#littlebigshots', 1),\n",
       " (u'#strangerthings\\u2026', 1),\n",
       " (u'#yolo', 1),\n",
       " (u'#dragmedownmusicvideoisout', 1),\n",
       " (u'#happyfriday', 1),\n",
       " (u'#partner', 1),\n",
       " (u'#internationaldayofpeace', 1),\n",
       " (u'#starwars?', 1),\n",
       " (u'#repealhb2', 1),\n",
       " (u'#malalaonellen', 1),\n",
       " (u'#youthebest', 1),\n",
       " (u'#magicmoments', 1),\n",
       " (u'#nyse', 1),\n",
       " (u'#fruitofthelauer', 1),\n",
       " (u'#thepeoplevsojsimpson', 1),\n",
       " (u'#battleofthesexes', 1),\n",
       " (u'#gbvsdal', 1),\n",
       " (u'#clothtalk', 1),\n",
       " (u'#ellencaptions', 1),\n",
       " (u'#fullerhouse?', 1),\n",
       " (u'#openingceremony.', 1),\n",
       " (u'#lifegoals', 1),\n",
       " (u'#northcarolina', 1),\n",
       " (u'#bros', 1),\n",
       " (u'#explainparadisein4words', 1),\n",
       " (u'#canadaday!', 1),\n",
       " (u'#bachelorinparadise', 1),\n",
       " (u'#duranduranappreciationday', 1),\n",
       " (u'#my12days', 1),\n",
       " (u'#magictwitch', 1),\n",
       " (u\"#findingdory's\", 1),\n",
       " (u'#ellensdesignchallenge', 1),\n",
       " (u'#ellendesignonhgtv,', 1),\n",
       " (u'#ellendesignonhgtv.', 1),\n",
       " (u'#nationalcoffeeday!', 1),\n",
       " (u'#ellendesignonhgtv!', 1),\n",
       " (u'#badhairday', 1),\n",
       " (u'#usedtoloveyou', 1),\n",
       " (u'#takepride.', 1),\n",
       " (u'#entouragemovie', 1),\n",
       " (u'#visacheckout.', 1),\n",
       " (u'#lovein3words?', 1),\n",
       " (u'#yes', 1),\n",
       " (u'#howtobesingle', 1),\n",
       " (u'#superbowl?', 1),\n",
       " (u'#nationalstressawarenessday', 1),\n",
       " (u'#superbowl!', 1),\n",
       " (u'#humpday', 1),\n",
       " (u'#daylightsavingstime!', 1),\n",
       " (u'#superbowl,', 1),\n",
       " (u'#spectre.', 1),\n",
       " (u'#notjoking', 1),\n",
       " (u'#hiddenfigures', 1),\n",
       " (u'#nationalhugday', 1),\n",
       " (u'#louisianaflood', 1),\n",
       " (u'#lastcomic', 1),\n",
       " (u'#southgreenvilleelementary', 1),\n",
       " (u'#chillin', 1),\n",
       " (u'#whyimustdance', 1),\n",
       " (u'#showyourgold', 1),\n",
       " (u'#humpday!', 1),\n",
       " (u'#teacherappreciationweek!', 1),\n",
       " (u'#laughdancepartner.', 1),\n",
       " (u'#movietitletodescribeelection', 1),\n",
       " (u'#teddybearday!', 1),\n",
       " (u'#happyhalloween!', 1),\n",
       " (u'#worldaidsday,', 1),\n",
       " (u'#toddlerlife', 1),\n",
       " (u'#classicjokethursday', 1),\n",
       " (u'#lovetwitter', 1),\n",
       " (u'#atl!', 1),\n",
       " (u'#fourthofjuly!', 1),\n",
       " (u'#amyattheapollo', 1),\n",
       " (u'#worldseries.', 1),\n",
       " (u'#dontboovote', 1),\n",
       " (u'#nationalstressawarenessday,', 1),\n",
       " (u'#teenchioceawards', 1),\n",
       " (u'#1in7billion?', 1),\n",
       " (u'#atlanta', 1),\n",
       " (u'#adidasoriginals', 1),\n",
       " (u'#happyhippie.', 1),\n",
       " (u'#cmaawards50,', 1),\n",
       " (u'#magicmikelive', 1),\n",
       " (u'#cmaawards50!', 1),\n",
       " (u'#cmas!', 1),\n",
       " (u'#12daysofsummer', 1),\n",
       " (u'#grammy.', 1),\n",
       " (u'#historyinthemaking', 1),\n",
       " (u'#wimbledon.', 1),\n",
       " (u'#agt', 1),\n",
       " (u'#firstdayoffall!', 1),\n",
       " (u'#chicago', 1),\n",
       " (u'#fridaythe13th!', 1),\n",
       " (u'#nationalvoterregistrationday!', 1),\n",
       " (u'#drakeonellen', 1),\n",
       " (u'#cuterthankidchallenge', 1),\n",
       " (u'#planetearth2', 1),\n",
       " (u'#theweeknd', 1),\n",
       " (u'#breastcancerawarenessmonth', 1),\n",
       " (u'#nationaldonutday', 1),\n",
       " (u'#newolympicevent.', 1),\n",
       " (u'#agt.', 1),\n",
       " (u'#debate.', 1),\n",
       " (u'#imwithher.', 1),\n",
       " (u'#nationalcomingoutday', 1),\n",
       " (u'#dwts', 1),\n",
       " (u'#roshhashana', 1),\n",
       " (u'#ifyouwannabemyneighbor,', 1),\n",
       " (u'#jonstewart', 1),\n",
       " (u'#orlandounited', 1),\n",
       " (u'#thanksgathering', 1),\n",
       " (u'#whenwerise', 1),\n",
       " (u'#fortheplayers', 1),\n",
       " (u'#editorschoice', 1),\n",
       " (u'#pringleringle', 1),\n",
       " (u'#mardigras!', 1),\n",
       " (u'#breakingbad,', 1),\n",
       " (u'#thewiz', 1),\n",
       " (u'#emojiexploji!', 1),\n",
       " (u'#emojiexploji\\u2026', 1),\n",
       " (u'#emojiexploji,', 1),\n",
       " (u'#sesamestreet', 1),\n",
       " (u'#beforetheflood!', 1),\n",
       " (u'#morningworkout', 1),\n",
       " (u'day!?!;\\u201d:\\u2019&gt;./,+{=@#\\u201d(*$]%]?!', 1),\n",
       " (u'#oscars,', 1),\n",
       " (u'#oscars.', 1),\n",
       " (u'#bgfw', 1),\n",
       " (u'#seriously', 1),\n",
       " (u'#2016wastheyearthatifinally', 1),\n",
       " (u'#couchselfie', 1),\n",
       " (u'#hurricanematthew,', 1),\n",
       " (u'#backtothefuture', 1),\n",
       " (u'#vacationnightmares', 1),\n",
       " (u'#bachelorinparadise.', 1),\n",
       " (u'#nationalpumpkinday!', 1),\n",
       " (u'#gameofthrones!', 1),\n",
       " (u'#barbie', 1),\n",
       " (u'#mytypein4words', 1),\n",
       " (u'#emmastone', 1),\n",
       " (u'#tyleronellen', 1),\n",
       " (u'#iwanttobeawizard', 1),\n",
       " (u'#kuwtk,', 1),\n",
       " (u'#12days,', 1),\n",
       " (u'#12days.', 1),\n",
       " (u'#makeadrake!', 1),\n",
       " (u'#worldelephantday', 1),\n",
       " (u'#give2veterans.', 1),\n",
       " (u'#tnfonnbc.', 1),\n",
       " (u'#sotu.', 1),\n",
       " (u'#fathersday!', 1),\n",
       " (u'#adorable.', 1),\n",
       " (u'#camouflagedog', 1),\n",
       " (u'#firsttimevoter', 1),\n",
       " (u'#spiritday', 1),\n",
       " (u'#sayidodownunder', 1),\n",
       " (u'#magicmike?', 1),\n",
       " (u'#payitfor\\u2026', 1),\n",
       " (u'#cuterthankidchallenge!', 1),\n",
       " (u'#themartian', 1),\n",
       " (u'#airpods', 1),\n",
       " (u'#cuterthankidchallenge.', 1),\n",
       " (u'#vsfashionshow', 1),\n",
       " (u'#got.', 1),\n",
       " (u'#beyonce', 1),\n",
       " (u'#blackcatappreciationday!', 1),\n",
       " (u'#mondaymood', 1),\n",
       " (u'#firstdayofschool,', 1),\n",
       " (u'#blessup', 1),\n",
       " (u'#hairclubforellen', 1),\n",
       " (u'#dentalexam', 1)]"
      ]
     },
     "execution_count": 184,
     "metadata": {},
     "output_type": "execute_result"
    }
   ],
   "source": [
    "from collections import Counter\n",
    "import operator\n",
    "counts = Counter(lstHashtags)\n",
    "sorted_counts = sorted(counts.items(), key=operator.itemgetter(1), reverse=True)\n",
    "sorted_counts"
   ]
  },
  {
   "cell_type": "markdown",
   "metadata": {
    "collapsed": true
   },
   "source": [
    "## Stop here"
   ]
  },
  {
   "cell_type": "code",
   "execution_count": 185,
   "metadata": {
    "collapsed": false
   },
   "outputs": [
    {
     "data": {
      "text/plain": [
       "[0, 0, 'hello', 0, 0]"
      ]
     },
     "execution_count": 185,
     "metadata": {},
     "output_type": "execute_result"
    }
   ],
   "source": [
    "a=[0]*5\n",
    "a[2]=\"hello\"\n",
    "a"
   ]
  },
  {
   "cell_type": "code",
   "execution_count": 186,
   "metadata": {
    "collapsed": false
   },
   "outputs": [],
   "source": [
    "## making dataset with top hashtags\n",
    "top_hashtags = {}\n",
    "for user in all_tweets:\n",
    "    ht_lst = []\n",
    "    for tweet in all_tweets[user]:\n",
    "        for word in tweet['text'].split():\n",
    "            if word[0]==\"#\":\n",
    "                ht_lst.append(word.lower())\n",
    "    counts = Counter(ht_lst)\n",
    "    top_hashtags[user]=[]\n",
    "    sorted_counts = sorted(counts.items(), key=operator.itemgetter(1), reverse=True)[0:50]\n",
    "    for (ht, c) in sorted_counts:\n",
    "        category = \"other\"\n",
    "        if ht in trends_hash_lowered:\n",
    "            category = \"trends\"\n",
    "        elif ht in celeb_hash_lowered:\n",
    "            category = \"celeb\"\n",
    "        elif ht in sports_hash_lowered:\n",
    "            category = \"sports\"\n",
    "        elif ht in political_hash_lowered:\n",
    "            category = \"political\"\n",
    "        elif ht in news_hash_lowered:\n",
    "            category = \"news\"\n",
    "        top_hashtags[user]\n",
    "        top_hashtags[user].append({\"text\": ht, \"size\": c, \"category\": category})"
   ]
  },
  {
   "cell_type": "code",
   "execution_count": 187,
   "metadata": {
    "collapsed": false
   },
   "outputs": [],
   "source": [
    "#top_hashtags"
   ]
  },
  {
   "cell_type": "code",
   "execution_count": 188,
   "metadata": {
    "collapsed": true
   },
   "outputs": [],
   "source": [
    "with io.open('user_hashtag_counts.json', 'w', encoding='utf-8') as f:\n",
    "  f.write(unicode(json.dumps(top_hashtags, ensure_ascii=False)))"
   ]
  },
  {
   "cell_type": "code",
   "execution_count": null,
   "metadata": {
    "collapsed": true
   },
   "outputs": [],
   "source": []
  },
  {
   "cell_type": "code",
   "execution_count": null,
   "metadata": {
    "collapsed": true
   },
   "outputs": [],
   "source": []
  },
  {
   "cell_type": "code",
   "execution_count": null,
   "metadata": {
    "collapsed": true
   },
   "outputs": [],
   "source": []
  }
 ],
 "metadata": {
  "anaconda-cloud": {},
  "kernelspec": {
   "display_name": "Python 2",
   "language": "python",
   "name": "python2"
  },
  "language_info": {
   "codemirror_mode": {
    "name": "ipython",
    "version": 2
   },
   "file_extension": ".py",
   "mimetype": "text/x-python",
   "name": "python",
   "nbconvert_exporter": "python",
   "pygments_lexer": "ipython2",
   "version": "2.7.11"
  }
 },
 "nbformat": 4,
 "nbformat_minor": 0
}
