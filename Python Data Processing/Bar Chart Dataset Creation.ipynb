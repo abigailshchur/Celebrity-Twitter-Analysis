{
 "cells": [
  {
   "cell_type": "markdown",
   "metadata": {},
   "source": [
    "# Creating Datasets for tweet and hashtag categorization "
   ]
  },
  {
   "cell_type": "code",
   "execution_count": 1,
   "metadata": {
    "collapsed": true
   },
   "outputs": [],
   "source": [
    "from collections import defaultdict\n",
    "import numpy as np\n",
    "import pickle\n",
    "import pandas as pd\n",
    "import csv\n",
    "import io, json"
   ]
  },
  {
   "cell_type": "code",
   "execution_count": 2,
   "metadata": {
    "collapsed": true
   },
   "outputs": [],
   "source": [
    "top_twitter_users = [\"@KingJames\", \"@KDTrey5\", \"@StephenCurry30\", \"@Cristiano\", \"@JohnCena\",\n",
    "                    \"@BarackObama\", \"@realDonaldTrump\", \"@HillaryClinton\", \"@BernieSanders\", \"@tedcruz\",\n",
    "                    \"@Oprah\", \"@RyanSeacrest\", \"@TheEllenShow\", \"@jimmykimmel\", \"@jimmyfallon\",\n",
    "                    \"@KimKardashian\",\"@justinbieber\", \"@KevinHart4real\", \"@ArianaGrande\", \"@ddlovato\"];"
   ]
  },
  {
   "cell_type": "code",
   "execution_count": 3,
   "metadata": {
    "collapsed": true
   },
   "outputs": [],
   "source": [
    "top_twitter_users_lowered = [x.lower() for x in top_twitter_users]"
   ]
  },
  {
   "cell_type": "code",
   "execution_count": 4,
   "metadata": {
    "collapsed": false
   },
   "outputs": [],
   "source": [
    "twitter_users_idx = defaultdict(int)\n",
    "for i in range(len(top_twitter_users)):\n",
    "    twitter_users_idx[top_twitter_users[i]]=i"
   ]
  },
  {
   "cell_type": "code",
   "execution_count": 5,
   "metadata": {
    "collapsed": false
   },
   "outputs": [],
   "source": [
    "all_tweets = pickle.load(open(\"all_tweets_half.p\", \"rb\"))\n",
    "all_tweets_old = pickle.load(open(\"all_tweets.p\", \"rb\"))"
   ]
  },
  {
   "cell_type": "code",
   "execution_count": 6,
   "metadata": {
    "collapsed": true
   },
   "outputs": [],
   "source": [
    "for i in all_tweets_old:\n",
    "    if i in top_twitter_users and i not in all_tweets:\n",
    "        all_tweets[i] = all_tweets_old[i]"
   ]
  },
  {
   "cell_type": "markdown",
   "metadata": {},
   "source": [
    "# Dealing with categorizing hashtags"
   ]
  },
  {
   "cell_type": "code",
   "execution_count": 171,
   "metadata": {
    "collapsed": false
   },
   "outputs": [
    {
     "data": {
      "text/plain": [
       "143"
      ]
     },
     "execution_count": 171,
     "metadata": {},
     "output_type": "execute_result"
    }
   ],
   "source": [
    "trends_hash = [\"#Harambe\", \"#TheDress\", \"#BlueandBlack\", \"#WhiteandGold\",\n",
    "                     \"#PokemonGo\", \"#blonde\", \"#showyourgrit\", \"#nevergiveup\", \"#confident\", \"#tbt\", \"#dopepic\",\n",
    "              \"#belief\", \"#striveforgreatness\", \"#1\", \"#thankyounotefriday!\", \"#qotd\", \"#gimmesugar\", \n",
    "               \"#periscope:\", \"#earntheday\", \"#respect\", \"#raw\", \"#lilswag\", \"#throwbackthursday\", \"#ad\", \n",
    "              \"#mondaymotivation\", \"#beliefstories\", \"#nmm\", \"#futurenow\", \"#findconfident\", \"#focus\",\n",
    "              \"#fixmylife\", \"#christmasandchill\", \"#mercurial\", \"#blessed\", \"#nomakeupmonday\", \"#appstorechat\",\n",
    "              \"#nikeplus\", \"#quoteoftheday\", \"#family\", \"#gg\", \"#livelovelaugh\", \"#keeppounding\",\n",
    "              \"#yourewelcomewednesday\", \"#classicjokefriday\", \"#bevocalspeakup\", \"#meerkat\", \"#everyday\",\n",
    "               \"#dosomething\", \"#fixovertime\", \"#beliefin3words\", \"#illshowyou\", \"#ipromise\", \n",
    "              \"#sistersunday\", \"#notmeus\", \"#liveloveandlaugh\",'#starwars','#throwbackthursday!','#emojiexploji','#mashupmonday'\n",
    "              ,'#fff','#mcm','#mannequinchallenge','#nationalbestfriendsday','#cybermonday','#flashbackfriday',\n",
    "               '#fbf','#tbt:','#giveback','#wearorange','#valentinesday','#throwback','#fathersday','#ttf','#wearefamily'\n",
    "              ,'#squadgoals','#periscope','#bekindtooneanother','#yeezy','#mobsquad','#streetstyle',\n",
    "               '#saturdaynightonline','#dreamfearlessly','#shareacoke','#snapchat','#happyhalloween','#happythanksgiving',\n",
    "              '#happynewyear','#happyvalentinesday','#aprilfools','#happyholidays','#merrychristmas','#nationaldogday',\n",
    "              '#sparkbrilliance', '#raiseit', '#powerhair', '#clearnodandruff', '#heritage', '#techpack', '#perfectmatch',\n",
    "              '#visitmadeira', '#hahn', '#belief.', '#in', '#indeepshift', '#queensugar.', '#wherearetheynow', '#vivaglam',\n",
    "              '#uninterrupted', '#micdrop', '#durantemoji', '#productporn','#sparklingicecontest', '#icymi-', '#icymi:',\n",
    "              '#icymi', '#catweek', '#becoming', '#wedemboyz', '#oh', '#brightfutures', '#thankyounotefriday',\n",
    "              '#12daysofchristmassweaters', '#overandoveragain', '#boyslikeyou', '#yourewelcomewednesday!', '#littlebigshots',\n",
    "              '#tbt!', '#mememonday!', '#groundhogday!', '#fallsongs', '#worstfirstdate', '#myfamilyisweird', '#whyimsingle',\n",
    "              '#weddingfail', '#minorityreport', '#youtubechallenge', '#fingerofshame', '#distinction', '#omg', '#tbt,',\n",
    "              '#ionceoverheard', '#igotbusted', '#awwhellsnow']\n",
    "trends_hash_lowered = [x.lower() for x in trends_hash]\n",
    "trends_hash_lowered_nohash = [x[1:] for x in trends_hash_lowered]\n",
    "len(trends_hash)"
   ]
  },
  {
   "cell_type": "code",
   "execution_count": 172,
   "metadata": {
    "collapsed": false
   },
   "outputs": [
    {
     "data": {
      "text/plain": [
       "212"
      ]
     },
     "execution_count": 172,
     "metadata": {},
     "output_type": "execute_result"
    }
   ],
   "source": [
    "celeb_hash = [\"#OscarsSoWhite\", \"#Oscars\", \"#LaLaLand\", \"#therevenant\", \"#moonlight\", \"#lemonade\",\n",
    "             \"#GameofThrones\",\"buzz\",\"#OneDirection\", \"#FallonTonight\", \"#whatnow\", \"#kevinhartwhatnow\", \"#purpose\",\n",
    "             \"#greenleaf\", \"#shadesofblue\", \"#whatdoyoumean\", \"#kevmoji\", \"#queensugar\", \"#centralintelligence\",\n",
    "             \"#americangrit\", \"#coolforthesummer\", \"#purposetour\", \"#kuwtk\", \"#comedicrockstarshit\", \"#hustlehart\",\n",
    "             \"#idol\", \"#seacreststudios\", \"#grammys\", \"#sorry\", \"#harts\", \"#movewithhart\", \"#askdemi\",\n",
    "              \"#laughdancepartner\", \"#preorderpurpose\", \"#eredcarpet\", \"#rockineve\", \"#amas\", \"#kimoji\",\n",
    "             \"#futurenowtour\", \"#idolauditions\", \"#idolfinale\", \"#hondacivictour\", \"#whereareunow\", \"#emmys\",\n",
    "             \"#meantweets\", \"#dangerouswoman\", \"#kimmel\", \"#coldwater\", \"#vmas\", \"#devonnebydemi\",\n",
    "             \"#dangerouswomantour\", \"#idolpremiere\", \"#purposeworldtour\", \"#lovatics\", \"#iheartawards\",\n",
    "             \"#knockknocklive\", \"#sidetoside\", \"#beliebers\", \"#demiworldtour\", \"#liewitnessnews\", \"#intoyou\",\n",
    "             \"#whatnowtour\", \"#loveyourself\", \"#kimojimerch\", \"#iheartradio\", \"#kevmojis\", \"#thebachelor\",\n",
    "             \"#nowplaying\", \"#findingdory\", \"#goldenglobes\", \"#kimmel4vpomg\", \"#fallontonightla\", \"#wangotango\",\n",
    "             \"#kimkardashiangame\", \"#bieberroast\", \"#sxsw\", \"#trainwreck\", \"#bts\", \"#canneslions\",\n",
    "             \"#nowplayingconfident\", \"#fallonmono\", \"#supersoulsessions\", \"#selma50\", \"#roadtorio\",\n",
    "             \"#teenchoice\", \"#biebertoday\", \"#hollywoodweek\", \"#masterclass\", \"#hittingtheatersoctober14th\",\n",
    "             \"#whatdoyoumean\", \"#purposealbum\", \"#mybrotherskeeper\", \"#iheartfestival\", \"#totalbellas\",\n",
    "             \"#askobc\", \"#whatdoyoumean?\", \"#demilovato\", \"#teamnoah\", \"#eveningwithjb\", \"#purposethemovement\",\n",
    "             \"#elleninnyc\", \"#carpoolkaraoke\", \"#justinbieber\", \"#bieberweek\", \"#justmoji\", \"#bestfanarmy\",\n",
    "             \"#demionamas\", \"#snl\", \"#potusonfallon\", \"#hairspraylive\", \"#ari\",'#gq','#bachelor',\"#bachelorette\",\n",
    "              '#theforceawakens','#vma','#avengers','#rogueone','#thebabybachelorette','#thebachelor,','#thebachelor.'\n",
    "             ,'#bbmas','#thebachelorette','#teamnick','#mattdamon','#bodysay','#lovatics!','#kimmelschoolofperfectacting',\n",
    "              '#ilovekp','#ellendesignonhgtv','#whereareunowmusicvideo','#stonecold','#scandalhigh','#survivorsremorse'\n",
    "             ,'#kimnofilter','#bieberonseacrest','#whatnow.','#cr7underwear','#selectedbybeckham','#cr7drive','#cr7shirts'\n",
    "             ,'#bachelornation','#robandchyna','#got','#ellenqanda','#johnivey','#scandal','#ellenpremiere','#kiisjingleball'\n",
    "             ,'#kimkardashiangame!','#backstageatellen','#thesecretlifeofpets','#frankiebyarianagrande',\n",
    "             '#batmanvsuperman','#womeninmusic','#selmamovie','#nickjonas', '#cristianoandsfr', '#cristianoronaldolegacy',\n",
    "             '#cristianoronaldolegacy.', '#ruby', '#oprahsbookclub', '#dangerouswomantonight', '#dangerouswomandiaries',\n",
    "             '#2days', '#5days', '#purpose.', '#justinformmva', '#beliebers!', \"#1day\", '#gqparty', '#hartofthecity',\n",
    "             '#secretlifeofpets', '#themasterclass', '#kdlaw', '#kdcf', '#kevindurant', '#kkwapp', '#lipsyncbattle', \n",
    "             \"#fallon\", '#demiongma', '#coolforthesummer!', '#kd7', '#kimkardashianhollywood', '#pedestrianquestion',\n",
    "             '#3rq', '#kimmelinaustin', '#nbc', '#10tomorrow', '#pedestrianquestion', '#ellen2k', '#ellens12days!',\n",
    "             '#ellens12days', '#4ellen', '#edbyellen', '#findingdory!', '#getelleyonthetelly', '#adellen', '#pcas',\n",
    "             '#chevymalibu', '#1donellen', '#12daysofchristmassweaters!', '#fallontonightlive', '#hamiltonmixtape',\n",
    "             '#fallonlive', '#hardwiredtoselfdestruct', '#thankyounotes', '#emailfail', '#demipathtofame',\n",
    "             '#judgejames', '#thetyleroakleyshow', '#kimmelinbrooklyn']\n",
    "celeb_hash_lowered = [x.lower() for x in celeb_hash]\n",
    "len(celeb_hash)"
   ]
  },
  {
   "cell_type": "code",
   "execution_count": 173,
   "metadata": {
    "collapsed": false
   },
   "outputs": [
    {
     "data": {
      "text/plain": [
       "98"
      ]
     },
     "execution_count": 173,
     "metadata": {},
     "output_type": "execute_result"
    }
   ],
   "source": [
    "sports_hash = [\"#FifaWWC\", \"#Warriors\", \"#SBXLIX\", \"#SB49\", \"#NBA\", \"#NFL\", \"#Rio2016\",\n",
    "              \"#Rio\", \"#Olympics\", \"#FifaWC\", \"#WorldCup\", \"#SuperBowl50\", \"#SuperBowl51\",\n",
    "              \"#superbowl\", \"#football\", \"#dubnation\", \"#supersoulsunday\", \"#olympiclatenight\", \"#ngu\",\n",
    "              \"#sdlive\", \"#nbavote\", \"#wcw\", \"#hlr\", \"#31to31\", \"#nbafinals\", \"#kd9\", \"#sb50\",\n",
    "              \"#hustleharts\", \"#worldseries\", \"#gobucks\", '#allforthegame','#royalrumble','#theland','#wrestlemania',\n",
    "              '#sb51','#nba2k16','#openingceremony','#espys','#tombrady','#ufc190','#nbacommunityassist','#superbowl.'\n",
    "              ,'#uswnt','#nike','#nbaallstar','#cowboysnation','#rio2016!','#badsuperbowlparty','#olympiclatenight.',\n",
    "               '#kd8','#sc30','#currytwo','#thankspaul','#motivation','#halamadrid','#rwtw','#ronaldofilm','#arewerunningtoday?',\n",
    "              '#leadontrade:','#lebron13','#distinctionrio','#clevelandhustles','#usabmnt','#ufc195','#ballondor',\n",
    "               '#bringyourgame','#dontcrackunderpressure','#legend','#stayfearless','#gswvscle','#cenareturns'\n",
    "              ,'#focused','#curryone','#mlballstarconcert','#mambaday','#wwebattleground','#closingceremony',\n",
    "              '#cfbplayoff','#cr7footwear','#wwenetwork','#sfg', '#strikeseries', '#clearmen.', '#ballondor2014',\n",
    "              '#supersoullsunday', '#euro2016.', '#lastnightfiles', '#kickgamecray', '#hookem', '#livetoplay',\n",
    "              '#builditandtheywillball', '#roccityclassic', '#houseofhoops',\"#justdoit\", '#24on24',\n",
    "              '#teamslyce', '#tcc', '#nbcthewall']\n",
    "sports_hash_lowered = [x.lower() for x in sports_hash]\n",
    "sports_hash_nohash = [x[1:] for x in sports_hash_lowered]\n",
    "len(sports_hash)"
   ]
  },
  {
   "cell_type": "code",
   "execution_count": 174,
   "metadata": {
    "collapsed": false
   },
   "outputs": [
    {
     "data": {
      "text/plain": [
       "116"
      ]
     },
     "execution_count": 174,
     "metadata": {},
     "output_type": "execute_result"
    }
   ],
   "source": [
    "political_hash = [\"#Obama\", \"#Election2016\", \"#Trump\", \"#DonaldTrump\",\"#ImWithHer\",\n",
    "                 \"#MakeAmericaGreatAgain\", \"#hillaryclinton\", \"#conservative\",\n",
    "                 \"republican\", \"#liberal\", \"#democrat\", \"#teaparty\", \"#president\", \"#trump2016\",\n",
    "                 \"#doyourjob\", \"#sotu\", \"#debatenight\", \"#debate\", \"#cruzcrew\", \"#choosecruz\", \"#maga\",\n",
    "                  \"#americafirst\", \"#vpdebate\", \"#demsinphilly\", \"#rncincle\", \"#draintheswamp\",\n",
    "                 \"#cruzcrew:\", \"#imwithyou\", \"#scotus\", \"#bigleaguetruth\", \"#demdebate\", \"#cruztovictory\",\n",
    "                 \"#feelthebern\", \"#actonclimate.\", \"#crookedhillary\", \"#ourfirststand\", \"#trumppence16\",\n",
    "                 \"#debates2016\",\"#votetrump\", \"#cruz2016\", \"#primaryday\", \"#decision2016\", \"#debates\",\n",
    "                 \"#ourrevolution\", \"#wiprimary\", \"#inprimary\", \"#teamtee\", \"#nov13\", \"#cnndebatenight\",\n",
    "                 \"#trumptrain\", \"#dothework\", \"#cruzcrew!\", \"#choosecruz:\", \"#rncwithbernie\", \"#tcot\",\n",
    "                 \"#goptownhall\", \"#nyprimary\", \"#ofafallsummit\", \"#makeamericagreatagain!\", \"#draintheswamp!\",\n",
    "                 \"#stoptppnow\", \"#ivoted\", \"#cruzcarly2016\", \"#debatewithbernie\",'#demconvention','#vote',\n",
    "                 '#forthepeople','#madeinamerica','#ofthepeople','#cruzfamily','#keeptexasred','#bernieinthebronx',\n",
    "                 '#birdiesanders','#nationalvoterregistrationday','#tedcruz','#makeamericagreatagain\"','#trumprally'\n",
    "                 ,'#cruzcarly','#nhpolitics','#lovetrumpshate','#cruzcrew,','#electionday','#neverhillary','#trumptrain\"'\n",
    "                 ,'#makeamericasafeagain','#demconvention:','#wisconsinprimary','#gopdebate','#dnc','#votetrumppence16',\n",
    "                 '#supertuesday','#nevertrump','#cpac2017','#gotvforbernie','#gop','#maga!','#caforbernie','#gopconvention'\n",
    "                 ,'#drunkdonaldtrump','#copolitics','#cruzintovictory','#azprimary','#bernieintheie', '#shewon',\n",
    "                 '#cruzonsquawk', '#cnntownhall', '#kellyfile', '#thankyoutour2016', '#trumpyourself', '#alsmithdinner',\n",
    "                 '#demsinphl', '#virwinia', '#wemadehistory', '#cnnsotu', '#demtownhall', '#presidentsday']\n",
    "political_hash_lowered = [x.lower() for x in political_hash]\n",
    "political_hash_nohash = [x[1:] for x in political_hash_lowered]\n",
    "len(political_hash)"
   ]
  },
  {
   "cell_type": "code",
   "execution_count": 175,
   "metadata": {
    "collapsed": false
   },
   "outputs": [
    {
     "data": {
      "text/plain": [
       "110"
      ]
     },
     "execution_count": 175,
     "metadata": {},
     "output_type": "execute_result"
    }
   ],
   "source": [
    "news_hash = [\"#CharlieHebdo\", \"#JeSuisParis\", \"#PrayforParis\", \"#Ebola\", \"#IamCait\",\n",
    "            \"#CaitlynJenner\", \"#ISIS\", \"#Aleppo\", \"#Syria\", \"#RefugeesWelcome\", \"#IStandWithAhmad\",\n",
    "            \"#BLM\", \"#BlackLivesMatter\", \"#LoveWins\", \"#MarriageEquality\", \"#actonclimate\", \"#getcovered\",\n",
    "            \"#irandeal\", \"#company\", \"#fullrepeal:\",\"#fullrepeal\", \"#Obamacare\", \"#Brexit\", \"#loveislove\",\n",
    "            \"#focustonight\", \"#leadontrade\", \"#leadonleave\", \"#actonclimate:\", \"#austin\", \"#acaworks\",\n",
    "            \"#txlege\", \"#bythepeople\", \"#tpp\", \"#nodapl\", \"#stopgunviolence\", \"#stand4life\", \"#collegeopportunity\",\n",
    "            \"#2a\", \"#marchon\", \"#teamrorke\", \"#hhm\", '#neverforget','#rallytogether','#immigrationaction','#obamacare,',\n",
    "             '#equalpayday','#obamacare.','#love','#parisagreement','#womensmarch','#mlkday','#selma','#obamatownhall',\n",
    "             '#obamacarefail','#paris','#orlando','#immigration','#prayfordallas','#raisethewage.','#lgbt','#unitedonclimate',\n",
    "            '#mentalhealth.','#beheard','#dallaspolice','#strongertogether','#usa','#abolishtheirs:','#disarmhate',\n",
    "             '#raisethewage','#getcovered.','#getcovered:','#mentalhealth','#stoptpp','#enoughalready',\n",
    "             '#findyourpark','#withoutafight','#fedsoc2016','#iwill','#dday','#irandeal.','#dallas','#handshigh',\n",
    "             '#selmatweetup','#freedom','#standwithwomen','#internationalwomensday','#womensequalityday','#veteransday',\n",
    "            '#nbcnewsforum','#dallasstrong','#obamacare:','#inauguration','#marchforlife','#equalpaynow','#potus','#ces2016'\n",
    "            ,'#stopgunviolence.','#happy4th','#hannity','#hello2017','#doyourjob.','#savehealthcare','#blackwomeninhollywood',\n",
    "            '#cleanwaterrules','#betterwithobamacare:','#stopgunviolence:','#defundplannedparenthood', '#texas', \n",
    "             '#abolishtheirs', '#waterforflint']\n",
    "news_hash_lowered = [x.lower() for x in news_hash]\n",
    "news_hash_nohash = [x[1:] for x in news_hash_lowered]\n",
    "len(news_hash)"
   ]
  },
  {
   "cell_type": "code",
   "execution_count": 176,
   "metadata": {
    "collapsed": true
   },
   "outputs": [],
   "source": [
    "all_hash = news_hash_lowered+political_hash_lowered+sports_hash_lowered+celeb_hash_lowered+trends_hash_lowered"
   ]
  },
  {
   "cell_type": "code",
   "execution_count": 177,
   "metadata": {
    "collapsed": true
   },
   "outputs": [],
   "source": [
    "topic_dict = {}\n",
    "for i in top_twitter_users:\n",
    "    topic_dict[i]={\"trends\":0, \"celeb\":0, \"sports\":0, \"political\":0, \"news\":0, \"other\":0}"
   ]
  },
  {
   "cell_type": "code",
   "execution_count": 178,
   "metadata": {
    "collapsed": false
   },
   "outputs": [],
   "source": [
    "# classifying tweets based on hashtags\n",
    "for user in all_tweets:\n",
    "    for tweet in all_tweets[user]:\n",
    "        text = tweet['text'].lower()\n",
    "        c_t = 0\n",
    "        for i in trends_hash_lowered:\n",
    "            if i in text:# or i[1:] in text:\n",
    "                c_t+=1\n",
    "        if c_t > 0:\n",
    "            topic_dict[user]['trends']+=1\n",
    "        c_c = 0\n",
    "        for i in celeb_hash_lowered:\n",
    "            if i in text:# or i[1:] in text:\n",
    "                c_c+=1\n",
    "        if c_c > 0 or \"whereare\" in text:\n",
    "            topic_dict[user]['celeb']+=1\n",
    "        c_s = 0\n",
    "        for i in sports_hash_lowered:\n",
    "            if i in text:# or i[1:] in text:\n",
    "                c_s+=1\n",
    "        if c_s > 0:\n",
    "            topic_dict[user]['sports']+=1\n",
    "        c_p = 0\n",
    "        for i in political_hash_lowered:\n",
    "            if i in text:# or i[1:] in text:\n",
    "                c_p+=1\n",
    "        if c_p > 0 or '2026' in text or 'maga' in text:\n",
    "            topic_dict[user]['political']+=1\n",
    "        c_n = 0\n",
    "        for i in news_hash_lowered:\n",
    "            if i in text:# or i[1:] in text:\n",
    "                c_n+=1\n",
    "        if c_n > 0:\n",
    "            topic_dict[user]['news']+=1\n",
    "        if c_t == 0 and c_c == 0 and c_s == 0 and c_p == 0 and c_n ==0:\n",
    "            if len(text.split())>5 and \"#\" in text:\n",
    "                topic_dict[user]['other']+=1"
   ]
  },
  {
   "cell_type": "code",
   "execution_count": 179,
   "metadata": {
    "collapsed": false
   },
   "outputs": [],
   "source": [
    "t_counts = np.zeros(len(top_twitter_users))\n",
    "c_counts = np.zeros(len(top_twitter_users))\n",
    "s_counts = np.zeros(len(top_twitter_users))\n",
    "p_counts = np.zeros(len(top_twitter_users))\n",
    "n_counts = np.zeros(len(top_twitter_users))\n",
    "o_counts = np.zeros(len(top_twitter_users))\n",
    "for user in topic_dict:\n",
    "    index_user = twitter_users_idx[user]\n",
    "    t_counts[index_user] = topic_dict[user]['trends']\n",
    "    c_counts[index_user] = topic_dict[user]['celeb']\n",
    "    s_counts[index_user] = topic_dict[user]['sports']\n",
    "    p_counts[index_user] = topic_dict[user]['political']\n",
    "    n_counts[index_user] = topic_dict[user]['news']\n",
    "    o_counts[index_user] = topic_dict[user]['other']"
   ]
  },
  {
   "cell_type": "code",
   "execution_count": 180,
   "metadata": {
    "collapsed": false
   },
   "outputs": [],
   "source": [
    "aggTable = pd.DataFrame({'twitter_id': top_twitter_users, 'trends': t_counts, 'celeb':c_counts,\n",
    "                         'political': p_counts, 'news': n_counts,\n",
    "                        'sports':s_counts, 'other':o_counts})\n",
    "aggTable.to_csv('categorical_counts.csv')"
   ]
  },
  {
   "cell_type": "markdown",
   "metadata": {
    "collapsed": true
   },
   "source": [
    "## Creating dataset storing top hashtags for each user"
   ]
  },
  {
   "cell_type": "code",
   "execution_count": 186,
   "metadata": {
    "collapsed": false
   },
   "outputs": [],
   "source": [
    "top_hashtags = {}\n",
    "for user in all_tweets:\n",
    "    ht_lst = []\n",
    "    for tweet in all_tweets[user]:\n",
    "        for word in tweet['text'].split():\n",
    "            if word[0]==\"#\":\n",
    "                ht_lst.append(word.lower())\n",
    "    counts = Counter(ht_lst)\n",
    "    top_hashtags[user]=[]\n",
    "    sorted_counts = sorted(counts.items(), key=operator.itemgetter(1), reverse=True)[0:50]\n",
    "    for (ht, c) in sorted_counts:\n",
    "        category = \"other\"\n",
    "        if ht in trends_hash_lowered:\n",
    "            category = \"trends\"\n",
    "        elif ht in celeb_hash_lowered:\n",
    "            category = \"celeb\"\n",
    "        elif ht in sports_hash_lowered:\n",
    "            category = \"sports\"\n",
    "        elif ht in political_hash_lowered:\n",
    "            category = \"political\"\n",
    "        elif ht in news_hash_lowered:\n",
    "            category = \"news\"\n",
    "        top_hashtags[user]\n",
    "        top_hashtags[user].append({\"text\": ht, \"size\": c, \"category\": category})"
   ]
  },
  {
   "cell_type": "code",
   "execution_count": 188,
   "metadata": {
    "collapsed": true
   },
   "outputs": [],
   "source": [
    "with io.open('user_hashtag_counts.json', 'w', encoding='utf-8') as f:\n",
    "  f.write(unicode(json.dumps(top_hashtags, ensure_ascii=False)))"
   ]
  }
 ],
 "metadata": {
  "anaconda-cloud": {},
  "kernelspec": {
   "display_name": "Python 2",
   "language": "python",
   "name": "python2"
  },
  "language_info": {
   "codemirror_mode": {
    "name": "ipython",
    "version": 2
   },
   "file_extension": ".py",
   "mimetype": "text/x-python",
   "name": "python",
   "nbconvert_exporter": "python",
   "pygments_lexer": "ipython2",
   "version": "2.7.11"
  }
 },
 "nbformat": 4,
 "nbformat_minor": 0
}
